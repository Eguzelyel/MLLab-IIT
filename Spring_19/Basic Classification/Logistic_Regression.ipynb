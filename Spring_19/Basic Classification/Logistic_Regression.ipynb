{
 "cells": [
  {
   "cell_type": "markdown",
   "metadata": {},
   "source": [
    "# Logistic Regression on IMDB Data\n",
    "\n",
    "Main purpose of this tutorial is to remember Logistic Regression implementation when I forget details about the concept."
   ]
  },
  {
   "cell_type": "markdown",
   "metadata": {},
   "source": [
    "### IMDB Data Analysis"
   ]
  },
  {
   "cell_type": "code",
   "execution_count": 71,
   "metadata": {},
   "outputs": [
    {
     "name": "stdout",
     "output_type": "stream",
     "text": [
      "Loading the imdb data\n",
      "Train Data loaded.\n",
      "Test Data loaded.\n"
     ]
    }
   ],
   "source": [
    "import imdb_functions # Includes load_data()\n",
    "import numpy as np\n",
    "\n",
    "# The data is IMDB data, change the path to data directory.\n",
    "X_train_corpus , y_train, X_test_corpus , y_test = imdb_functions.load_imdb(path = \"../../Fall_19/aclImdb\")"
   ]
  },
  {
   "cell_type": "code",
   "execution_count": 72,
   "metadata": {},
   "outputs": [
    {
     "name": "stdout",
     "output_type": "stream",
     "text": [
      "Total Data: 25000\n",
      "# positive labels: 25000\n",
      "# negative labels: 25000\n",
      "# positive/negative ratio in both train and test: 0.5\n"
     ]
    }
   ],
   "source": [
    "print(\"Total Data: \"+ str(len(X_train_corpus)))\n",
    "num_positive=len(y_train.nonzero()[0])+len(y_test.nonzero()[0])\n",
    "num_negative=len(y_train)+len(y_test)-num_positive\n",
    "print(\"# positive labels: \"+ str(num_positive) + \"\\n# negative labels: \"+ str(num_negative))\n",
    "\n",
    "print(\"# positive/negative ratio in both train and test: \" +str(len(y_train.nonzero()[0])/len(X_train_corpus)))"
   ]
  },
  {
   "cell_type": "markdown",
   "metadata": {},
   "source": [
    "------------------"
   ]
  },
  {
   "cell_type": "markdown",
   "metadata": {},
   "source": [
    "## Logistic Regression\n",
    "A naive implementation "
   ]
  },
  {
   "cell_type": "code",
   "execution_count": 9,
   "metadata": {},
   "outputs": [],
   "source": [
    "import re # To tokenize without using CountVectorizer\n",
    "import os\n",
    "import sklearn as sk\n",
    "\n",
    "from sklearn.feature_extraction import stop_words\n",
    "from sklearn.preprocessing import Binarizer\n",
    "from sklearn.feature_extraction.text import CountVectorizer\n",
    "from sklearn.model_selection import train_test_split, ShuffleSplit\n",
    "from sklearn.linear_model import LogisticRegression"
   ]
  },
  {
   "cell_type": "code",
   "execution_count": 4,
   "metadata": {
    "scrolled": false
   },
   "outputs": [
    {
     "data": {
      "text/plain": [
       "\"Beast Wars is a show that is over-hyped, overpraised and overrated. Let's meet the characters of this obnoxious show whose creators must have been on acid to try and make a show like this.<br /><br />Cheetor- Seriously, they need to have censor bars on this guy. How come he dosen't creep out the viewers having the same voice as baby Taz? (at least Razzoff from Rayman 3: Hoodlum Havoc is voiced by Slip & Slide) Action Blast- If you want a line of show that suck, get G4 Tranceformers Cybertron- A show that should go down in a toilet. Good Job Creators (Sarcasm) Show it self-Retarded & boring (at least the Super Mario games are better) This show had a lot of followers sayin' bring it back, but I believe that it was cancelled for its own good.\""
      ]
     },
     "execution_count": 4,
     "metadata": {},
     "output_type": "execute_result"
    }
   ],
   "source": [
    "X_train_corpus[2]"
   ]
  },
  {
   "cell_type": "code",
   "execution_count": 5,
   "metadata": {
    "scrolled": true
   },
   "outputs": [
    {
     "data": {
      "text/plain": [
       "['this',\n",
       " 'movie',\n",
       " 'is',\n",
       " 'another',\n",
       " 'christian',\n",
       " 'propaganda',\n",
       " 'film',\n",
       " 'in',\n",
       " 'the',\n",
       " 'line',\n",
       " 'of',\n",
       " 'the',\n",
       " 'omega',\n",
       " 'code',\n",
       " 'not',\n",
       " 'that',\n",
       " 'that',\n",
       " 'is',\n",
       " 'necessarily',\n",
       " 'bad',\n",
       " 'but',\n",
       " 'for',\n",
       " 'the',\n",
       " 'fact',\n",
       " 'that',\n",
       " 'most',\n",
       " 'propaganda',\n",
       " 'films',\n",
       " 'sacrifice',\n",
       " 'sincerity',\n",
       " 'and',\n",
       " 'realism',\n",
       " 'for',\n",
       " 'the',\n",
       " 'message',\n",
       " 'they',\n",
       " 'wish',\n",
       " 'to',\n",
       " 'deliver',\n",
       " 'if',\n",
       " 'you',\n",
       " 'enjoy',\n",
       " 'a',\n",
       " 'styrofoam',\n",
       " 'portrayal',\n",
       " 'of',\n",
       " 'life',\n",
       " 'on',\n",
       " 'the',\n",
       " 'streets',\n",
       " 'and',\n",
       " 'the',\n",
       " 'way',\n",
       " 'the',\n",
       " 'gospel',\n",
       " 'can',\n",
       " 'change',\n",
       " 'a',\n",
       " 'life',\n",
       " 'than',\n",
       " 'perhaps',\n",
       " 'you',\n",
       " 'may',\n",
       " 'enjoy',\n",
       " 'this',\n",
       " 'movie',\n",
       " 'i',\n",
       " 'say',\n",
       " 'save',\n",
       " 'your',\n",
       " 'money',\n",
       " 'and',\n",
       " 'rent',\n",
       " 'the',\n",
       " 'cross',\n",
       " 'and',\n",
       " 'the',\n",
       " 'switchblade',\n",
       " 'or',\n",
       " 'the',\n",
       " 'mission',\n",
       " 'when',\n",
       " 'will',\n",
       " 'christian',\n",
       " 'directors',\n",
       " 'learn',\n",
       " 'that',\n",
       " 'sometimes',\n",
       " 'people',\n",
       " 'say',\n",
       " 'bad',\n",
       " 'words',\n",
       " 'it',\n",
       " 'was',\n",
       " 'frustrating',\n",
       " 'to',\n",
       " 'see',\n",
       " 'criminals',\n",
       " 'depicted',\n",
       " 'who',\n",
       " 'are',\n",
       " 'not',\n",
       " 'allowed',\n",
       " 'to',\n",
       " 'swear',\n",
       " 'huh',\n",
       " 'criminals',\n",
       " 'say',\n",
       " 'bad',\n",
       " 'words',\n",
       " 'and',\n",
       " 'flat',\n",
       " 'characters',\n",
       " 'i',\n",
       " 'really',\n",
       " 'could',\n",
       " 'not',\n",
       " 'relate',\n",
       " 'to',\n",
       " 'also',\n",
       " 'it',\n",
       " \"would've\",\n",
       " 'been',\n",
       " 'great',\n",
       " 'if',\n",
       " 'the',\n",
       " 'movie',\n",
       " 'had',\n",
       " 'shown',\n",
       " 'some',\n",
       " 't',\n",
       " 'a',\n",
       " 'now',\n",
       " 'that',\n",
       " 'would',\n",
       " 'be',\n",
       " 'something',\n",
       " \"i'd\",\n",
       " 'like',\n",
       " 'to',\n",
       " 'pay',\n",
       " 'to',\n",
       " 'see',\n",
       " 'who',\n",
       " 'was',\n",
       " 'the',\n",
       " 'blockhead',\n",
       " 'who',\n",
       " 'compared',\n",
       " 'this',\n",
       " 'communion',\n",
       " 'wafer',\n",
       " 'thin',\n",
       " 'story',\n",
       " 'of',\n",
       " 'a',\n",
       " 'movie',\n",
       " 'with',\n",
       " 'the',\n",
       " 'boondock',\n",
       " 'saints',\n",
       " 'and',\n",
       " 'the',\n",
       " 'sting']"
      ]
     },
     "execution_count": 5,
     "metadata": {},
     "output_type": "execute_result"
    }
   ],
   "source": [
    "# Using Regex to convert paragraphs into words. Lower for consistency.\n",
    "re.findall(r\"(?u)\\b[\\w\\'/]+\\b\", X_train_corpus[0].lower())"
   ]
  },
  {
   "cell_type": "raw",
   "metadata": {},
   "source": [
    "# re.findall(r\"(?u)\\b[\\w\\'/]+\\b\",X_train_corpus[2])\n",
    "bag_of_words=[]\n",
    "for i in X_train_corpus:\n",
    "    words={}\n",
    "    for j in re.findall(r\"(?u)\\b[\\w\\'/]+\\b\",i.lower()):\n",
    "        if j not in bag_of_words:\n",
    "            words[j]=0\n",
    "        else:\n",
    "            words[j]+=1\n",
    "    bag_of_words.append(words)"
   ]
  },
  {
   "cell_type": "raw",
   "metadata": {},
   "source": [
    "bag_of_words[0]"
   ]
  },
  {
   "cell_type": "raw",
   "metadata": {},
   "source": [
    "max_repeat = max(bag_of_words, key=bag_of_words.get)\n",
    "max_count = bag_of_words[max_repeat]\n",
    "print(max_repeat, max_count)"
   ]
  },
  {
   "cell_type": "markdown",
   "metadata": {},
   "source": [
    "_Implement also dictionary. Count them._"
   ]
  },
  {
   "cell_type": "raw",
   "metadata": {},
   "source": [
    "train_bag_of_words=[]\n",
    "test_bag_of_words=[]\n",
    "for i in X_train_corpus:\n",
    "    train_bag_of_words.append(re.findall(r\"(?u)\\b[\\w\\'/]+\\b\",i.lower()))\n",
    "for i in X_test_corpus:\n",
    "    test_bag_of_words.append(re.findall(r\"(?u)\\b[\\w\\'/]+\\b\",i.lower()))\n",
    "train_bag_of_words[:5]"
   ]
  },
  {
   "cell_type": "raw",
   "metadata": {},
   "source": [
    "max(len(train_bag_of_words[i]) for i in range(25000))"
   ]
  },
  {
   "cell_type": "markdown",
   "metadata": {},
   "source": [
    "__Notes:__\n",
    "\n",
    "Miscommunication. I tried to implement LR without using built-in functions. It looks like I understood it wrongly. Abondaning the project, and implementing simple Logistic Regression."
   ]
  },
  {
   "cell_type": "markdown",
   "metadata": {},
   "source": [
    "--------------"
   ]
  },
  {
   "cell_type": "markdown",
   "metadata": {},
   "source": [
    "### Logistic Regression: the Second Try"
   ]
  },
  {
   "cell_type": "code",
   "execution_count": 23,
   "metadata": {},
   "outputs": [],
   "source": [
    "import sklearn as sk\n",
    "\n",
    "from sklearn.feature_extraction import stop_words\n",
    "from sklearn.feature_extraction.text import CountVectorizer\n",
    "from sklearn.model_selection import train_test_split\n",
    "from sklearn.linear_model import LogisticRegression"
   ]
  },
  {
   "cell_type": "markdown",
   "metadata": {},
   "source": [
    "Tokenization and Vectorization"
   ]
  },
  {
   "cell_type": "code",
   "execution_count": 40,
   "metadata": {},
   "outputs": [],
   "source": [
    "# Try with the configuration below\n",
    "# Regular LR (sklearn)... with countvectorizer, binary=True, n-gram = (1, 1).\n",
    "\n",
    "token = r\"(?u)\\b[\\w\\'/]+\\b\"\n",
    "vectorizer = CountVectorizer(token_pattern=token, \n",
    "                             binary=True,\n",
    "                             ngram_range=(1,1),\n",
    "                             min_df=5,\n",
    "                             stop_words=[\"the\",\"a\",\"of\",\"and\",\"br\",\"to\"])\n",
    "X_train_vector = vectorizer.fit_transform(X_train_corpus)\n",
    "X_test_vector = vectorizer.transform(X_test_corpus)"
   ]
  },
  {
   "cell_type": "code",
   "execution_count": 52,
   "metadata": {},
   "outputs": [
    {
     "data": {
      "text/plain": [
       "matrix([[153,  49,  78, ...,  13,  17,   5]], dtype=int64)"
      ]
     },
     "execution_count": 52,
     "metadata": {},
     "output_type": "execute_result"
    }
   ],
   "source": [
    "X_train_vector.sum(axis=0)"
   ]
  },
  {
   "cell_type": "code",
   "execution_count": 53,
   "metadata": {},
   "outputs": [
    {
     "data": {
      "text/plain": [
       "[('this', 22639),\n",
       " ('is', 22426),\n",
       " ('in', 22039),\n",
       " ('it', 21341),\n",
       " ('that', 20046),\n",
       " ('i', 19244),\n",
       " ('but', 17981),\n",
       " ('for', 17885),\n",
       " ('with', 17467),\n",
       " ('was', 16161)]"
      ]
     },
     "execution_count": 53,
     "metadata": {},
     "output_type": "execute_result"
    }
   ],
   "source": [
    "# Top 10 Words:\n",
    "sum_words = X_train_vector.sum(axis=0) \n",
    "words_freq = [(word, sum_words[0, idx]) for word, idx in vectorizer.vocabulary_.items()]\n",
    "words_freq = sorted(words_freq, key = lambda x: x[1], reverse=True)\n",
    "words_freq[:10]"
   ]
  },
  {
   "cell_type": "markdown",
   "metadata": {},
   "source": [
    "Fitting Logistic Regression"
   ]
  },
  {
   "cell_type": "code",
   "execution_count": 10,
   "metadata": {},
   "outputs": [],
   "source": [
    "lr = LogisticRegression()"
   ]
  },
  {
   "cell_type": "code",
   "execution_count": 38,
   "metadata": {},
   "outputs": [
    {
     "data": {
      "text/plain": [
       "LogisticRegression(C=1.0, class_weight=None, dual=False, fit_intercept=True,\n",
       "          intercept_scaling=1, max_iter=100, multi_class='ovr', n_jobs=1,\n",
       "          penalty='l2', random_state=None, solver='liblinear', tol=0.0001,\n",
       "          verbose=0, warm_start=False)"
      ]
     },
     "execution_count": 38,
     "metadata": {},
     "output_type": "execute_result"
    }
   ],
   "source": [
    "lr.fit(X_train_vector, y_train)"
   ]
  },
  {
   "cell_type": "code",
   "execution_count": 57,
   "metadata": {
    "scrolled": true
   },
   "outputs": [
    {
     "data": {
      "text/plain": [
       "array([0, 1, 1, ..., 1, 0, 0])"
      ]
     },
     "execution_count": 57,
     "metadata": {},
     "output_type": "execute_result"
    }
   ],
   "source": [
    "lr.predict(X_test_vector)"
   ]
  },
  {
   "cell_type": "code",
   "execution_count": 70,
   "metadata": {},
   "outputs": [
    {
     "data": {
      "text/plain": [
       "array([[8.34583173e-01, 1.65416827e-01],\n",
       "       [4.58080746e-01, 5.41919254e-01],\n",
       "       [8.32109572e-03, 9.91678904e-01],\n",
       "       ...,\n",
       "       [2.70875533e-04, 9.99729124e-01],\n",
       "       [9.95231088e-01, 4.76891166e-03],\n",
       "       [7.78532148e-01, 2.21467852e-01]])"
      ]
     },
     "execution_count": 70,
     "metadata": {},
     "output_type": "execute_result"
    }
   ],
   "source": [
    "lr.predict_proba(X_test_vector)"
   ]
  },
  {
   "cell_type": "code",
   "execution_count": 73,
   "metadata": {},
   "outputs": [
    {
     "data": {
      "text/plain": [
       "0.99764"
      ]
     },
     "execution_count": 73,
     "metadata": {},
     "output_type": "execute_result"
    }
   ],
   "source": [
    "lr.score(X_train_vector, y_train)"
   ]
  },
  {
   "cell_type": "code",
   "execution_count": 58,
   "metadata": {
    "scrolled": false
   },
   "outputs": [
    {
     "data": {
      "text/plain": [
       "0.87316"
      ]
     },
     "execution_count": 58,
     "metadata": {},
     "output_type": "execute_result"
    }
   ],
   "source": [
    "lr.score(X_test_vector, y_test)"
   ]
  },
  {
   "cell_type": "markdown",
   "metadata": {},
   "source": [
    "#### Some exciting stuff..\n",
    "Wooow, exctiing."
   ]
  },
  {
   "cell_type": "code",
   "execution_count": 65,
   "metadata": {
    "scrolled": true
   },
   "outputs": [
    {
     "data": {
      "text/plain": [
       "[('7/10', 3.177890766667874),\n",
       " ('8/10', 1.893127889566014),\n",
       " ('refreshing', 1.5762645208255615),\n",
       " ('appreciated', 1.5270690687232276),\n",
       " ('excellent', 1.5045416011211958),\n",
       " ('7', 1.4659954500589691),\n",
       " ('hooked', 1.434411192007017),\n",
       " ('perfect', 1.3946349369805615),\n",
       " ('superb', 1.3491485762585986),\n",
       " ('wonderfully', 1.3102587357216458)]"
      ]
     },
     "execution_count": 65,
     "metadata": {},
     "output_type": "execute_result"
    }
   ],
   "source": [
    "# Find biggest coefficients.\n",
    "coefs = list(zip(vectorizer.get_feature_names(), lr.coef_[0]))\n",
    "rank_coefs = sorted(coefs, key = lambda x: x[1], reverse=True)\n",
    "rank_coefs[:10]"
   ]
  },
  {
   "cell_type": "code",
   "execution_count": 68,
   "metadata": {
    "scrolled": true
   },
   "outputs": [
    {
     "data": {
      "text/plain": [
       "[('By now you\\'ve probably heard a bit about the new Disney dub of Miyazaki\\'s classic film, Laputa: Castle In The Sky. During late summer of 1998, Disney released \"Kiki\\'s Delivery Service\" on video which included a preview of the Laputa dub saying it was due out in \"1999\". It\\'s obviously way past that year now, but the dub has been finally completed. And it\\'s not \"Laputa: Castle In The Sky\", just \"Castle In The Sky\" for the dub, since Laputa is not such a nice word in Spanish (even though they use the word Laputa many times throughout the dub). You\\'ve also probably heard that world renowned composer, Joe Hisaishi, who scored the movie originally, went back to rescore the excellent music with new arrangements. Laputa came out before My Neighbor Totoro and after Nausicaa of the Valley of the Wind, which began Studio Ghibli and it\\'s long string of hits. And in my opinion, I think it\\'s one of Miyazaki\\'s best films with a powerful lesson tuckered inside this two hour and four minute gem. Laputa: Castle in the Sky is a film for all ages and I urge everyone to see it.<br /><br />For those unfamiliar with Castle in the Sky\\'s story, it begins right at the start and doesn\\'t stop for the next two hours. The storytelling is so flawless and masterfully crafted, you see Miyazaki\\'s true vision. And believe me, it\\'s one fantastic one. The film begins with Sheeta, a girl with one helluva past as she is being held captive by the government on an airship. Sheeta holds the key to Laputa, the castle in the sky and a long lost civilization. The key to Laputa is a sacred pendant she has which is sought by many, namely the government, the military and the air pirate group, the Dola gang (who Sheeta and Pazu later befriend). Soon, the pirates attack the ship and she escapes during the raid. She falls a few thousand feet, but the fall is soft and thanks to her pendant. As she floats down from the sky, Pazu, an orphan boy who survives by working in the mines, sees Sheeta and catches her. The two become fast friends, but thanks to her pendant, the two get caught up in one huge thrill ride as the Dola gang and government try to capture Sheeta. One action sequence after another, we learn all of the character\\'s motives and identities as we build to the emotional and action packed climax which will surely please all with it\\'s fantastic animation and wonderful dialogue. Plus somewhat twisty surprise. I think this film is simply remarkable and does hold for the two hour and four minute run time. The story is wonderful, as we peak into Hayao Miyazaki\\'s animation which has no limits. The setting of the film is a combo of many time periods. It does seem to take place at the end of the 1800s, but it is some alternante universe which has advanced technology and weapons. Laputa is also surprisingly a funny film. The film has tons of hilarious moments, almost equal to the drama and action the film holds. I think the funniest part is a fight scene where Pazu\\'s boss faces off against a pirate, and soon after a riot breaks out. It\\'s funny as we see the men compare their strength and the music fits right in with it perfectly.<br /><br />Now let\\'s talk about how the dub rates. An excellent cast give some great performances to bring these characters to life. Teen heartthrob James Van Der Beek plays the hero Pazu, who has a much more mature voice then in the Japanese version, where in the original he sounded more childlike. Either way, I think his voice is a nice fit with Pazu. Anna Paquin, the young Oscar winner from \"The Piano\", plays Sheeta. This is also a nice performance, but the voice is a bit uneven, she doesn\\'t stay true to one accent. At times she sounds as American as apple pie, but at other times she sounds like someone from New Zealand. The performance I most enjoyed however was of Coris Leachman, who played Mama Dola. Not only is this an excellent performance, but the voice and emotion she gives the character really brings it to life. If there was ever a live action Laputa movie (G-d forbid), she would be the one to play her, you can just imagine her in the role (well, somewhat). Luke Skywalker himself, Mark Hamill is Muska, and this is another top rate Hamill performance. You may be familiar with Hamill from a long line of voice work after he did the original Star Wars movies, but he renders Muska to full evil. His voice sounds like his regular voice and mix of the Joker, who he played for many episodes on the animated Batman series. Rounding out the cast is voice character actor Jim Cummings, who does a great, gruff job as the general and Andy Dick and Mandy Patakin as members of the Dola gang.<br /><br />Now let me talk about what really makes this dub special, Joe Hisaishi\\'s newly arranged music! For those who have never heard of him, Mr. Hisaishi does the music and like all of Miyazaki\\'s films, the music is very memorable. Each of his scores has it\\'s own personas which fits the particular film perfectly. Now, these new arrangements he has done are more \"American like\", which I think was the goal of the new recordings. Don\\'t worry, the classic tunes of the Japanese version are still here in great form. The score, to me, sounds to be arranged like this is a Hollywood blockbuster. It has more power, it has more emphasis, it\\'s clearer and deeper. The film\\'s prologue, the first seconds where we are introduced to the airships, has some new music (I am not sure, but I believe when we first saw the ships there was no music at all). But a majority of the music has new backdrops and more background music to enjoy. Things seem very enhanced. In a powerful scene, the music is more stronger then in the original versions. In a calm scene, it\\'s more calmer. Overall, I think many of you will be pleased with the new arrangements an mixes, I highly did myself, and personally think it helps improve the film. I prefer the new score over the old one, and I hope Disney will release or license the music rights to a full blown soundtrack.<br /><br />Another plus side to the dub is that the story remains faithful, and much of the original Japanese lines are intact. In Kiki, I\\'m sure a few lines where changed, and this is the same way, lines have been changed. But a majority are close or exactly the original lines and dialogue Miyazaki has written. I was afraid some excellent lines would be butchered, but they were there intact. Some new lines have been added as well which help out. But I am not sure whether to consider this a good thing or a bad thing, Disney DID NOT translate the ending song, it was in Japanese. I was mortified when they did completely new songs for the Kiki dub, but with this version it\\'s the original song... in Japanese. So I guess it\\'s good it\\'s still the original, but bad since a majority of people seeing this dub speak English.<br /><br />There is a big down side to this dub, and it deals with how the voices match the character\\'s lips. Of course in any dub it won\\'t be perfect, but I think in Kiki and Mononoke the dubbing of lines to match were much better executed (and Disney had a little bit more time with this one...). Some of the time everything matches perfect, some of the time it doesn\\'t completley match, and in a rare case, someone says something and the lips don\\'t move at all (there\\'s a scene where Sheeta chuckles and her mouth doesn\\'t move one bit).<br /><br />As far as things about the film itself, these are my thoughts. I thought the most amazing part of Laputa was the animation. From the opening sequence to the ending, the animation is so lush and detailed, you just have to watch in awe. You see the true nature of each character, true detail to their face with extreme close ups and action. You have to give a ton of credit for the effort that these animators put into this film. Everything is so well done and beautifully hand drawn, it\\'s like a moving piece of art. And to think, this was done in the mid 1980\\'s. The animation is quite different from Disney, Ghibli has it\\'s own distinctive flare which is very different, but very good. And after all these years, the colors look as vibrant as ever. Laputa also has tons of action sequences, lots of plane dogfights plus a few on ground. These sequences are so well done and so intriguing, it\\'s scary that they are comparable to a big budget action film. And the finale is just something you MUST see. The sound effects are pure and classic and fit explosions, guns firing and everything else well. And like all Miyazaki films, each one focuses on a different theme (i.g. Kiki: Confidence). This one has a great a lesson on greed and power. People don\\'t realize how greed can take over you, and how having too much power isn\\'t good. People are obsessed with power, and are greedy, and the main villian, Muska, greatly shows this.<br /><br />All in all, Laputa: Castle In The Sky was a great film to begin with, and is now improved for the most part. I am glad a more mainstream audience now have the chance to see this classic animated film in all it\\'s glory. With a great voice cast who put a lot into the film with the excellent redone musical score from Joe Hisaishi, Disney has done a nice job on this dub and is quite worthy. Though I think the voices matched the mouths better in the Kiki and Princess Mononoke Disney dubs, Castle In The Sky is still a great dub and is worth the long delays because now more can expierence a fantastic film.',\n",
       "  1.0),\n",
       " ('By 1987 Hong Kong had given the world such films as Sammo Hung\\'s `Encounters of the Spooky Kind\\' Chow Yun Fat in John Woo\\'s iconic `A Better Tomorrow\\', `Zu Warriors\\' and the classic `Mr Vampire\\'. Jackie Chan was having international success on video, but it was with `A Chinese Ghost Story\\' that HK cinema had its first real crossover theatrical hit in the West for many years.<br /><br />Western filmgoers had never seen anything like it. It was a film that took various ingredients that HK cinema had used for years (flying swordsman, wildly choreographed martial arts and the supernatural) and blended them to create a film that was unique in its look, feel and execution. Forget the poor and unnecessary sequels it spawned, this is the original and best.<br /><br />Director Siu-Tung Ching (still best known as an Action Choreographer on such films as Woo\\'s `A Better Tomorrow 2\\'/\\'The Killer\\') has, under the watchful eye of legendary Producer Tsui Hark, created a masterpiece of Fantasy/Horror cinema. And with such an expert crew at his disposal (no less than 6 Martial Arts Coordinators) the chances of the film being anything but wonderful would be unthinkable.<br /><br />The editing by the amazingly prolific David Wu (who wrote/directed `The Bride With White Hair 2\\' and edited such classic titles as `A Better Tomorrow 1/2/3\\', `Hardboiled\\' and the cult hit `The Club\\') is quite simply a work of genius. His crafting of the perfectly choreographed high flying, tree climbing sword fights makes them some of the best HK cinema has ever created. Fast moving, outlandish but never confusing they are, even today, the pinnacle of their art.<br /><br />The crew of cinematographers have also done miracles. This is a film where every shot is an expertly crafted painting. Where wonderful blue tinged night sequences, shrouded in an ever-present ghostly fog, are the breathtaking platform for our story to unfold. It\\'s a film where everything is used to weave a dreamlike beauty. Even the silken robes and dresses worn by Hsiao Tsing become living parts of the movie, whether in romantic sequences or battle scenes the ever present silk flows across the screen. Even a simple scene where Hsiao Tsing changes robes is turned into a thing of fluttering beauty as every skill on the set combines to create a most memorable scene from such a simple act. The sets are also amazing, giving an other worldly sense to the forests, and the temple and harshness to the scorched, flag filled wasteland of hell for the amazing finale. The production design by Zhongwen Xi deserves the highest praise.<br /><br />Another major factor to the films success is the music by Romeo Diaz and James Wong. Hong Kong films have given us some fantastic music and songs that have added so much to the success of a sequence, but on `A Chinese Ghost Story\\' the music is, quite simply, vital. From the opening song onwards the music becomes as important as the characters.<br /><br />The score is a perfect mixture of modern and traditional instruments. Drums, bells and guitars pound away over the action sequences to great effect, but it\\'s in the slower, achingly romantic pieces that it comes into it\\'s own. Here; flutes, strings and female choral effects create what are possibly the finest pieces of music heard in an HK film. Add to this the female vocal, stunningly beautiful song that plays over Tsau-shen\\'s and Hsiao Tsing\\'s love making, (nothing is ever seen, but the effect is wonderful. This is lovingly innocent movie romance) and you have a shining example of the power a film\\'s music can have.<br /><br />And we of course have the acting talent. Leslie Cheung (`A Better Tomorrow 1 & 2\\' and a very popular singer) is outstanding as the innocent tax collector. His work in the (thankfully mild) comic sequences is never over the top and his scenes with Joey Wang are played with just the right amount of passion and innocence.<br /><br />Joey Wang (who would later be mostly relegated to support roles in films like the Chow Yun Fat/Andy Lau classic \"God of Gamblers\") has never looked more radiant than how she does here. She is the epitome of ethereal beauty. Her portrayal of the tragic Hsiao Tsing is stunning. She shows her characters sadness at what she has become and what she is made to do, but also gives off a subtle eroticism in the scenes where she is luring the men to their gruesome deaths. Veteran actor Wu Ma (`Mr. Vampire\\', `Swordsman\\') is great fun as the wise, brave, but ever so grumpy, Yen. He treads a fine line between the eccentric and the annoying with practised ease. And what so easily could have been a character that could have harmed the film is actually wonderfully entertaining and memorable.<br /><br />But what about the monsters and beasties?, I hear you cry. Well they range from the rather crude but fun stop motion/animatronic zombies that inhabit the temple (resulting in a great running gag with constantly thwarted attempts to munch on the amusingly unsuspecting Tsau-shen), to the rather cheesy but surprisingly effective Lord Black. Complete with an arsenal of vicious flying heads, and quite outstanding wire work. Most of which has, to this day, never been topped.<br /><br />But the most outstanding effect and creation is the tree spirit\\'s killer tongue. We first encounter this thing with an `Evil Dead\\' style rushing camera effect as it powers down its victims throats to deliver a lethal French kiss that turns the victims into zombiefied husks. But later it\\'s shown in all its crazy glory. It can grow so big and long that it shoots through the forest after prey, rips apart trees, wraps itself around buildings and coils it\\'s slimy length around people before picking them up and throwing them against tree trunks!! It can even split open to reveal a fang filled mouth! It\\'s an outrageous idea that given the deeply romantic main plot shouldn\\'t work. But it does, to fantastic and unforgettable effect.<br /><br />So what all this adds up to is a classic example of Hong Kong movie making. A true team effort that has given us a truly ground breaking movie. It\\'s a film packed with wit, invention, action, monsters, martial arts, ghosts, fantastic ideas, lush visuals, beautiful music, and most important to it\\'s enduring charm, one of cinemas most moving romances.',\n",
       "  0.9999999999999962)]"
      ]
     },
     "execution_count": 68,
     "metadata": {},
     "output_type": "execute_result"
    }
   ],
   "source": [
    "# Most Confident Documents\n",
    "probs = lr.predict_proba(X_train_vector)\n",
    "positive_probs = list(zip(*probs))[1]\n",
    "word_prob = list(zip(X_train_corpus, positive_probs))\n",
    "prob_sorted = sorted(word_prob, key = lambda x: x[1], reverse=True)\n",
    "prob_sorted[:2]"
   ]
  },
  {
   "cell_type": "code",
   "execution_count": 69,
   "metadata": {
    "collapsed": true
   },
   "outputs": [
    {
     "data": {
      "text/plain": [
       "[('Those engaging the movie camera so early in the century must have figured out some of its potential very early on. This is a good story of a playboy type who needs money and inadvertently sells his soul to Satan for a lot of money. Unfortunately, the soul is his double and he must confront him frequently, tearing his life apart. There are some wonderful scenes with people fading out and, of course, the scenes when the two are on the stage at the same time. The middle part is a bit dull, but the Faustian story is always in the minds of the viewer. One thing I have to mention is the general unattractiveness of the people in the movie. Also, they pretty much shied away from much action which would have at least given some life to the thing. I first was made aware of this movie about 25 years ago and have finally been able to see it. I was not disappointed.',\n",
       "  0.0024264958418332983),\n",
       " ('I don\\'t know where to start; the acting, the special effects and the writing are all about as bad as you can possibly imagine. I can\\'t believe that the production staff reached a point where they said, \"Our job is done, time for it\\'s release\". I\\'m just glad the first two in the series never made it as far as the UK. I would actually recommend watching this film just so you can appreciate how well made most films are.<br /><br />I don\\'t know how any of the other IMDb users could find it scary when the \"terrifying\" dinosaurs waddle down corridors with rubber arms flailing around.',\n",
       "  0.002913160523428049)]"
      ]
     },
     "execution_count": 69,
     "metadata": {},
     "output_type": "execute_result"
    }
   ],
   "source": [
    "# Most Uncertain Documents.\n",
    "probs = lr.predict_proba(X_train_vector)\n",
    "positive_probs = [x[1] for x in probs]\n",
    "word_prob = list(zip(X_train_corpus, abs(np.array(positive_probs)-0.5))) # Notice -0.5\n",
    "prob_sorted = sorted(word_prob, key = lambda x: x[1], reverse=False)\n",
    "prob_sorted[:2]"
   ]
  },
  {
   "cell_type": "markdown",
   "metadata": {},
   "source": [
    "## RESULTS\n",
    "\n",
    "- Logistic Regression Test Accuracy for Ngram=(1,1) is 87.316%\n",
    "\n",
    "- The most frequent word is 'this'\n",
    "\n",
    "- The most effective word is '7/10'\n",
    "\n",
    "- The most confident document is fairly long and has words with more positive coefficients.\n",
    "\n",
    "- The most uncertain document is short documents."
   ]
  },
  {
   "cell_type": "code",
   "execution_count": null,
   "metadata": {},
   "outputs": [],
   "source": []
  }
 ],
 "metadata": {
  "kernelspec": {
   "display_name": "Python 3",
   "language": "python",
   "name": "python3"
  },
  "language_info": {
   "codemirror_mode": {
    "name": "ipython",
    "version": 3
   },
   "file_extension": ".py",
   "mimetype": "text/x-python",
   "name": "python",
   "nbconvert_exporter": "python",
   "pygments_lexer": "ipython3",
   "version": "3.6.5"
  }
 },
 "nbformat": 4,
 "nbformat_minor": 2
}
