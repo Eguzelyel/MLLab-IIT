{
 "cells": [
  {
   "cell_type": "markdown",
   "metadata": {},
   "source": [
    "# Logistic Regression on IMDB Data\n",
    "\n",
    "Main purpose of this tutorial is to remember Logistic Regression implementation when I forget details about the concept."
   ]
  },
  {
   "cell_type": "markdown",
   "metadata": {},
   "source": [
    "### IMDB Data Analysis"
   ]
  },
  {
   "cell_type": "code",
   "execution_count": 4,
   "metadata": {},
   "outputs": [
    {
     "name": "stdout",
     "output_type": "stream",
     "text": [
      "Loading the imdb data\n",
      "Train Data loaded.\n",
      "Test Data loaded.\n"
     ]
    }
   ],
   "source": [
    "import imdb_functions # Includes load_data()\n",
    "import numpy as np\n",
    "\n",
    "# The data is IMDB data, change the path to data directory.\n",
    "X_train_corpus , y_train, X_test_corpus , y_test = imdb_functions.load_imdb(path = \"../../Fall_19/aclImdb\")"
   ]
  },
  {
   "cell_type": "code",
   "execution_count": 30,
   "metadata": {},
   "outputs": [
    {
     "name": "stdout",
     "output_type": "stream",
     "text": [
      "Total Data: 25000\n",
      "# positive labels: 25000\n",
      "# negative labels: 25000\n",
      "# positive/negative ratio in both train and test: 0.5\n"
     ]
    }
   ],
   "source": [
    "print(\"Total Data: \"+ str(len(X_train_corpus)))\n",
    "num_positive=len(y_train.nonzero()[0])+len(y_test.nonzero()[0])\n",
    "num_negative=len(y_train)+len(y_test)-num_positive\n",
    "print(\"# positive labels: \"+ str(num_positive) + \"\\n# negative labels: \"+ str(num_negative))\n",
    "\n",
    "print(\"# positive/negative ratio in both train and test: \" +str(len(y_train.nonzero()[0])/len(X_train_corpus)))"
   ]
  },
  {
   "cell_type": "code",
   "execution_count": null,
   "metadata": {},
   "outputs": [],
   "source": []
  },
  {
   "cell_type": "code",
   "execution_count": null,
   "metadata": {},
   "outputs": [],
   "source": []
  },
  {
   "cell_type": "code",
   "execution_count": null,
   "metadata": {},
   "outputs": [],
   "source": []
  },
  {
   "cell_type": "code",
   "execution_count": null,
   "metadata": {},
   "outputs": [],
   "source": [
    "from sklearn.feature_extraction.text import CountVectorizer\n",
    "from sklearn.model_selection import train_test_split, ShuffleSplit\n",
    "from sklearn.linear_model import LogisticRegression"
   ]
  }
 ],
 "metadata": {
  "kernelspec": {
   "display_name": "Python 3",
   "language": "python",
   "name": "python3"
  },
  "language_info": {
   "codemirror_mode": {
    "name": "ipython",
    "version": 3
   },
   "file_extension": ".py",
   "mimetype": "text/x-python",
   "name": "python",
   "nbconvert_exporter": "python",
   "pygments_lexer": "ipython3",
   "version": "3.6.5"
  }
 },
 "nbformat": 4,
 "nbformat_minor": 2
}
