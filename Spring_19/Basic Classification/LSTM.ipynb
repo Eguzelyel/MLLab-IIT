{
 "cells": [
  {
   "cell_type": "markdown",
   "metadata": {},
   "source": [
    "# LSTM\n",
    "\n",
    "Implementing LSTM for IMDB data. For data analysis, look at Logistic_Regression.ipynb"
   ]
  },
  {
   "cell_type": "code",
   "execution_count": 1,
   "metadata": {},
   "outputs": [
    {
     "name": "stderr",
     "output_type": "stream",
     "text": [
      "Using TensorFlow backend.\n"
     ]
    }
   ],
   "source": [
    "import imdb_functions # For easy data load. Didn't need.\n",
    "import keras\n",
    "import numpy as np\n",
    "import pandas as pd\n",
    "import sklearn as sk\n",
    "\n",
    "from keras.datasets import imdb # Easier way to implement\n",
    "from keras.layers import LSTM, Dense, Input, Embedding, Reshape\n",
    "from keras.models import Model, save_model, load_model\n",
    "from keras.preprocessing.sequence import pad_sequences\n",
    "\n",
    "from time import time\n",
    "from keras.callbacks import TensorBoard\n",
    "\n",
    "from sklearn.model_selection import train_test_split\n",
    "from sklearn.feature_extraction.text import CountVectorizer"
   ]
  },
  {
   "cell_type": "code",
   "execution_count": 2,
   "metadata": {},
   "outputs": [
    {
     "name": "stdout",
     "output_type": "stream",
     "text": [
      "X_train: 25000 y_train: 25000 X_test: 25000 y_test: 25000\n"
     ]
    }
   ],
   "source": [
    "(X_train,y_train),(X_test,y_test)=imdb.load_data(num_words=5000)\n",
    "print(\"X_train:\", len(X_train),\"y_train:\", len(y_train),\"X_test:\",len(X_test),\"y_test:\", len(y_test))"
   ]
  },
  {
   "cell_type": "code",
   "execution_count": 3,
   "metadata": {},
   "outputs": [],
   "source": [
    "max_review_length = 500\n",
    "X_train = pad_sequences(X_train, maxlen=max_review_length, padding='pre')\n",
    "X_test = pad_sequences(X_test, maxlen=max_review_length)"
   ]
  },
  {
   "cell_type": "code",
   "execution_count": 7,
   "metadata": {},
   "outputs": [],
   "source": [
    "# Creating validation data \n",
    "X_test, X_val, y_test, y_val = train_test_split(X_test, y_test, test_size=0.2, random_state=42)"
   ]
  },
  {
   "cell_type": "code",
   "execution_count": 8,
   "metadata": {
    "scrolled": true
   },
   "outputs": [
    {
     "data": {
      "text/plain": [
       "((25000, 500), (25000,), (20000, 500), (20000,))"
      ]
     },
     "execution_count": 8,
     "metadata": {},
     "output_type": "execute_result"
    }
   ],
   "source": [
    "X_train.shape, y_train.shape, X_test.shape, y_test.shape, "
   ]
  },
  {
   "cell_type": "code",
   "execution_count": 5,
   "metadata": {},
   "outputs": [],
   "source": [
    "# Model setup\n",
    "input_nodes= Input(shape=(X_train.shape[1],))\n",
    "e = Embedding(5000,\n",
    "              32,\n",
    "              input_length=X_train.shape[1],\n",
    "              trainable=True)(input_nodes)\n",
    "lstm=LSTM(100)(e)\n",
    "output_nodes=Dense(1, activation='sigmoid')(lstm)\n",
    "\n",
    "#Build model\n",
    "model = Model(inputs=input_nodes, outputs=output_nodes)\n",
    "model.compile(optimizer='adam',\n",
    "              loss='binary_crossentropy',\n",
    "              metrics=['accuracy'])\n",
    "\n",
    "tensorboard = TensorBoard(log_dir=\"logs/{}\".format(time()))"
   ]
  },
  {
   "cell_type": "code",
   "execution_count": 9,
   "metadata": {
    "scrolled": true
   },
   "outputs": [
    {
     "name": "stdout",
     "output_type": "stream",
     "text": [
      "Train on 25000 samples, validate on 5000 samples\n",
      "Epoch 1/5\n",
      "25000/25000 [==============================] - 242s 10ms/step - loss: 0.4265 - acc: 0.8024 - val_loss: 0.3321 - val_acc: 0.8662\n",
      "Epoch 2/5\n",
      "25000/25000 [==============================] - 229s 9ms/step - loss: 0.2839 - acc: 0.8874 - val_loss: 0.3062 - val_acc: 0.8758\n",
      "Epoch 3/5\n",
      "25000/25000 [==============================] - 232s 9ms/step - loss: 0.3097 - acc: 0.8656 - val_loss: 0.5641 - val_acc: 0.6872\n",
      "Epoch 4/5\n",
      "25000/25000 [==============================] - 285s 11ms/step - loss: 0.2974 - acc: 0.8704 - val_loss: 0.3082 - val_acc: 0.8684\n",
      "Epoch 5/5\n",
      "25000/25000 [==============================] - 247s 10ms/step - loss: 0.1905 - acc: 0.9292 - val_loss: 0.3144 - val_acc: 0.8770\n"
     ]
    },
    {
     "data": {
      "text/plain": [
       "<keras.callbacks.History at 0x1291bf1d0>"
      ]
     },
     "execution_count": 9,
     "metadata": {},
     "output_type": "execute_result"
    }
   ],
   "source": [
    "model.fit(X_train, y_train, batch_size=64, epochs=5, validation_data=(X_val, y_val))"
   ]
  },
  {
   "cell_type": "code",
   "execution_count": 12,
   "metadata": {},
   "outputs": [
    {
     "name": "stdout",
     "output_type": "stream",
     "text": [
      "25000/25000 [==============================] - 72s 3ms/step\n"
     ]
    },
    {
     "data": {
      "text/plain": [
       "[0.15253367988467217, 0.94592]"
      ]
     },
     "execution_count": 12,
     "metadata": {},
     "output_type": "execute_result"
    }
   ],
   "source": [
    "model.evaluate(X_train, y_train)"
   ]
  },
  {
   "cell_type": "code",
   "execution_count": 11,
   "metadata": {},
   "outputs": [
    {
     "name": "stdout",
     "output_type": "stream",
     "text": [
      "20000/20000 [==============================] - 55s 3ms/step\n"
     ]
    },
    {
     "data": {
      "text/plain": [
       "[0.32600042741298674, 0.8714]"
      ]
     },
     "execution_count": 11,
     "metadata": {},
     "output_type": "execute_result"
    }
   ],
   "source": [
    "model.evaluate(X_test, y_test)"
   ]
  },
  {
   "cell_type": "raw",
   "metadata": {},
   "source": [
    "model.save(\"LSTM_5epoch2.model\")"
   ]
  },
  {
   "cell_type": "markdown",
   "metadata": {},
   "source": [
    "__Observations and Things Learned:__\n",
    "- Embedding layer makes models faster by matching words/numbers with meanings.\n",
    "- Without an embedding layer, we need a fairly complex model to run. Only one LSTM layers gets me 53% accuracy on train. More LSTM layers and different structures needed for a similar performance.\n",
    "- First time using TensorBoard.\n",
    "\n",
    "__Results:__\n",
    "- 94% accuracy on train, and 87% accuracy on test.\n",
    "- Took ~20 minutes to train.\n"
   ]
  }
 ],
 "metadata": {
  "kernelspec": {
   "display_name": "Python 3",
   "language": "python",
   "name": "python3"
  },
  "language_info": {
   "codemirror_mode": {
    "name": "ipython",
    "version": 3
   },
   "file_extension": ".py",
   "mimetype": "text/x-python",
   "name": "python",
   "nbconvert_exporter": "python",
   "pygments_lexer": "ipython3",
   "version": "3.6.5"
  }
 },
 "nbformat": 4,
 "nbformat_minor": 2
}
