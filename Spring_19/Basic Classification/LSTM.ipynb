{
 "cells": [
  {
   "cell_type": "markdown",
   "metadata": {},
   "source": [
    "# LSTM\n",
    "\n",
    "Implementing LSTM for IMDB data. For data analysis, look at Logistic_Regression.ipynb"
   ]
  },
  {
   "cell_type": "code",
   "execution_count": 1,
   "metadata": {},
   "outputs": [
    {
     "name": "stderr",
     "output_type": "stream",
     "text": [
      "Using TensorFlow backend.\n"
     ]
    }
   ],
   "source": [
    "import imdb_functions # For easy data load.\n",
    "import keras\n",
    "import numpy as np\n",
    "import pandas as pd\n",
    "import sklearn as sk\n",
    "\n",
    "from keras.datasets import imdb # Easier way to implement\n",
    "from keras.layers import LSTM, Dense, Input, Embedding, Reshape\n",
    "from keras.models import Model, save_model, load_model\n",
    "from keras.preprocessing.sequence import pad_sequences\n",
    "\n",
    "from sklearn.model_selection import train_test_split\n",
    "from sklearn.feature_extraction.text import CountVectorizer"
   ]
  },
  {
   "cell_type": "code",
   "execution_count": 8,
   "metadata": {},
   "outputs": [],
   "source": [
    "(X_train,y_train),(X_test,y_test)=imdb.load_data(num_words=5000)"
   ]
  },
  {
   "cell_type": "code",
   "execution_count": 9,
   "metadata": {},
   "outputs": [
    {
     "data": {
      "text/plain": [
       "(25000, 25000, 25000, 25000)"
      ]
     },
     "execution_count": 9,
     "metadata": {},
     "output_type": "execute_result"
    }
   ],
   "source": [
    "len(X_train), len(y_train),len(X_test), len(y_test)\n",
    "# imdb1[0]"
   ]
  },
  {
   "cell_type": "code",
   "execution_count": 10,
   "metadata": {},
   "outputs": [],
   "source": [
    "max_review_length = 1024\n",
    "X_train = pad_sequences(X_train, maxlen=max_review_length, padding='post')\n",
    "X_test = pad_sequences(X_test, maxlen=max_review_length)"
   ]
  },
  {
   "cell_type": "code",
   "execution_count": 11,
   "metadata": {},
   "outputs": [
    {
     "data": {
      "text/plain": [
       "4999"
      ]
     },
     "execution_count": 11,
     "metadata": {},
     "output_type": "execute_result"
    }
   ],
   "source": [
    "max([i.max() for i in X_train])"
   ]
  },
  {
   "cell_type": "code",
   "execution_count": 12,
   "metadata": {},
   "outputs": [
    {
     "data": {
      "text/plain": [
       "((25000, 1024), (25000,))"
      ]
     },
     "execution_count": 12,
     "metadata": {},
     "output_type": "execute_result"
    }
   ],
   "source": [
    "X_train.shape, y_train.shape"
   ]
  },
  {
   "cell_type": "raw",
   "metadata": {},
   "source": [
    "X_train = X_train.reshape(25000,1,1024)\n",
    "X_test = X_test.reshape(25000,1,1024)"
   ]
  },
  {
   "cell_type": "code",
   "execution_count": 14,
   "metadata": {},
   "outputs": [],
   "source": [
    "# Model setup\n",
    "input_nodes= Input(shape=(X_train.shape[1],))\n",
    "# x = Dense(64, activation='relu', kernel_initializer='random_uniform')(input_nodes)\n",
    "# e = Embedding(output_dim=64, input_dim=X_train.shape[1],embeddings_initializer='glorot_uniform', input_length=10)(input_nodes)\n",
    "e = Embedding(5000,\n",
    "              16,\n",
    "#               weights=[embedding_matrix],\n",
    "              input_length=X_train.shape[1],\n",
    "              trainable=False)(input_nodes)\n",
    "# x = Reshape(target_shape=())(input_nodes)\n",
    "lstm=LSTM(32)(e)\n",
    "# x = Dense(16, activation='relu')\n",
    "output_nodes=Dense(1, activation='sigmoid')(lstm)\n",
    "\n",
    "#Build model\n",
    "model = Model(inputs=input_nodes, outputs=output_nodes)\n",
    "model.compile(optimizer='adam',\n",
    "              loss='binary_crossentropy',\n",
    "              metrics=['accuracy'])"
   ]
  },
  {
   "cell_type": "code",
   "execution_count": null,
   "metadata": {
    "scrolled": true
   },
   "outputs": [
    {
     "name": "stdout",
     "output_type": "stream",
     "text": [
      "Epoch 1/20\n",
      " 2464/25000 [=>............................] - ETA: 12:40 - loss: 0.6932 - acc: 0.5118"
     ]
    }
   ],
   "source": [
    "model.fit(X_train, y_train, batch_size=32, epochs=20)"
   ]
  },
  {
   "cell_type": "raw",
   "metadata": {},
   "source": [
    "embedding_vecor_length = 32\n",
    "model = Sequential()\n",
    "model.add(Embedding(top_words, embedding_vecor_length, input_length=max_review_length))\n",
    "model.add(LSTM(100))\n",
    "model.add(Dense(1, activation='sigmoid'))\n",
    "model.compile(loss='binary_crossentropy', optimizer='adam', metrics=['accuracy'])\n",
    "print(model.summary())\n",
    "model.fit(X_train, y_train, validation_data=(X_test, y_test), epochs=3, batch_size=64)\n"
   ]
  },
  {
   "cell_type": "raw",
   "metadata": {},
   "source": [
    "# Create tensor/model background.\n",
    "input_nodes = Input(shape=(X_train_vector.shape[1],))\n",
    "x = Dense(64, activation='relu', kernel_initializer='random_uniform')(input_nodes)\n",
    "# x = Dense(64, activation='relu')(x)\n",
    "output_nodes = Dense(1, activation='sigmoid')(x) ##  (input_nodes) if there's no hidden layer\n",
    "\n",
    "# Create the model with layers specified above.\n",
    "model = Model(inputs=input_nodes, outputs=output_nodes)\n",
    "model.compile(optimizer='adam',\n",
    "              loss='binary_crossentropy',\n",
    "              metrics=['accuracy'])\n",
    "model.fit(X_train_vector, y_train, epochs=2)  # starts training"
   ]
  }
 ],
 "metadata": {
  "kernelspec": {
   "display_name": "Python 3",
   "language": "python",
   "name": "python3"
  },
  "language_info": {
   "codemirror_mode": {
    "name": "ipython",
    "version": 3
   },
   "file_extension": ".py",
   "mimetype": "text/x-python",
   "name": "python",
   "nbconvert_exporter": "python",
   "pygments_lexer": "ipython3",
   "version": "3.6.5"
  }
 },
 "nbformat": 4,
 "nbformat_minor": 2
}
