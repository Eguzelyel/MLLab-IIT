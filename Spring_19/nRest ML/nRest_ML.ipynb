{
 "cells": [
  {
   "cell_type": "markdown",
   "metadata": {},
   "source": [
    "## N-Rest ML\n",
    "Idea: Seperate the data by their length. \n",
    "\n",
    "Reasoning: It is assumed that the shorter words or phrases are already concise enough to give a result that is similar to the original label. Most likely, we already have most of those n-grams' labels. However, the problem appears when these phrases are used in different context.\n",
    "\n",
    "Solution: I suggest dividing these relatively certain phrases from the uncertain sentences. This way we only train data with a context in it. I believe that short EDUs are straightforward. "
   ]
  },
  {
   "cell_type": "code",
   "execution_count": 19,
   "metadata": {},
   "outputs": [],
   "source": [
    "import sys\n",
    "sys.path.insert(0, './../Transparency/')\n",
    "import labeled_functions\n",
    "\n",
    "import numpy as np\n",
    "import pandas as pd\n",
    "import pickle\n",
    "\n",
    "import matplotlib.pyplot as plt\n",
    "from matplotlib import colors\n",
    "\n",
    "import sklearn as sk\n",
    "from sklearn.feature_extraction.text import CountVectorizer\n",
    "from sklearn.feature_extraction import stop_words\n",
    "from sklearn.model_selection import train_test_split, StratifiedKFold\n",
    "from sklearn.cross_validation import cross_val_score\n",
    "from sklearn.naive_bayes import MultinomialNB\n",
    "from sklearn.linear_model import LogisticRegression\n",
    "\n",
    "# import keras\n",
    "# from keras.models import Model, save_model, load_model\n",
    "# from keras.layers import Dense, LSTM, Input, Embedding\n",
    "# from keras.utils import to_categorical\n",
    "# from keras.preprocessing.text import text_to_word_sequence, one_hot\n",
    "# from keras.preprocessing.sequence import pad_sequences"
   ]
  },
  {
   "cell_type": "code",
   "execution_count": 4,
   "metadata": {},
   "outputs": [
    {
     "name": "stdout",
     "output_type": "stream",
     "text": [
      "Labeled Data loaded.\n"
     ]
    }
   ],
   "source": [
    "X, y = labeled_functions.load_labeled_neutrals(path=r\"./../../Fall_18/edu/active_learning/\")"
   ]
  },
  {
   "cell_type": "code",
   "execution_count": 5,
   "metadata": {},
   "outputs": [],
   "source": [
    "# Vectorize using CountVectorizer\n",
    "token = r\"(?u)\\b[\\w\\'/]+\\b\"\n",
    "def vectorize(ngram=(1,3), stop=[\"the\",\"a\",\"of\",\"and\",\"br\",\"to\"]):\n",
    "    return CountVectorizer(token_pattern=token, binary=True, ngram_range=ngram, stop_words=stop)\n",
    "\n",
    "# X_train_corpus , X_test_corpus, y_train, y_test = train_test_split(X, y, test_size=1./3, random_state=42)\n",
    "\n",
    "vectorizer_one = vectorize(stop=[\"a\",\"of\",\"and\",\"br\",\"to\"])\n",
    "X_vector = vectorizer_one.fit_transform(X)\n",
    "\n",
    "# X_train_vector = vectorizer_one.fit_transform(X_train_corpus)\n",
    "# X_test_vector = vectorizer_one.transform(X_test_corpus)\n",
    "\n",
    "X_train_vector , X_test_vector, y_train, y_test = train_test_split(X_vector, y, test_size=1./3, random_state=42)"
   ]
  },
  {
   "cell_type": "code",
   "execution_count": 44,
   "metadata": {
    "scrolled": true
   },
   "outputs": [
    {
     "name": "stdout",
     "output_type": "stream",
     "text": [
      "5501\n",
      "[0 0 0 ... 0 0 0]\n"
     ]
    },
    {
     "data": {
      "text/plain": [
       "9"
      ]
     },
     "execution_count": 44,
     "metadata": {},
     "output_type": "execute_result"
    }
   ],
   "source": [
    "print(len(X_vector.toarray()))\n",
    "print(X_vector.toarray()[0])\n",
    "X_vector.toarray()[0].nonzero()\n",
    "len(X_vector.toarray()[0].nonzero()[0])"
   ]
  },
  {
   "cell_type": "code",
   "execution_count": 52,
   "metadata": {},
   "outputs": [
    {
     "name": "stdout",
     "output_type": "stream",
     "text": [
      "5501, 281\n"
     ]
    }
   ],
   "source": [
    "less_than_n_words = []\n",
    "for i, j in enumerate(X_vector.toarray()):\n",
    "#     print(i,j)\n",
    "    if len(j.nonzero()[0])<=5:\n",
    "        less_than_n_words.append(i)    \n",
    "print(\"%s, %s\" %(len(X), len(less_than_n_words)))"
   ]
  },
  {
   "cell_type": "code",
   "execution_count": 37,
   "metadata": {},
   "outputs": [
    {
     "data": {
      "text/plain": [
       "(array([ 3166, 46247, 46310, 46311, 49590, 49595, 64772, 64828, 64830]),)"
      ]
     },
     "execution_count": 37,
     "metadata": {},
     "output_type": "execute_result"
    }
   ],
   "source": [
    "X_vector.toarray()[0].nonzero()"
   ]
  },
  {
   "cell_type": "markdown",
   "metadata": {},
   "source": [
    "#### Inquiring the Data\n",
    "Split 3 and Rest worded sentences"
   ]
  },
  {
   "cell_type": "code",
   "execution_count": 16,
   "metadata": {},
   "outputs": [
    {
     "data": {
      "text/plain": [
       "24"
      ]
     },
     "execution_count": 16,
     "metadata": {},
     "output_type": "execute_result"
    }
   ],
   "source": [
    "(X[0]"
   ]
  }
 ],
 "metadata": {
  "kernelspec": {
   "display_name": "Python 3",
   "language": "python",
   "name": "python3"
  },
  "language_info": {
   "codemirror_mode": {
    "name": "ipython",
    "version": 3
   },
   "file_extension": ".py",
   "mimetype": "text/x-python",
   "name": "python",
   "nbconvert_exporter": "python",
   "pygments_lexer": "ipython3",
   "version": "3.6.5"
  }
 },
 "nbformat": 4,
 "nbformat_minor": 2
}
