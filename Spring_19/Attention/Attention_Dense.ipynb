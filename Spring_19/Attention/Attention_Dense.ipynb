{
 "cells": [
  {
   "cell_type": "markdown",
   "metadata": {},
   "source": [
    "_Implementing attention model on dense layer, after LSTM failed dramatically._"
   ]
  },
  {
   "cell_type": "code",
   "execution_count": 1,
   "metadata": {},
   "outputs": [
    {
     "name": "stderr",
     "output_type": "stream",
     "text": [
      "Using TensorFlow backend.\n"
     ]
    }
   ],
   "source": [
    "import keras\n",
    "import matplotlib.pyplot as plt\n",
    "import numpy as np\n",
    "import sklearn\n",
    "import pandas as pd\n",
    "\n",
    "from keras.layers import Conv1D,Dense, Recurrent, Embedding, Flatten, GlobalMaxPool1D, LSTM, Input, merge\n",
    "from keras.models import Model, load_model, save_model\n",
    "from keras.preprocessing.sequence import pad_sequences\n",
    "from keras.preprocessing.text import text_to_word_sequence, one_hot, Tokenizer\n",
    "\n",
    "from keras.layers import merge, multiply, add\n",
    "from keras.layers.core import *\n",
    "from keras.models import *\n",
    "from keras.optimizers import SGD\n",
    "\n",
    "\n",
    "# from attention_utils import get_activations, get_data_recurrent\n",
    "\n",
    "from sklearn.model_selection import train_test_split, StratifiedKFold\n",
    "from sklearn.metrics import mean_squared_error, precision_recall_curve\n",
    "\n",
    "# In order to include a file from another location, run the following code.\n",
    "import sys\n",
    "sys.path.append('../edu/Models/') \n",
    "import labeled_functions"
   ]
  },
  {
   "cell_type": "code",
   "execution_count": 2,
   "metadata": {},
   "outputs": [
    {
     "name": "stdout",
     "output_type": "stream",
     "text": [
      "Labeled Data loaded.\n"
     ]
    },
    {
     "data": {
      "text/plain": [
       "(['if', 'it', 'is', 'being', 'bad', 'on', 'purpose'], 0)"
      ]
     },
     "execution_count": 2,
     "metadata": {},
     "output_type": "execute_result"
    }
   ],
   "source": [
    "X_corpus, y = labeled_functions.load_with_path(path=r\"/Users/ekremguzelyel/Desktop/Assignments/Research/MLLab-IIT/edu/active_learning\")\n",
    "X_sequence = []\n",
    "for i in X_corpus:\n",
    "    X_sequence.append(text_to_word_sequence(i))\n",
    "X_train_sequence, X_test_sequence, y_train, y_test = train_test_split(X_sequence, y, test_size=1./3, random_state=42)\n",
    "\n",
    "X_train_sequence[0], y_train[0]"
   ]
  },
  {
   "cell_type": "code",
   "execution_count": 3,
   "metadata": {},
   "outputs": [
    {
     "data": {
      "text/plain": [
       "(3308, 123)"
      ]
     },
     "execution_count": 3,
     "metadata": {},
     "output_type": "execute_result"
    }
   ],
   "source": [
    "# Find max_length\n",
    "max_length=0\n",
    "for i in X_sequence:\n",
    "    max_length = [len(set(i)) if len(set(i)) > max_length else max_length][0]\n",
    "\n",
    "# One Hot Encoding\n",
    "X_corpus_one_hot = []\n",
    "for i in X_corpus:\n",
    "    X_corpus_one_hot.append(one_hot(i, round(max_length*1.2)))\n",
    "    \n",
    "# Pad Sequences \n",
    "padded_seq_corpus = pad_sequences(X_corpus_one_hot)\n",
    "X_train_padded_seq, X_test_padded_seq, y_train, y_test = train_test_split(padded_seq_corpus, y,\n",
    "                                                                          test_size=1./3, random_state=42) \n",
    "padded_seq_corpus.shape"
   ]
  },
  {
   "cell_type": "code",
   "execution_count": 4,
   "metadata": {},
   "outputs": [],
   "source": [
    "# Attention Vector Selection\n",
    "def get_data(n, input_dim, attention_column=1):\n",
    "    \"\"\"\n",
    "    n: the number of samples to retrieve.\n",
    "    input_dim: the number of dimensions of each element in the series.\n",
    "    attention_column: the column linked to the target. Everything else is purely random.\n",
    "    returns: x: model inputs, y: model targets\n",
    "    \"\"\"\n",
    "    x = np.random.standard_normal(size=(n, input_dim))\n",
    "    y = np.random.randint(low=0, high=2, size=(n, 1))\n",
    "    x[:, attention_column] = y[:, 0]\n",
    "    return x, y"
   ]
  },
  {
   "cell_type": "code",
   "execution_count": 5,
   "metadata": {},
   "outputs": [],
   "source": [
    "import keras.backend as K\n",
    "def get_activations(model, inputs, print_shape_only=False, layer_name=None):\n",
    "    # Documentation is available online on Github at the address below.\n",
    "    # From: https://github.com/philipperemy/keras-visualize-activations\n",
    "    print('----- activations -----')\n",
    "    activations = []\n",
    "    inp = model.input\n",
    "    if layer_name is None:\n",
    "        outputs = [layer.output for layer in model.layers]\n",
    "    else:\n",
    "        outputs = [layer.output for layer in model.layers if layer.name == layer_name]  # all layer outputs\n",
    "    funcs = [K.function([inp] + [K.learning_phase()], [out]) for out in outputs]  # evaluation functions\n",
    "    layer_outputs = [func([inputs, 1.])[0] for func in funcs]\n",
    "    for layer_activations in layer_outputs:\n",
    "        activations.append(layer_activations)\n",
    "        if print_shape_only:\n",
    "            print(layer_activations.shape)\n",
    "        else:\n",
    "            print(layer_activations)\n",
    "    return activations"
   ]
  },
  {
   "cell_type": "code",
   "execution_count": 6,
   "metadata": {},
   "outputs": [
    {
     "name": "stdout",
     "output_type": "stream",
     "text": [
      "__________________________________________________________________________________________________\n",
      "Layer (type)                    Output Shape         Param #     Connected to                     \n",
      "==================================================================================================\n",
      "input_1 (InputLayer)            (None, 123)          0                                            \n",
      "__________________________________________________________________________________________________\n",
      "attention_vec (Dense)           (None, 123)          15252       input_1[0][0]                    \n",
      "__________________________________________________________________________________________________\n",
      "attention_mul (Add)             (None, 123)          0           input_1[0][0]                    \n",
      "                                                                 attention_vec[0][0]              \n",
      "__________________________________________________________________________________________________\n",
      "dense_1 (Dense)                 (None, 64)           7936        attention_mul[0][0]              \n",
      "__________________________________________________________________________________________________\n",
      "dense_2 (Dense)                 (None, 1)            65          dense_1[0][0]                    \n",
      "==================================================================================================\n",
      "Total params: 23,253\n",
      "Trainable params: 23,253\n",
      "Non-trainable params: 0\n",
      "__________________________________________________________________________________________________\n",
      "None\n"
     ]
    },
    {
     "name": "stderr",
     "output_type": "stream",
     "text": [
      "/Users/ekremguzelyel/anaconda/lib/python3.6/site-packages/ipykernel_launcher.py:19: UserWarning: Update your `Model` call to the Keras 2 API: `Model(inputs=[<tf.Tenso..., outputs=Tensor(\"de...)`\n"
     ]
    }
   ],
   "source": [
    "# Attention Set Up\n",
    "# TIME_STEPS=1\n",
    "input_dim = int(X_train_padded_seq.shape[1])\n",
    "# inputs = Input(shape=(TIME_STEPS, input_dim,))\n",
    "# a = Permute((2, 1))(inputs)\n",
    "# a = Reshape((input_dim, TIME_STEPS))(a) # this line is not useful. It's just to know which dimension is what.\n",
    "# a = Dense(TIME_STEPS, activation='softmax')(a)\n",
    "\n",
    "\n",
    "# Model Set Up\n",
    "inputs = Input(shape=(input_dim,))\n",
    "# a_probs = Permute((2, 1), name='attention_vec')(a)\n",
    "a_probs = Dense(X_train_padded_seq.shape[1], activation='softmax', name='attention_vec')(inputs)\n",
    "attention_mul = add([inputs, a_probs], name='attention_mul')\n",
    "\n",
    "attention_mul = Dense(64)(attention_mul)\n",
    "\n",
    "output = Dense(1, activation='sigmoid')(attention_mul)\n",
    "model = Model(input=[inputs], output=output)\n",
    "\n",
    "\n",
    "print(model.summary())"
   ]
  },
  {
   "cell_type": "code",
   "execution_count": 7,
   "metadata": {},
   "outputs": [],
   "source": [
    "model.compile(loss='binary_crossentropy', optimizer='adam', metrics=['accuracy'])"
   ]
  },
  {
   "cell_type": "code",
   "execution_count": 8,
   "metadata": {
    "scrolled": true
   },
   "outputs": [
    {
     "name": "stdout",
     "output_type": "stream",
     "text": [
      "Train on 1543 samples, validate on 662 samples\n",
      "Epoch 1/10\n",
      "1543/1543 [==============================] - 0s 215us/step - loss: 0.8342 - acc: 0.4997 - val_loss: 0.6848 - val_acc: 0.5634\n",
      "Epoch 2/10\n",
      "1543/1543 [==============================] - 0s 29us/step - loss: 0.6329 - acc: 0.6448 - val_loss: 0.6155 - val_acc: 0.6707\n",
      "Epoch 3/10\n",
      "1543/1543 [==============================] - 0s 29us/step - loss: 0.5573 - acc: 0.7459 - val_loss: 0.5717 - val_acc: 0.7387\n",
      "Epoch 4/10\n",
      "1543/1543 [==============================] - 0s 29us/step - loss: 0.5029 - acc: 0.8302 - val_loss: 0.5295 - val_acc: 0.7961\n",
      "Epoch 5/10\n",
      "1543/1543 [==============================] - 0s 32us/step - loss: 0.4570 - acc: 0.8775 - val_loss: 0.4843 - val_acc: 0.8444\n",
      "Epoch 6/10\n",
      "1543/1543 [==============================] - 0s 30us/step - loss: 0.4098 - acc: 0.9132 - val_loss: 0.4366 - val_acc: 0.8822\n",
      "Epoch 7/10\n",
      "1543/1543 [==============================] - 0s 30us/step - loss: 0.3640 - acc: 0.9579 - val_loss: 0.3901 - val_acc: 0.9230\n",
      "Epoch 8/10\n",
      "1543/1543 [==============================] - 0s 31us/step - loss: 0.3215 - acc: 0.9793 - val_loss: 0.3430 - val_acc: 0.9471\n",
      "Epoch 9/10\n",
      "1543/1543 [==============================] - 0s 31us/step - loss: 0.2783 - acc: 0.9922 - val_loss: 0.2956 - val_acc: 0.9819\n",
      "Epoch 10/10\n",
      "1543/1543 [==============================] - 0s 37us/step - loss: 0.2404 - acc: 0.9974 - val_loss: 0.2531 - val_acc: 0.9849\n",
      "----- activations -----\n",
      "(1, 123)\n",
      "attention = [0.0311911  0.00983559 0.00237185 0.00400121 0.01059566 0.00130554\n",
      " 0.00430724 0.00194578 0.00390201 0.00258615 0.00377439 0.04385965\n",
      " 0.01009673 0.0042748  0.00508599 0.00543124 0.0140025  0.00796825\n",
      " 0.00306752 0.00341133 0.00489979 0.02141092 0.00824026 0.00242047\n",
      " 0.01448389 0.00671919 0.00238403 0.00903559 0.00872966 0.00155353\n",
      " 0.00700047 0.00488065 0.00466508 0.00301629 0.00187885 0.01345788\n",
      " 0.00291662 0.0053681  0.01733641 0.01131995 0.00646892 0.00113197\n",
      " 0.01427315 0.0052028  0.00411008 0.00835379 0.00992833 0.01315845\n",
      " 0.00136117 0.00187278 0.00476997 0.00474241 0.00115464 0.01220774\n",
      " 0.00115653 0.00406272 0.00411028 0.00288262 0.03838293 0.00944182\n",
      " 0.00601863 0.00682687 0.00319533 0.00551218 0.00072643 0.00123992\n",
      " 0.00314986 0.0043758  0.00079907 0.00399759 0.01447478 0.02802676\n",
      " 0.00234432 0.00580774 0.0020475  0.00433822 0.00216453 0.00738794\n",
      " 0.01464172 0.00125939 0.00575424 0.00142235 0.00451183 0.00262045\n",
      " 0.00380701 0.01518064 0.00679163 0.05015883 0.00322415 0.0067797\n",
      " 0.00793496 0.00486061 0.00217228 0.00395193 0.00581392 0.00387968\n",
      " 0.00157921 0.0188746  0.00342106 0.02683175 0.01027851 0.01498281\n",
      " 0.00498344 0.00218933 0.0488771  0.03549992 0.00186163 0.00103602\n",
      " 0.00530575 0.00956113 0.01088144 0.0011177  0.00126985 0.03384342\n",
      " 0.0051716  0.00875275 0.00332365 0.01226033 0.00333797 0.00202365\n",
      " 0.00519931 0.00358024 0.00325175]\n"
     ]
    }
   ],
   "source": [
    "N=X_train_padded_seq.shape[0]\n",
    "inputs_1, outputs= get_data(N,input_dim)\n",
    "model.fit([inputs_1], outputs, epochs=10, batch_size=64, validation_split=0.3)\n",
    "\n",
    "testing_inputs_1, testing_outputs = get_data(1, input_dim)\n",
    "attention_vector = get_activations(model, testing_inputs_1,\n",
    "                                       print_shape_only=True,\n",
    "                                       layer_name='attention_vec')[0].flatten()\n",
    "print('attention =', attention_vector)"
   ]
  },
  {
   "cell_type": "code",
   "execution_count": 9,
   "metadata": {},
   "outputs": [
    {
     "name": "stdout",
     "output_type": "stream",
     "text": [
      "1103/1103 [==============================] - 0s 28us/step\n",
      "2205/2205 [==============================] - 0s 19us/step\n"
     ]
    },
    {
     "data": {
      "text/plain": [
       "([1.3402664030235891, 0.514052583943252],\n",
       " [1.4044474614180134, 0.5274376416017139])"
      ]
     },
     "execution_count": 9,
     "metadata": {},
     "output_type": "execute_result"
    }
   ],
   "source": [
    "score_test = model.evaluate(X_test_padded_seq, y_test,)\n",
    "score_train = model.evaluate(X_train_padded_seq, y_train)\n",
    "score_test, score_train"
   ]
  },
  {
   "cell_type": "code",
   "execution_count": 10,
   "metadata": {},
   "outputs": [
    {
     "data": {
      "image/png": "[encoded data removed]",
      "text/plain": [
       "<Figure size 432x288 with 1 Axes>"
      ]
     },
     "metadata": {},
     "output_type": "display_data"
    }
   ],
   "source": [
    "pd.DataFrame(attention_vector, columns=['attention (%)']).plot(kind='bar',\n",
    "                                                               title='Attention Mechanism as '\n",
    "                                                                     'a function of input'\n",
    "                                                                     ' dimensions.')\n",
    "plt.show()"
   ]
  },
  {
   "cell_type": "markdown",
   "metadata": {},
   "source": [
    "__Question:__\n",
    "\n",
    "In the source code I am taking reference, there is a function called get_data(). What it does is it takes the amount of data requested, sets the first column to y, and calls it an attention column.\n",
    "\n",
    "How is this useful?"
   ]
  },
  {
   "cell_type": "code",
   "execution_count": null,
   "metadata": {},
   "outputs": [],
   "source": []
  }
 ],
 "metadata": {
  "kernelspec": {
   "display_name": "Python 3",
   "language": "python",
   "name": "python3"
  },
  "language_info": {
   "codemirror_mode": {
    "name": "ipython",
    "version": 3
   },
   "file_extension": ".py",
   "mimetype": "text/x-python",
   "name": "python",
   "nbconvert_exporter": "python",
   "pygments_lexer": "ipython3",
   "version": "3.6.5"
  }
 },
 "nbformat": 4,
 "nbformat_minor": 2
}
