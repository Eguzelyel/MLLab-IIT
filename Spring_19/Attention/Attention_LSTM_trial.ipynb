{
 "cells": [
  {
   "cell_type": "code",
   "execution_count": 1,
   "metadata": {},
   "outputs": [
    {
     "name": "stderr",
     "output_type": "stream",
     "text": [
      "Using TensorFlow backend.\n"
     ]
    }
   ],
   "source": [
    "import keras\n",
    "import numpy as np\n",
    "import sklearn\n",
    "import pandas as pd\n",
    "\n",
    "from keras.layers import Conv1D,Dense, Recurrent, Embedding, Flatten, GlobalMaxPool1D, LSTM, Input, merge\n",
    "from keras.models import Model, load_model, save_model\n",
    "from keras.preprocessing.sequence import pad_sequences\n",
    "from keras.preprocessing.text import text_to_word_sequence, one_hot, Tokenizer\n",
    "\n",
    "from keras.layers import merge, multiply, add\n",
    "from keras.layers.core import *\n",
    "from keras.layers.recurrent import LSTM\n",
    "from keras.models import *\n",
    "from keras.optimizers import SGD\n",
    "\n",
    "# from attention_utils import get_activations, get_data_recurrent\n",
    "\n",
    "from sklearn.model_selection import train_test_split, StratifiedKFold\n",
    "from sklearn.metrics import mean_squared_error, precision_recall_curve\n",
    "\n",
    "# In order to include a file from another location, run the following code.\n",
    "import sys\n",
    "sys.path.append('../edu/Models/') \n",
    "import labeled_functions"
   ]
  },
  {
   "cell_type": "code",
   "execution_count": 2,
   "metadata": {},
   "outputs": [
    {
     "name": "stdout",
     "output_type": "stream",
     "text": [
      "Labeled Data loaded.\n"
     ]
    },
    {
     "data": {
      "text/plain": [
       "(['if', 'it', 'is', 'being', 'bad', 'on', 'purpose'], 0)"
      ]
     },
     "execution_count": 2,
     "metadata": {},
     "output_type": "execute_result"
    }
   ],
   "source": [
    "X_corpus, y = labeled_functions.load_with_path(path=r\"/Users/ekremguzelyel/Desktop/Assignments/Research/MLLab-IIT/edu/active_learning\")\n",
    "X_sequence = []\n",
    "for i in X_corpus:\n",
    "    X_sequence.append(text_to_word_sequence(i))\n",
    "X_train_sequence, X_test_sequence, y_train, y_test = train_test_split(X_sequence, y, test_size=1./3, random_state=42)\n",
    "\n",
    "X_train_sequence[0], y_train[0]"
   ]
  },
  {
   "cell_type": "code",
   "execution_count": 3,
   "metadata": {},
   "outputs": [
    {
     "data": {
      "text/plain": [
       "77"
      ]
     },
     "execution_count": 3,
     "metadata": {},
     "output_type": "execute_result"
    }
   ],
   "source": [
    "# Maximum sequence length\n",
    "max_length=0\n",
    "for i in X_sequence:\n",
    "    max_length = [len(set(i)) if len(set(i)) > max_length else max_length][0]\n",
    "len(X_train_sequence)\n",
    "max_length"
   ]
  },
  {
   "cell_type": "code",
   "execution_count": 4,
   "metadata": {},
   "outputs": [
    {
     "data": {
      "text/plain": [
       "[[48],\n",
       " [57, 4, 63, 33, 35, 38, 3, 75, 89, 83, 90, 81],\n",
       " [45, 38, 44, 33, 31, 19, 13, 4, 45, 89]]"
      ]
     },
     "execution_count": 4,
     "metadata": {},
     "output_type": "execute_result"
    }
   ],
   "source": [
    "X_corpus_one_hot = []\n",
    "for i in X_corpus:\n",
    "    X_corpus_one_hot.append(one_hot(i, round(max_length*1.2)))\n",
    "\n",
    "X_corpus_one_hot[4:7]"
   ]
  },
  {
   "cell_type": "code",
   "execution_count": 5,
   "metadata": {},
   "outputs": [
    {
     "data": {
      "text/plain": [
       "([53, 74, 17, 39, 52, 38, 82, 65, 65, 8, 74, 10, 70, 86, 54, 65, 5, 88],\n",
       " \"if i did not dislike the phrase a great deal i would call `` straighthead '' a video nasty . \")"
      ]
     },
     "execution_count": 5,
     "metadata": {},
     "output_type": "execute_result"
    }
   ],
   "source": [
    "X_corpus_one_hot[17], X_corpus[17] # 'i' occurs twice (number 51) -> Checkmark"
   ]
  },
  {
   "cell_type": "code",
   "execution_count": 6,
   "metadata": {},
   "outputs": [
    {
     "data": {
      "text/plain": [
       "123"
      ]
     },
     "execution_count": 6,
     "metadata": {},
     "output_type": "execute_result"
    }
   ],
   "source": [
    "padded_seq_corpus = pad_sequences(X_corpus_one_hot)\n",
    "X_train_padded_seq, X_test_padded_seq, y_train, y_test = train_test_split(padded_seq_corpus, y,\n",
    "                                                                          test_size=1./3, random_state=42) \n",
    "# padded_seq_corpus.shape\n",
    "len(padded_seq_corpus[0])"
   ]
  },
  {
   "cell_type": "code",
   "execution_count": 7,
   "metadata": {
    "collapsed": true
   },
   "outputs": [
    {
     "data": {
      "text/plain": [
       "(array([ 0,  0,  0,  0,  0,  0,  0,  0,  0,  0,  0,  0,  0,  0,  0,  0,  0,\n",
       "         0,  0,  0,  0,  0,  0,  0,  0,  0,  0,  0,  0,  0,  0,  0,  0,  0,\n",
       "         0,  0,  0,  0,  0,  0,  0,  0,  0,  0,  0,  0,  0,  0,  0,  0,  0,\n",
       "         0,  0,  0,  0,  0,  0,  0,  0,  0,  0,  0,  0,  0,  0,  0,  0,  0,\n",
       "         0,  0,  0,  0,  0,  0,  0,  0,  0,  0,  0,  0,  0,  0,  0,  0,  0,\n",
       "         0,  0,  0,  0,  0,  0,  0,  0,  0,  0,  0,  0,  0,  0,  0,  0,  0,\n",
       "         0,  0,  0,  0,  0,  0,  0,  0,  0,  0,  0,  0,  0,  0, 53, 57,  4,\n",
       "        17, 44, 35, 52], dtype=int32),\n",
       " 0,\n",
       " array([ 0,  0,  0,  0,  0,  0,  0,  0,  0,  0,  0,  0,  0,  0,  0,  0,  0,\n",
       "         0,  0,  0,  0,  0,  0,  0,  0,  0,  0,  0,  0,  0,  0,  0,  0,  0,\n",
       "         0,  0,  0,  0,  0,  0,  0,  0,  0,  0,  0,  0,  0,  0,  0,  0,  0,\n",
       "         0,  0,  0,  0,  0,  0,  0,  0,  0,  0,  0,  0,  0,  0,  0,  0,  0,\n",
       "         0,  0,  0,  0,  0,  0,  0,  0,  0,  0,  0,  0,  0,  0,  0,  0,  0,\n",
       "         0,  0,  0,  0,  0,  0,  0,  0,  0,  0,  0,  0,  0,  0,  0,  0,  0,\n",
       "        76, 24, 61, 69, 11, 21,  1, 73, 25, 67, 38,  6, 73, 38, 33, 12, 69,\n",
       "        29, 31, 77, 64], dtype=int32),\n",
       " 1)"
      ]
     },
     "execution_count": 7,
     "metadata": {},
     "output_type": "execute_result"
    }
   ],
   "source": [
    "X_train_padded_seq[0], y_train[0], X_test_padded_seq[0], y_test[0]"
   ]
  },
  {
   "cell_type": "markdown",
   "metadata": {},
   "source": [
    "# Sequence / Padding"
   ]
  },
  {
   "cell_type": "raw",
   "metadata": {
    "collapsed": true
   },
   "source": [
    "docs = X_corpus\n",
    "labels = y\n",
    "# prepare tokenizer\n",
    "t = Tokenizer()\n",
    "t.fit_on_texts(docs)\n",
    "vocab_size = len(t.word_index) + 1\n",
    "# integer encode the documents\n",
    "encoded_docs = t.texts_to_sequences(docs)\n",
    "print(encoded_docs[:4])\n",
    "# pad documents to a max length of 4 words\n",
    "max_length = 124\n",
    "padded_docs = pad_sequences(encoded_docs, maxlen=max_length, padding='pre')\n",
    "print(padded_docs[:4])"
   ]
  },
  {
   "cell_type": "raw",
   "metadata": {},
   "source": [
    "# load the whole embedding into memory\n",
    "embeddings_index = dict()\n",
    "f = open('../../glove.6B/glove.6B.100d.txt')\n",
    "for line in f:\n",
    "    values = line.split()\n",
    "    word = values[0]\n",
    "    coefs = np.asarray(values[1:], dtype='float32')\n",
    "    embeddings_index[word] = coefs\n",
    "f.close()\n",
    "print('Loaded %s word vectors.' % len(embeddings_index))"
   ]
  },
  {
   "cell_type": "raw",
   "metadata": {},
   "source": [
    "# create a weight matrix for words in training docs\n",
    "embedding_matrix = np.zeros((vocab_size, 100))\n",
    "for word, i in t.word_index.items():\n",
    "    embedding_vector = embeddings_index.get(word)\n",
    "    if embedding_vector is not None:\n",
    "        embedding_matrix[i] = embedding_vector"
   ]
  },
  {
   "cell_type": "markdown",
   "metadata": {},
   "source": [
    "### Apply attention to LSTM model"
   ]
  },
  {
   "cell_type": "code",
   "execution_count": 9,
   "metadata": {},
   "outputs": [],
   "source": [
    "X_train_dim = np.reshape(X_train_padded_seq, (X_train_padded_seq.shape[0], 1, X_train_padded_seq.shape[1]))\n",
    "X_test_dim = np.reshape(X_test_padded_seq, (X_test_padded_seq.shape[0], 1, X_test_padded_seq.shape[1]))"
   ]
  },
  {
   "cell_type": "code",
   "execution_count": 10,
   "metadata": {},
   "outputs": [
    {
     "data": {
      "text/plain": [
       "(2205, 1, 123)"
      ]
     },
     "execution_count": 10,
     "metadata": {},
     "output_type": "execute_result"
    }
   ],
   "source": [
    "X_train_dim.shape"
   ]
  },
  {
   "cell_type": "code",
   "execution_count": 11,
   "metadata": {
    "scrolled": true
   },
   "outputs": [
    {
     "name": "stdout",
     "output_type": "stream",
     "text": [
      "<class 'tensorflow.python.framework.ops.Tensor'> <class 'tensorflow.python.framework.ops.Tensor'>\n",
      "__________________________________________________________________________________________________\n",
      "Layer (type)                    Output Shape         Param #     Connected to                     \n",
      "==================================================================================================\n",
      "input_1 (InputLayer)            (None, 1, 123)       0                                            \n",
      "__________________________________________________________________________________________________\n",
      "permute_1 (Permute)             (None, 123, 1)       0           input_1[0][0]                    \n",
      "__________________________________________________________________________________________________\n",
      "reshape_1 (Reshape)             (None, 123, 1)       0           permute_1[0][0]                  \n",
      "__________________________________________________________________________________________________\n",
      "dense_1 (Dense)                 (None, 123, 1)       2           reshape_1[0][0]                  \n",
      "__________________________________________________________________________________________________\n",
      "attention_vec (Permute)         (None, 1, 123)       0           dense_1[0][0]                    \n",
      "__________________________________________________________________________________________________\n",
      "attention_mul (Add)             (None, 1, 123)       0           input_1[0][0]                    \n",
      "                                                                 attention_vec[0][0]              \n",
      "__________________________________________________________________________________________________\n",
      "lstm_1 (LSTM)                   (None, 32)           19968       attention_mul[0][0]              \n",
      "__________________________________________________________________________________________________\n",
      "dense_2 (Dense)                 (None, 1)            33          lstm_1[0][0]                     \n",
      "==================================================================================================\n",
      "Total params: 20,003\n",
      "Trainable params: 20,003\n",
      "Non-trainable params: 0\n",
      "__________________________________________________________________________________________________\n",
      "None\n"
     ]
    },
    {
     "name": "stderr",
     "output_type": "stream",
     "text": [
      "/Users/ekremguzelyel/anaconda/lib/python3.6/site-packages/ipykernel_launcher.py:19: UserWarning: Update your `Model` call to the Keras 2 API: `Model(inputs=[<tf.Tenso..., outputs=Tensor(\"de...)`\n"
     ]
    }
   ],
   "source": [
    "## ATTENTION SET UP HERE \n",
    "TIME_STEPS=1\n",
    "input_dim = int(X_train_dim.shape[2])\n",
    "inputs = Input(shape=(TIME_STEPS, input_dim,))\n",
    "a = Permute((2, 1))(inputs)\n",
    "a = Reshape((input_dim, TIME_STEPS))(a) # this line is not useful. It's just to know which dimension is what.\n",
    "a = Dense(TIME_STEPS, activation='softmax')(a)\n",
    "\n",
    "# a = Lambda(lambda x: K.mean(x, axis=1), name='dim_reduction')(a)\n",
    "# a = RepeatVector(input_dim)(a)\n",
    "\n",
    "a_probs = Permute((2, 1), name='attention_vec')(a)\n",
    "print(type(a_probs),type(inputs))\n",
    "attention_mul = add([inputs, a_probs], name='attention_mul')\n",
    "\n",
    "attention_mul = LSTM(32, return_sequences=False)(attention_mul)\n",
    "\n",
    "output = Dense(1, activation='sigmoid')(attention_mul)\n",
    "model = Model(input=[inputs], output=output)\n",
    "\n",
    "\n",
    "print(model.summary())"
   ]
  },
  {
   "cell_type": "markdown",
   "metadata": {},
   "source": [
    "__Question:__\n",
    "\n",
    "When I change the TIME_STEP to 1, the model works fine. However, in the original document, it was 2, which causes problems for dimensions.\n",
    "\n",
    "How does time steps change the attention behavior?"
   ]
  },
  {
   "cell_type": "code",
   "execution_count": 12,
   "metadata": {},
   "outputs": [],
   "source": [
    "sgd = SGD(lr=0.001, decay=1e-6, momentum=0.9, nesterov=True)\n",
    "model.compile(loss='binary_crossentropy', metrics=['accuracy'], optimizer=sgd)"
   ]
  },
  {
   "cell_type": "code",
   "execution_count": 13,
   "metadata": {},
   "outputs": [
    {
     "name": "stdout",
     "output_type": "stream",
     "text": [
      "Train on 1477 samples, validate on 728 samples\n",
      "Epoch 1/30\n",
      "1477/1477 [==============================] - 1s 786us/step - loss: 0.7490 - acc: 0.4590 - val_loss: 0.7266 - val_acc: 0.4739\n",
      "Epoch 2/30\n",
      "1477/1477 [==============================] - 0s 124us/step - loss: 0.7163 - acc: 0.4827 - val_loss: 0.7114 - val_acc: 0.4904\n",
      "Epoch 3/30\n",
      "1477/1477 [==============================] - 0s 101us/step - loss: 0.6937 - acc: 0.5389 - val_loss: 0.7090 - val_acc: 0.5110\n",
      "Epoch 4/30\n",
      "1477/1477 [==============================] - 0s 101us/step - loss: 0.6833 - acc: 0.5613 - val_loss: 0.7080 - val_acc: 0.5179\n",
      "Epoch 5/30\n",
      "1477/1477 [==============================] - 0s 129us/step - loss: 0.6810 - acc: 0.5674 - val_loss: 0.7056 - val_acc: 0.5206\n",
      "Epoch 6/30\n",
      "1477/1477 [==============================] - 0s 103us/step - loss: 0.6737 - acc: 0.5931 - val_loss: 0.7041 - val_acc: 0.5165\n",
      "Epoch 7/30\n",
      "1477/1477 [==============================] - 0s 107us/step - loss: 0.6722 - acc: 0.5877 - val_loss: 0.7049 - val_acc: 0.5206\n",
      "Epoch 8/30\n",
      "1477/1477 [==============================] - 0s 104us/step - loss: 0.6690 - acc: 0.5999 - val_loss: 0.7046 - val_acc: 0.5124\n",
      "Epoch 9/30\n",
      "1477/1477 [==============================] - 0s 108us/step - loss: 0.6660 - acc: 0.6121 - val_loss: 0.7047 - val_acc: 0.5247\n",
      "Epoch 10/30\n",
      "1477/1477 [==============================] - 0s 97us/step - loss: 0.6620 - acc: 0.6168 - val_loss: 0.7053 - val_acc: 0.5165\n",
      "Epoch 11/30\n",
      "1477/1477 [==============================] - 0s 109us/step - loss: 0.6608 - acc: 0.6073 - val_loss: 0.7027 - val_acc: 0.5357\n",
      "Epoch 12/30\n",
      "1477/1477 [==============================] - 0s 97us/step - loss: 0.6608 - acc: 0.6066 - val_loss: 0.7032 - val_acc: 0.5206\n",
      "Epoch 13/30\n",
      "1477/1477 [==============================] - 0s 95us/step - loss: 0.6597 - acc: 0.6134 - val_loss: 0.7014 - val_acc: 0.5371\n",
      "Epoch 14/30\n",
      "1477/1477 [==============================] - 0s 103us/step - loss: 0.6568 - acc: 0.6215 - val_loss: 0.7014 - val_acc: 0.5302\n",
      "Epoch 15/30\n",
      "1477/1477 [==============================] - 0s 110us/step - loss: 0.6519 - acc: 0.6303 - val_loss: 0.6995 - val_acc: 0.5385\n",
      "Epoch 16/30\n",
      "1477/1477 [==============================] - 0s 110us/step - loss: 0.6522 - acc: 0.6364 - val_loss: 0.7032 - val_acc: 0.5288\n",
      "Epoch 17/30\n",
      "1477/1477 [==============================] - 0s 115us/step - loss: 0.6614 - acc: 0.6087 - val_loss: 0.7046 - val_acc: 0.5082\n",
      "Epoch 18/30\n",
      "1477/1477 [==============================] - 0s 112us/step - loss: 0.6545 - acc: 0.6263 - val_loss: 0.7024 - val_acc: 0.5069\n",
      "Epoch 19/30\n",
      "1477/1477 [==============================] - 0s 109us/step - loss: 0.6498 - acc: 0.6364 - val_loss: 0.6995 - val_acc: 0.5288\n",
      "Epoch 20/30\n",
      "1477/1477 [==============================] - 0s 133us/step - loss: 0.6485 - acc: 0.6466 - val_loss: 0.6998 - val_acc: 0.5206\n",
      "Epoch 21/30\n",
      "1477/1477 [==============================] - 0s 153us/step - loss: 0.6452 - acc: 0.6506 - val_loss: 0.6985 - val_acc: 0.5234\n",
      "Epoch 22/30\n",
      "1477/1477 [==============================] - 0s 116us/step - loss: 0.6410 - acc: 0.6534 - val_loss: 0.6982 - val_acc: 0.5330\n",
      "Epoch 23/30\n",
      "1477/1477 [==============================] - 0s 118us/step - loss: 0.6392 - acc: 0.6588 - val_loss: 0.6993 - val_acc: 0.5426\n",
      "Epoch 24/30\n",
      "1477/1477 [==============================] - 0s 123us/step - loss: 0.6377 - acc: 0.6716 - val_loss: 0.7012 - val_acc: 0.5357\n",
      "Epoch 25/30\n",
      "1477/1477 [==============================] - 0s 132us/step - loss: 0.6352 - acc: 0.6750 - val_loss: 0.6987 - val_acc: 0.5275\n",
      "Epoch 26/30\n",
      "1477/1477 [==============================] - 0s 133us/step - loss: 0.6367 - acc: 0.6662 - val_loss: 0.7023 - val_acc: 0.5371\n",
      "Epoch 27/30\n",
      "1477/1477 [==============================] - ETA: 0s - loss: 0.6349 - acc: 0.662 - 0s 134us/step - loss: 0.6353 - acc: 0.6635 - val_loss: 0.7001 - val_acc: 0.5288\n",
      "Epoch 28/30\n",
      "1477/1477 [==============================] - 0s 134us/step - loss: 0.6317 - acc: 0.6696 - val_loss: 0.7017 - val_acc: 0.5398\n",
      "Epoch 29/30\n",
      "1477/1477 [==============================] - 0s 141us/step - loss: 0.6281 - acc: 0.6825 - val_loss: 0.7035 - val_acc: 0.5220\n",
      "Epoch 30/30\n",
      "1477/1477 [==============================] - 0s 126us/step - loss: 0.6286 - acc: 0.6689 - val_loss: 0.7011 - val_acc: 0.5261\n"
     ]
    },
    {
     "data": {
      "text/plain": [
       "<keras.callbacks.History at 0x11a5bb748>"
      ]
     },
     "execution_count": 13,
     "metadata": {},
     "output_type": "execute_result"
    }
   ],
   "source": [
    "model.fit(X_train_dim, y_train, validation_split=0.33, epochs=30, batch_size=32, verbose=1)\n",
    "# model.fit(X_train_dim, y_train, epochs=20, batch_size=32, verbose=1)"
   ]
  },
  {
   "cell_type": "code",
   "execution_count": 14,
   "metadata": {},
   "outputs": [
    {
     "name": "stderr",
     "output_type": "stream",
     "text": [
      "/Users/ekremguzelyel/anaconda/lib/python3.6/site-packages/matplotlib/legend.py:641: UserWarning: Unrecognized location \"left\". Falling back on \"best\"; valid locations are\n",
      "\tbest\n",
      "\tupper right\n",
      "\tupper left\n",
      "\tlower left\n",
      "\tlower right\n",
      "\tright\n",
      "\tcenter left\n",
      "\tcenter right\n",
      "\tlower center\n",
      "\tupper center\n",
      "\tcenter\n",
      "\n",
      "  % (loc, '\\n\\t'.join(self.codes)))\n"
     ]
    },
    {
     "data": {
      "image/png": "[encoded data removed]",
      "text/plain": [
       "<Figure size 432x288 with 1 Axes>"
      ]
     },
     "metadata": {},
     "output_type": "display_data"
    }
   ],
   "source": [
    "import matplotlib.pyplot as plt\n",
    "plt.plot(model.history.epoch, model.history.history['acc'],'r-')\n",
    "plt.plot(model.history.epoch, model.history.history['loss'],'r--')\n",
    "plt.plot(model.history.epoch, model.history.history['val_acc'],'b-')\n",
    "plt.plot(model.history.epoch, model.history.history['val_loss'],'b--')\n",
    "plt.legend(['acc','loss','val_acc','val_loss'], loc='left')\n",
    "plt.show()\n",
    "# model.history.history"
   ]
  },
  {
   "cell_type": "code",
   "execution_count": 15,
   "metadata": {},
   "outputs": [
    {
     "name": "stdout",
     "output_type": "stream",
     "text": [
      "1103/1103 [==============================] - 0s 33us/step\n",
      "2205/2205 [==============================] - 0s 30us/step\n"
     ]
    },
    {
     "data": {
      "text/plain": [
       "([0.7053341803395089, 0.5258386220752599],\n",
       " [0.6483002354498624, 0.6362811790166799])"
      ]
     },
     "execution_count": 15,
     "metadata": {},
     "output_type": "execute_result"
    }
   ],
   "source": [
    "score_test = model.evaluate(X_test_dim, y_test,)\n",
    "score_train = model.evaluate(X_train_dim, y_train)\n",
    "score_test, score_train"
   ]
  },
  {
   "cell_type": "code",
   "execution_count": null,
   "metadata": {},
   "outputs": [],
   "source": []
  }
 ],
 "metadata": {
  "kernelspec": {
   "display_name": "Python 3",
   "language": "python",
   "name": "python3"
  },
  "language_info": {
   "codemirror_mode": {
    "name": "ipython",
    "version": 3
   },
   "file_extension": ".py",
   "mimetype": "text/x-python",
   "name": "python",
   "nbconvert_exporter": "python",
   "pygments_lexer": "ipython3",
   "version": "3.6.5"
  }
 },
 "nbformat": 4,
 "nbformat_minor": 2
}
