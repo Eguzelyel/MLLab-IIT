{
 "cells": [
  {
   "cell_type": "code",
   "execution_count": 1,
   "metadata": {},
   "outputs": [
    {
     "name": "stderr",
     "output_type": "stream",
     "text": [
      "Using TensorFlow backend.\n"
     ]
    }
   ],
   "source": [
    "import labeled_functions\n",
    "import numpy as np\n",
    "import pandas as pd\n",
    "\n",
    "import keras\n",
    "from keras import regularizers\n",
    "from keras.layers import Dense, Embedding, Flatten, Dropout\n",
    "from keras.models import Model, Input\n",
    "from keras.preprocessing.text import text_to_word_sequence, one_hot\n",
    "from keras.preprocessing.sequence import pad_sequences\n",
    "from keras.utils import to_categorical\n",
    "\n",
    "import sklearn as sk\n",
    "from sklearn.feature_extraction.text import CountVectorizer\n",
    "from sklearn.feature_extraction import stop_words\n",
    "from sklearn.model_selection import train_test_split, StratifiedKFold\n",
    "\n",
    "import matplotlib.pyplot as plt"
   ]
  },
  {
   "cell_type": "raw",
   "metadata": {},
   "source": [
    "X, y = labeled_functions.load_labeled(path=r\"./../../Fall_18/edu/active_learning/\")"
   ]
  },
  {
   "cell_type": "code",
   "execution_count": 2,
   "metadata": {},
   "outputs": [
    {
     "name": "stdout",
     "output_type": "stream",
     "text": [
      "Labeled Data loaded.\n"
     ]
    }
   ],
   "source": [
    "X, y = labeled_functions.load_labeled_neutrals(path=r\"./../../Fall_18/edu/active_learning/\")"
   ]
  },
  {
   "cell_type": "code",
   "execution_count": 3,
   "metadata": {},
   "outputs": [],
   "source": [
    "# Vectorize using CountVectorizer\n",
    "token = r\"(?u)\\b[\\w\\'/]+\\b\"\n",
    "def vectorize(ngram=(1,1), stop=[\"the\",\"a\",\"of\",\"and\",\"br\",\"to\"]):\n",
    "    return CountVectorizer(token_pattern=token, binary=True, ngram_range=ngram, stop_words=stop)\n",
    "\n",
    "vectorizer = vectorize(stop=[\"a\",\"of\",\"and\",\"br\",\"to\"])\n",
    "X_vector = vectorizer.fit_transform(X)\n",
    "\n",
    "\n",
    "X_train_vector , X_test_vector, y_train, y_test = train_test_split(X_vector, y, test_size=1./3, random_state=42)"
   ]
  },
  {
   "cell_type": "code",
   "execution_count": 4,
   "metadata": {},
   "outputs": [
    {
     "data": {
      "text/plain": [
       "array([[0., 0., 1.],\n",
       "       [0., 1., 0.],\n",
       "       [1., 0., 0.],\n",
       "       [1., 0., 0.],\n",
       "       [0., 1., 0.]], dtype=float32)"
      ]
     },
     "execution_count": 4,
     "metadata": {},
     "output_type": "execute_result"
    }
   ],
   "source": [
    "y_cat = to_categorical(y,num_classes=3)\n",
    "y_cat[:5]"
   ]
  },
  {
   "cell_type": "code",
   "execution_count": 5,
   "metadata": {},
   "outputs": [
    {
     "data": {
      "text/plain": [
       "[[32, 99, 56, 100, 32, 5, 94, 120, 11], [60, 98, 24, 60, 75, 32, 1]]"
      ]
     },
     "execution_count": 5,
     "metadata": {},
     "output_type": "execute_result"
    }
   ],
   "source": [
    "# Maximum sequence length\n",
    "X_sequence = []\n",
    "for i in X:\n",
    "    X_sequence.append(text_to_word_sequence(i))\n",
    "max_length = len(max(X_sequence,key=len))\n",
    "\n",
    "X_corpus_one_hot = []\n",
    "for i in X:\n",
    "    X_corpus_one_hot.append(one_hot(i, round(max_length*1.1)))\n",
    "\n",
    "X_corpus_one_hot[1:3]"
   ]
  },
  {
   "cell_type": "code",
   "execution_count": 6,
   "metadata": {},
   "outputs": [],
   "source": [
    "X_train_sequence, X_test_sequence, y_train, y_test = train_test_split(X_sequence, y_cat, test_size=1./3, random_state=42)"
   ]
  },
  {
   "cell_type": "raw",
   "metadata": {},
   "source": [
    "X_train_sequence, X_test_sequence, y_train, y_test = train_test_split(X_sequence, y, test_size=1./3, random_state=42)"
   ]
  },
  {
   "cell_type": "code",
   "execution_count": 7,
   "metadata": {},
   "outputs": [
    {
     "data": {
      "text/plain": [
       "['who',\n",
       " \"'s\",\n",
       " 'liked',\n",
       " 'marc',\n",
       " 'bolan',\n",
       " 'but',\n",
       " 'gives',\n",
       " 'a',\n",
       " 'fascinating',\n",
       " 'insight',\n",
       " 'into',\n",
       " 'the',\n",
       " 'era',\n",
       " 'these',\n",
       " 'were',\n",
       " 'the',\n",
       " 'time']"
      ]
     },
     "execution_count": 7,
     "metadata": {},
     "output_type": "execute_result"
    }
   ],
   "source": [
    "X_train_sequence[0]"
   ]
  },
  {
   "cell_type": "code",
   "execution_count": 8,
   "metadata": {},
   "outputs": [],
   "source": [
    "# padded_seq = pad_sequences(X_corpus_one_hot)\n",
    "# X_train_padded_seq, X_test_padded_seq, y_train, y_test = train_test_split(padded_seq, y_cat,\n",
    "#                                                                           test_size=1./3, random_state=42)\n",
    "padded_seq = pad_sequences(X_corpus_one_hot)\n",
    "X_train_padded_seq, X_test_padded_seq, y_train, y_test = train_test_split(padded_seq, y_cat,\n",
    "                                                                          test_size=1./3, random_state=42)"
   ]
  },
  {
   "cell_type": "code",
   "execution_count": 9,
   "metadata": {},
   "outputs": [
    {
     "data": {
      "text/plain": [
       "((3644, 134), (1823, 134), (5467,))"
      ]
     },
     "execution_count": 9,
     "metadata": {},
     "output_type": "execute_result"
    }
   ],
   "source": [
    "X_train_padded_seq.shape, X_test_padded_seq.shape, y.shape"
   ]
  },
  {
   "cell_type": "code",
   "execution_count": 10,
   "metadata": {},
   "outputs": [],
   "source": [
    "# Creating validation data \n",
    "X_test_core, X_val, y_test_core, y_val = train_test_split(X_test_padded_seq, y_test, test_size=0.2, random_state=42)"
   ]
  },
  {
   "cell_type": "code",
   "execution_count": 11,
   "metadata": {},
   "outputs": [],
   "source": [
    "# Model setup\n",
    "input_nodes= Input(shape=(X_train_padded_seq.shape[1],))\n",
    "e = Embedding(round(max_length*1.1),\n",
    "              100,\n",
    "              input_length=X_train_padded_seq.shape[1],\n",
    "              trainable=True)(input_nodes)\n",
    "flat= Flatten()(e)\n",
    "dense1 = Dense(100, activation='tanh', kernel_regularizer=regularizers.l2(0.1))(flat)\n",
    "drop = Dropout(0.2)(dense1)\n",
    "dense2 = Dense(10, activation='tanh')(drop)\n",
    "drop2 = Dropout(0.2)(dense2)\n",
    "\n",
    "# dense2 = Dense(30, activation='sigmoid')(dense1)\n",
    "\n",
    "output_nodes=Dense(3, activation='softmax')(drop2)\n",
    "# output_nodes=Dense(1, activation='sigmoid')(dense1)\n",
    "\n",
    "#Build model\n",
    "model = Model(inputs=input_nodes, outputs=output_nodes)\n",
    "model.compile(optimizer='adam',\n",
    "              loss='categorical_crossentropy',\n",
    "              metrics=['accuracy'])"
   ]
  },
  {
   "cell_type": "code",
   "execution_count": 12,
   "metadata": {
    "scrolled": true
   },
   "outputs": [
    {
     "name": "stdout",
     "output_type": "stream",
     "text": [
      "Train on 3644 samples, validate on 365 samples\n",
      "Epoch 1/15\n",
      "3644/3644 [==============================] - 2s 672us/step - loss: 3.4392 - acc: 0.3576 - val_loss: 1.1311 - val_acc: 0.3288\n",
      "Epoch 2/15\n",
      "3644/3644 [==============================] - 2s 528us/step - loss: 1.1120 - acc: 0.3867 - val_loss: 1.1079 - val_acc: 0.3753\n",
      "Epoch 3/15\n",
      "3644/3644 [==============================] - 2s 639us/step - loss: 1.0972 - acc: 0.4380 - val_loss: 1.1027 - val_acc: 0.4521\n",
      "Epoch 4/15\n",
      "3644/3644 [==============================] - 2s 542us/step - loss: 1.0901 - acc: 0.4673 - val_loss: 1.1206 - val_acc: 0.4055\n",
      "Epoch 5/15\n",
      "3644/3644 [==============================] - 2s 510us/step - loss: 1.0977 - acc: 0.4838 - val_loss: 1.1313 - val_acc: 0.4411\n",
      "Epoch 6/15\n",
      "3644/3644 [==============================] - 2s 460us/step - loss: 1.1013 - acc: 0.4929 - val_loss: 1.1489 - val_acc: 0.4411\n",
      "Epoch 7/15\n",
      "3644/3644 [==============================] - 2s 466us/step - loss: 1.0900 - acc: 0.5104 - val_loss: 1.1471 - val_acc: 0.4055\n",
      "Epoch 8/15\n",
      "3644/3644 [==============================] - 2s 489us/step - loss: 1.0843 - acc: 0.5140 - val_loss: 1.2091 - val_acc: 0.4521\n",
      "Epoch 9/15\n",
      "3644/3644 [==============================] - 2s 498us/step - loss: 1.0884 - acc: 0.5346 - val_loss: 1.1956 - val_acc: 0.4603\n",
      "Epoch 10/15\n",
      "3644/3644 [==============================] - 2s 524us/step - loss: 1.0983 - acc: 0.5458 - val_loss: 1.2627 - val_acc: 0.4219\n",
      "Epoch 11/15\n",
      "3644/3644 [==============================] - 2s 512us/step - loss: 1.0844 - acc: 0.5590 - val_loss: 1.2116 - val_acc: 0.4521\n",
      "Epoch 12/15\n",
      "3644/3644 [==============================] - 2s 475us/step - loss: 1.0688 - acc: 0.5763 - val_loss: 1.2904 - val_acc: 0.4795\n",
      "Epoch 13/15\n",
      "3644/3644 [==============================] - 2s 650us/step - loss: 1.0892 - acc: 0.5862 - val_loss: 1.2720 - val_acc: 0.4740\n",
      "Epoch 14/15\n",
      "3644/3644 [==============================] - 2s 620us/step - loss: 1.0801 - acc: 0.5955 - val_loss: 1.3510 - val_acc: 0.4521\n",
      "Epoch 15/15\n",
      "3644/3644 [==============================] - 2s 552us/step - loss: 1.0751 - acc: 0.6002 - val_loss: 1.3019 - val_acc: 0.4767\n"
     ]
    },
    {
     "data": {
      "text/plain": [
       "<keras.callbacks.History at 0x1252ff1d0>"
      ]
     },
     "execution_count": 12,
     "metadata": {},
     "output_type": "execute_result"
    }
   ],
   "source": [
    "model.fit(X_train_padded_seq, y_train, batch_size=64, epochs=15, validation_data=(X_val,y_val))"
   ]
  },
  {
   "cell_type": "code",
   "execution_count": 13,
   "metadata": {},
   "outputs": [
    {
     "name": "stdout",
     "output_type": "stream",
     "text": [
      "1823/1823 [==============================] - 0s 177us/step\n"
     ]
    },
    {
     "data": {
      "text/plain": [
       "[1.3162805498529122, 0.465715853218449]"
      ]
     },
     "execution_count": 13,
     "metadata": {},
     "output_type": "execute_result"
    }
   ],
   "source": [
    "model.evaluate(X_test_padded_seq, y_test)"
   ]
  },
  {
   "cell_type": "markdown",
   "metadata": {},
   "source": [
    "- __confusion_matrix__\n",
    "\n",
    "Which elements is the models confused?\n",
    "Pos-Net-Neg"
   ]
  },
  {
   "cell_type": "code",
   "execution_count": 14,
   "metadata": {},
   "outputs": [
    {
     "data": {
      "image/png": "[encoded data removed]",
      "text/plain": [
       "<Figure size 432x288 with 1 Axes>"
      ]
     },
     "metadata": {},
     "output_type": "display_data"
    }
   ],
   "source": [
    "plt.plot(model.history.history['acc'])\n",
    "plt.plot(model.history.history['val_acc'])\n",
    "plt.show()"
   ]
  },
  {
   "cell_type": "code",
   "execution_count": null,
   "metadata": {},
   "outputs": [],
   "source": []
  },
  {
   "cell_type": "code",
   "execution_count": null,
   "metadata": {},
   "outputs": [],
   "source": []
  }
 ],
 "metadata": {
  "kernelspec": {
   "display_name": "Python 3",
   "language": "python",
   "name": "python3"
  },
  "language_info": {
   "codemirror_mode": {
    "name": "ipython",
    "version": 3
   },
   "file_extension": ".py",
   "mimetype": "text/x-python",
   "name": "python",
   "nbconvert_exporter": "python",
   "pygments_lexer": "ipython3",
   "version": "3.6.5"
  }
 },
 "nbformat": 4,
 "nbformat_minor": 2
}
