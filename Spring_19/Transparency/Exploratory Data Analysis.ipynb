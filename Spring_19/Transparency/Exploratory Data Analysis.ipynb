{
 "cells": [
  {
   "cell_type": "markdown",
   "metadata": {},
   "source": [
    "### EDA\n",
    "\n",
    "Querying the characteristics of EDU data.\n",
    "\n",
    "Tasks:\n",
    "- How many Positive, Negative, Neutral EDUs are there?\n",
    "- Proportion\n",
    "- Check the length of the EDUs\n",
    "    - Make a histogram according to length of p,n,z. \n",
    "- How does LR and LSTM works? (Other notebook)\n",
    "    \n",
    "__Notation:__\n",
    "\n",
    "* Positive (p): 1\n",
    "* Negative (n): -1\n",
    "* Neutral (z): 0\n"
   ]
  },
  {
   "cell_type": "code",
   "execution_count": 1,
   "metadata": {},
   "outputs": [],
   "source": [
    "import labeled_functions\n",
    "import numpy as np\n",
    "import pandas as pd\n",
    "\n",
    "import matplotlib.pyplot as plt\n",
    "from matplotlib import colors\n",
    "\n",
    "import sklearn as sk\n",
    "from sklearn.feature_extraction.text import CountVectorizer\n",
    "from sklearn.feature_extraction import stop_words"
   ]
  },
  {
   "cell_type": "code",
   "execution_count": 2,
   "metadata": {
    "scrolled": false
   },
   "outputs": [
    {
     "name": "stdout",
     "output_type": "stream",
     "text": [
      "Labeled Data loaded.\n"
     ]
    }
   ],
   "source": [
    "X, y = labeled_functions.load_labeled_neutrals(path=r\"/Users/ekremguzelyel/Desktop/Assignments/Research/MLLab-IIT/Fall_19/edu/active_learning/\")"
   ]
  },
  {
   "cell_type": "code",
   "execution_count": 3,
   "metadata": {},
   "outputs": [
    {
     "name": "stdout",
     "output_type": "stream",
     "text": [
      "Unlabeled Data loaded.\n"
     ]
    }
   ],
   "source": [
    "X_un = labeled_functions.load_unlabeled(path=r\"/Users/ekremguzelyel/Desktop/Assignments/Research/MLLab-IIT/Fall_19/edu/active_learning/\", shuffle=False)"
   ]
  },
  {
   "cell_type": "code",
   "execution_count": 16,
   "metadata": {},
   "outputs": [
    {
     "data": {
      "text/plain": [
       "19719"
      ]
     },
     "execution_count": 16,
     "metadata": {},
     "output_type": "execute_result"
    }
   ],
   "source": [
    "len(X_un)"
   ]
  },
  {
   "cell_type": "code",
   "execution_count": 5,
   "metadata": {},
   "outputs": [],
   "source": [
    "# Vectorize using CountVectorizer\n",
    "token = r\"(?u)\\b[\\w\\'/]+\\b\"\n",
    "def vectorize(ngram=(1,1), stop=[\"the\",\"a\",\"of\",\"and\",\"br\",\"to\"]):\n",
    "    return CountVectorizer(token_pattern=token, binary=True, ngram_range=ngram, stop_words=stop)\n",
    "\n",
    "vectorizer_one = vectorize(stop=[\"a\",\"of\",\"and\",\"br\",\"to\"])\n",
    "# vectorizer_two = vectorize(ngram=(1,2), stop=[\"a\",\"of\",\"and\",\"br\",\"to\"])\n",
    "# vectorizer_the = vectorize(stop=[\"the\",\"a\",\"of\",\"and\",\"br\",\"to\"])\n",
    "\n",
    "X_vector = vectorizer_one.fit_transform(X)"
   ]
  },
  {
   "cell_type": "markdown",
   "metadata": {},
   "source": [
    "__Important Note:__\n",
    "At first, I used \"the\" in stop_words. However, now that I realized \"the\" is an indicator of superlative, it should be included in the vector count. Especially sequence model may give better results with this new addition."
   ]
  },
  {
   "cell_type": "markdown",
   "metadata": {},
   "source": [
    "---------------\n",
    "__Talking about Numbers__"
   ]
  },
  {
   "cell_type": "code",
   "execution_count": 18,
   "metadata": {},
   "outputs": [
    {
     "name": "stdout",
     "output_type": "stream",
     "text": [
      "Overall # of EDUs: 5201 \n",
      "Positive: 1608 \n",
      "Negative: 1680 \n",
      "Neutral: 1913 \n",
      "Unlabeled: 19719\n"
     ]
    }
   ],
   "source": [
    "label, count = np.unique(y, return_counts=True)\n",
    "print(\"Overall # of EDUs: %s \\nPositive: %s \\nNegative: %s \\nNeutral: %s \\nUnlabeled: %s\" \n",
    "      %(len(X), count[2], count[0], count[1], len(X_un)))"
   ]
  },
  {
   "cell_type": "markdown",
   "metadata": {},
   "source": [
    "__The Length of EDUs__"
   ]
  },
  {
   "cell_type": "code",
   "execution_count": 7,
   "metadata": {},
   "outputs": [
    {
     "data": {
      "text/plain": [
       "([11, 10, 5, 5, 10, 5, 7, 7, 16, 8],\n",
       " array([ 0, -1,  0,  1,  0,  0,  0,  0,  1, -1]))"
      ]
     },
     "execution_count": 7,
     "metadata": {},
     "output_type": "execute_result"
    }
   ],
   "source": [
    "EDU_counts=[]\n",
    "for i in enumerate(X_vector.todense()):\n",
    "    EDU_counts.append(len(i[1].nonzero()[1]))\n",
    "\n",
    "# Check counts vs. labels\n",
    "EDU_counts[:10], y[:10]"
   ]
  },
  {
   "cell_type": "code",
   "execution_count": 8,
   "metadata": {},
   "outputs": [
    {
     "name": "stdout",
     "output_type": "stream",
     "text": [
      "Overall Mean: 8.403191693905018\n",
      "Positive EDU Mean: 8.458955223880597\n",
      "Negative EDU Mean: 8.138095238095238\n",
      "Neutral EDU Mean: 8.589127025614218\n"
     ]
    }
   ],
   "source": [
    "print(\"Overall Mean: %s\\nPositive EDU Mean: %s\\nNegative EDU Mean: %s\\nNeutral EDU Mean: %s\"\n",
    "    %(np.mean(EDU_counts),\n",
    "      np.mean([EDU_counts[x] for x in range(len(y)) if y[x]==1]),\n",
    "      np.mean([EDU_counts[x] for x in range(len(y)) if y[x]==-1]),\n",
    "      np.mean([EDU_counts[x] for x in range(len(y)) if y[x]==0])))"
   ]
  },
  {
   "cell_type": "code",
   "execution_count": 9,
   "metadata": {
    "scrolled": false
   },
   "outputs": [
    {
     "name": "stdout",
     "output_type": "stream",
     "text": [
      "Overall Median: 8.0\n",
      "Positive EDU Median: 8.0\n",
      "Negative EDU Median: 7.0\n",
      "Neutral EDU Median: 8.0\n"
     ]
    }
   ],
   "source": [
    "print(\"Overall Median: %s\\nPositive EDU Median: %s\\nNegative EDU Median: %s\\nNeutral EDU Median: %s\"\n",
    "    %(np.median(EDU_counts),\n",
    "      np.median([EDU_counts[x] for x in range(len(y)) if y[x]==1]),\n",
    "      np.median([EDU_counts[x] for x in range(len(y)) if y[x]==-1]),\n",
    "      np.median([EDU_counts[x] for x in range(len(y)) if y[x]==0])))"
   ]
  },
  {
   "cell_type": "code",
   "execution_count": 10,
   "metadata": {},
   "outputs": [
    {
     "name": "stdout",
     "output_type": "stream",
     "text": [
      "Overall Max: 90\n",
      "Positive EDU Max: 41\n",
      "Negative EDU Max: 73\n",
      "Neutral EDU Max: 90\n"
     ]
    }
   ],
   "source": [
    "print(\"Overall Max: %s\\nPositive EDU Max: %s\\nNegative EDU Max: %s\\nNeutral EDU Max: %s\"\n",
    "    %(np.max(EDU_counts),\n",
    "      np.max([EDU_counts[x] for x in range(len(y)) if y[x]==1]),\n",
    "      np.max([EDU_counts[x] for x in range(len(y)) if y[x]==-1]),\n",
    "      np.max([EDU_counts[x] for x in range(len(y)) if y[x]==0])))"
   ]
  },
  {
   "cell_type": "code",
   "execution_count": 11,
   "metadata": {
    "scrolled": true
   },
   "outputs": [
    {
     "name": "stdout",
     "output_type": "stream",
     "text": [
      "Overall Min: 1\n",
      "Positive EDU Min: 1\n",
      "Negative EDU Min: 1\n",
      "Neutral EDU Min: 1\n"
     ]
    }
   ],
   "source": [
    "print(\"Overall Min: %s\\nPositive EDU Min: %s\\nNegative EDU Min: %s\\nNeutral EDU Min: %s\"\n",
    "    %(np.min(EDU_counts),\n",
    "      np.min([EDU_counts[x] for x in range(len(y)) if y[x]==1]),\n",
    "      np.min([EDU_counts[x] for x in range(len(y)) if y[x]==-1]),\n",
    "      np.min([EDU_counts[x] for x in range(len(y)) if y[x]==0])))"
   ]
  },
  {
   "cell_type": "code",
   "execution_count": 12,
   "metadata": {
    "scrolled": true
   },
   "outputs": [
    {
     "data": {
      "text/plain": [
       "(['who sensitises her character to perfection . ',\n",
       "  \"that the greatest desire of the wretched duo is to become `` true '' american ? \",\n",
       "  'grounded on a beautiful tropical island ',\n",
       "  'where you drink too much cheap beer ',\n",
       "  'i sometimes enjoy really lousy movie ... .those '],\n",
       " array([1, 0, 0, 0, 0]))"
      ]
     },
     "execution_count": 12,
     "metadata": {},
     "output_type": "execute_result"
    }
   ],
   "source": [
    "# Example check\n",
    "X[3:8], y[3:8]"
   ]
  },
  {
   "cell_type": "code",
   "execution_count": 13,
   "metadata": {
    "scrolled": true
   },
   "outputs": [
    {
     "name": "stderr",
     "output_type": "stream",
     "text": [
      "/Users/ekremguzelyel/anaconda/lib/python3.6/site-packages/matplotlib/axes/_axes.py:6462: UserWarning: The 'normed' kwarg is deprecated, and has been replaced by the 'density' kwarg.\n",
      "  warnings.warn(\"The 'normed' kwarg is deprecated, and has been \"\n"
     ]
    },
    {
     "data": {
      "image/png": "[encoded data removed]",
      "text/plain": [
       "<Figure size 432x288 with 1 Axes>"
      ]
     },
     "metadata": {},
     "output_type": "display_data"
    }
   ],
   "source": [
    "# Positive\n",
    "pos_fig = [EDU_counts[x] for x in range(len(y)) if y[x]==1]\n",
    "plt.hist(pos_fig, normed=False, bins=30, color=['k'])\n",
    "plt.xticks([0,10,20,30,40,50,60,70,80])\n",
    "plt.ylabel(\"Positive EDU lengths\")\n",
    "# plt.show()\n",
    "\n",
    "# Negative\n",
    "neg_fig = [EDU_counts[x] for x in range(len(y)) if y[x]==-1]\n",
    "plt.hist(neg_fig, normed=False,alpha=0.5, bins=30, color=['m'])\n",
    "# plt.xticks([0,10,20,30,40,50,60,70,80])\n",
    "# plt.ylabel(\"Negative EDU lengths\")\n",
    "# plt.show()\n",
    "\n",
    "# Neutral\n",
    "neut_fig = [EDU_counts[x] for x in range(len(y)) if y[x]==0]\n",
    "plt.hist(neut_fig, normed=False,alpha=0.2, bins=30, color=['b'])\n",
    "# plt.xticks([0,10,20,30,40,50,60,70,80])\n",
    "# plt.ylabel(\"Neutral EDU lengths\")\n",
    "plt.show()"
   ]
  },
  {
   "cell_type": "code",
   "execution_count": 14,
   "metadata": {
    "scrolled": true
   },
   "outputs": [
    {
     "name": "stderr",
     "output_type": "stream",
     "text": [
      "/Users/ekremguzelyel/anaconda/lib/python3.6/site-packages/matplotlib/axes/_axes.py:6462: UserWarning: The 'normed' kwarg is deprecated, and has been replaced by the 'density' kwarg.\n",
      "  warnings.warn(\"The 'normed' kwarg is deprecated, and has been \"\n"
     ]
    },
    {
     "data": {
      "image/png": "[encoded data removed]",
      "text/plain": [
       "<Figure size 432x288 with 1 Axes>"
      ]
     },
     "metadata": {},
     "output_type": "display_data"
    },
    {
     "data": {
      "image/png": "[encoded data removed]",
      "text/plain": [
       "<Figure size 432x288 with 1 Axes>"
      ]
     },
     "metadata": {},
     "output_type": "display_data"
    },
    {
     "data": {
      "image/png": "[encoded data removed]",
      "text/plain": [
       "<Figure size 432x288 with 1 Axes>"
      ]
     },
     "metadata": {},
     "output_type": "display_data"
    }
   ],
   "source": [
    "# Positive\n",
    "pos_fig = [EDU_counts[x] for x in range(len(y)) if y[x]==1]\n",
    "plt.hist(pos_fig, normed=False, bins=30)\n",
    "plt.xticks([0,10,20,30,40,50,60,70,80])\n",
    "plt.ylabel(\"Positive EDU lengths\")\n",
    "plt.show()\n",
    "\n",
    "# Negative\n",
    "neg_fig = [EDU_counts[x] for x in range(len(y)) if y[x]==-1]\n",
    "plt.hist(neg_fig, normed=False,alpha=1, bins=30)\n",
    "plt.xticks([0,10,20,30,40,50,60,70,80])\n",
    "plt.ylabel(\"Negative EDU lengths\")\n",
    "plt.show()\n",
    "\n",
    "# Neutral\n",
    "neut_fig = [EDU_counts[x] for x in range(len(y)) if y[x]==0]\n",
    "plt.hist(neut_fig, normed=False,alpha=1, bins=30)\n",
    "plt.xticks([0,10,20,30,40,50,60,70,80])\n",
    "plt.ylabel(\"Neutral EDU lengths\")\n",
    "plt.show()"
   ]
  },
  {
   "cell_type": "code",
   "execution_count": 15,
   "metadata": {
    "scrolled": false
   },
   "outputs": [
    {
     "name": "stderr",
     "output_type": "stream",
     "text": [
      "/Users/ekremguzelyel/anaconda/lib/python3.6/site-packages/matplotlib/axes/_axes.py:6462: UserWarning: The 'normed' kwarg is deprecated, and has been replaced by the 'density' kwarg.\n",
      "  warnings.warn(\"The 'normed' kwarg is deprecated, and has been \"\n"
     ]
    },
    {
     "data": {
      "image/png": "[encoded data removed]",
      "text/plain": [
       "<Figure size 432x288 with 3 Axes>"
      ]
     },
     "metadata": {},
     "output_type": "display_data"
    }
   ],
   "source": [
    "\n",
    "# Generate a normal distribution, center at x=0 and y=5\n",
    "pos_fig = [EDU_counts[x] for x in range(len(y)) if y[x]==1]\n",
    "neg_fig = [EDU_counts[x] for x in range(len(y)) if y[x]==-1]\n",
    "neut_fig = [EDU_counts[x] for x in range(len(y)) if y[x]==0]\n",
    "\n",
    "fig, axs = plt.subplots(1, 3, sharey=True, tight_layout=False)\n",
    "\n",
    "# plt.ylabel(\"# of Occurences\")\n",
    "axs[0].hist(pos_fig, normed=False, bins=30)\n",
    "axs[1].hist(neg_fig, normed=False, bins=30)\n",
    "axs[2].hist(neut_fig, normed=False, bins=30)\n",
    "\n",
    "plt.show()\n",
    "\n",
    "\n",
    "# [EDU_counts[x] for x in range(len(y)) if y[x]==1]\n"
   ]
  },
  {
   "cell_type": "markdown",
   "metadata": {},
   "source": [
    "### Findings:\n",
    "1. The number of positive, negative, and neutral EDUs are close to each other.\n",
    "    - This is a good sign!\n",
    "2. Negative EDUs tend to be shorter than positive and neutrals.\n",
    "3. Keyword \"the\" affects length of an EDU 0.4 in average.\n",
    "    - And, in theory, it might help sequence models."
   ]
  },
  {
   "cell_type": "markdown",
   "metadata": {},
   "source": [
    "--------\n",
    "---------\n",
    "--------"
   ]
  },
  {
   "cell_type": "code",
   "execution_count": null,
   "metadata": {},
   "outputs": [],
   "source": []
  }
 ],
 "metadata": {
  "kernelspec": {
   "display_name": "Python 3",
   "language": "python",
   "name": "python3"
  },
  "language_info": {
   "codemirror_mode": {
    "name": "ipython",
    "version": 3
   },
   "file_extension": ".py",
   "mimetype": "text/x-python",
   "name": "python",
   "nbconvert_exporter": "python",
   "pygments_lexer": "ipython3",
   "version": "3.6.5"
  }
 },
 "nbformat": 4,
 "nbformat_minor": 2
}
