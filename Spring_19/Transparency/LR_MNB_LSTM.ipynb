{
 "cells": [
  {
   "cell_type": "code",
   "execution_count": 4,
   "metadata": {},
   "outputs": [
    {
     "name": "stderr",
     "output_type": "stream",
     "text": [
      "/Users/ekremguzelyel/anaconda/lib/python3.6/site-packages/sklearn/cross_validation.py:44: DeprecationWarning: This module was deprecated in version 0.18 in favor of the model_selection module into which all the refactored classes and functions are moved. Also note that the interface of the new CV iterators are different from that of this module. This module will be removed in 0.20.\n",
      "  \"This module will be removed in 0.20.\", DeprecationWarning)\n",
      "Using TensorFlow backend.\n"
     ]
    }
   ],
   "source": [
    "import labeled_functions\n",
    "import numpy as np\n",
    "import pandas as pd\n",
    "import pickle\n",
    "\n",
    "import matplotlib.pyplot as plt\n",
    "from matplotlib import colors\n",
    "\n",
    "import sklearn as sk\n",
    "from sklearn.feature_extraction.text import CountVectorizer\n",
    "from sklearn.feature_extraction import stop_words\n",
    "from sklearn.model_selection import train_test_split, StratifiedKFold\n",
    "from sklearn.cross_validation import cross_val_score, StratifiedKFold # Difference? (indices=None, or nothing)\n",
    "from sklearn.naive_bayes import MultinomialNB\n",
    "from sklearn.linear_model import LogisticRegression\n",
    "\n",
    "import keras\n",
    "from keras.models import Model, save_model, load_model\n",
    "from keras.layers import Dense, LSTM, Input, Embedding\n",
    "from keras.utils import to_categorical\n",
    "from keras.preprocessing.text import text_to_word_sequence, one_hot\n",
    "from keras.preprocessing.sequence import pad_sequences"
   ]
  },
  {
   "cell_type": "code",
   "execution_count": 5,
   "metadata": {},
   "outputs": [
    {
     "name": "stdout",
     "output_type": "stream",
     "text": [
      "Labeled Data loaded.\n"
     ]
    }
   ],
   "source": [
    "X, y = labeled_functions.load_labeled_neutrals(path=r\"./../../Fall_18/edu/active_learning/\")"
   ]
  },
  {
   "cell_type": "code",
   "execution_count": 6,
   "metadata": {},
   "outputs": [],
   "source": [
    "# Vectorize using CountVectorizer\n",
    "token = r\"(?u)\\b[\\w\\'/]+\\b\"\n",
    "def vectorize(ngram=(1,3), stop=[\"the\",\"a\",\"of\",\"and\",\"br\",\"to\"]):\n",
    "    return CountVectorizer(token_pattern=token, binary=True, ngram_range=ngram, stop_words=stop)\n",
    "\n",
    "# X_train_corpus , X_test_corpus, y_train, y_test = train_test_split(X, y, test_size=1./3, random_state=42)\n",
    "\n",
    "vectorizer_one = vectorize(stop=[\"a\",\"of\",\"and\",\"br\",\"to\"])\n",
    "X_vector = vectorizer_one.fit_transform(X)\n",
    "\n",
    "# X_train_vector = vectorizer_one.fit_transform(X_train_corpus)\n",
    "# X_test_vector = vectorizer_one.transform(X_test_corpus)\n",
    "\n",
    "X_train_vector , X_test_vector, y_train, y_test = train_test_split(X_vector, y, test_size=1./3, random_state=42)"
   ]
  },
  {
   "cell_type": "markdown",
   "metadata": {},
   "source": [
    "## LR and MNB"
   ]
  },
  {
   "cell_type": "code",
   "execution_count": 7,
   "metadata": {
    "scrolled": true
   },
   "outputs": [
    {
     "data": {
      "text/plain": [
       "0.6450381679389313"
      ]
     },
     "execution_count": 7,
     "metadata": {},
     "output_type": "execute_result"
    }
   ],
   "source": [
    "lr = LogisticRegression()\n",
    "lr.fit(X_train_vector,y_train)\n",
    "lr.score(X_test_vector,y_test)"
   ]
  },
  {
   "cell_type": "code",
   "execution_count": 46,
   "metadata": {},
   "outputs": [
    {
     "data": {
      "text/plain": [
       "0.60431654676259"
      ]
     },
     "execution_count": 46,
     "metadata": {},
     "output_type": "execute_result"
    }
   ],
   "source": [
    "mnb = MultinomialNB(alpha=1, fit_prior=True)\n",
    "mnb.fit(X_train_vector, y_train)\n",
    "mnb.score(X_test_vector, y_test)"
   ]
  },
  {
   "cell_type": "code",
   "execution_count": 9,
   "metadata": {},
   "outputs": [],
   "source": [
    "cv = StratifiedKFold(y, n_folds=5, random_state=42)"
   ]
  },
  {
   "cell_type": "code",
   "execution_count": 10,
   "metadata": {
    "scrolled": true
   },
   "outputs": [
    {
     "name": "stdout",
     "output_type": "stream",
     "text": [
      "(1, 1)\n",
      "[0.61887477 0.62216167 0.62181818 0.65423112 0.59872611]\n",
      "[0.60707804 0.60127157 0.59454545 0.61419472 0.58871702]\n",
      "(1, 2)\n",
      "[0.64700544 0.63215259 0.63545455 0.65969063 0.63967243]\n",
      "[0.6107078  0.61126249 0.61090909 0.62056415 0.61237489]\n",
      "(1, 3)\n",
      "[0.6415608  0.62306994 0.63       0.6633303  0.62966333]\n",
      "[0.6061706  0.60490463 0.61454545 0.62693358 0.61419472]\n",
      "(1, 4)\n",
      "[0.63883848 0.626703   0.62454545 0.66969973 0.633303  ]\n",
      "[0.6061706  0.61217075 0.62090909 0.62602366 0.61510464]\n"
     ]
    }
   ],
   "source": [
    "grams=[(1,1),(1,2),(1,3),(1,4)]\n",
    "\n",
    "for gram in grams:\n",
    "    print(gram)\n",
    "    vectorizer = vectorize(ngram=gram, stop=[\"a\",\"of\",\"and\",\"br\",\"to\"])\n",
    "    X_vector = vectorizer.fit_transform(X)\n",
    "    \n",
    "    models = [LogisticRegression(), MultinomialNB()]\n",
    "    \n",
    "    for model in models:\n",
    "        print(cross_val_score(model, X_vector, y, cv=cv, scoring=\"accuracy\"))"
   ]
  },
  {
   "cell_type": "markdown",
   "metadata": {},
   "source": [
    "#### IMPORTANT! \n",
    "I had to go back and check the document if they are labeled correctly, due to lower accuracies in all LR, MNB, and LSTM models. Look below cell for the coefficients in LR. \n",
    "\n",
    "They make no sense in other than n_gram = (1,1)"
   ]
  },
  {
   "cell_type": "code",
   "execution_count": 11,
   "metadata": {},
   "outputs": [
    {
     "data": {
      "text/plain": [
       "(3, 68586)"
      ]
     },
     "execution_count": 11,
     "metadata": {},
     "output_type": "execute_result"
    }
   ],
   "source": [
    "lr.coef_.shape"
   ]
  },
  {
   "cell_type": "code",
   "execution_count": 12,
   "metadata": {},
   "outputs": [
    {
     "data": {
      "text/plain": [
       "array([-1,  0,  1])"
      ]
     },
     "execution_count": 12,
     "metadata": {},
     "output_type": "execute_result"
    }
   ],
   "source": [
    "lr.classes_"
   ]
  },
  {
   "cell_type": "code",
   "execution_count": 47,
   "metadata": {
    "scrolled": false
   },
   "outputs": [
    {
     "name": "stdout",
     "output_type": "stream",
     "text": [
      "0.6181516325401217\n",
      "-1\n",
      "[ 8601  5093  6499 ... 26701 26702     0]\n",
      "boring \t 2.17\n",
      "awful \t 2.02\n",
      "beautiful \t -1.70\n",
      "waste \t 1.67\n",
      "great \t -1.65\n",
      "worst \t 1.64\n",
      "dull \t 1.61\n",
      "rare \t -1.54\n",
      "fails \t 1.52\n",
      "not bad \t -1.51\n",
      "pointless \t 1.40\n",
      "excellent \t -1.39\n",
      "best \t -1.36\n",
      "not \t 1.36\n",
      "stupid \t 1.36\n",
      "loved \t -1.34\n",
      "fantastic \t -1.34\n",
      "ridiculous \t 1.32\n",
      "fun \t -1.29\n",
      "predictable \t 1.28\n",
      "\n",
      "0\n",
      "[20327  8601 45758 ... 42223 16541     0]\n",
      "friend \t 1.65\n",
      "boring \t -1.35\n",
      "rarely \t 1.30\n",
      "best friend \t 1.19\n",
      "beloved \t 1.15\n",
      "after \t 1.12\n",
      "unsurprisingly \t 1.09\n",
      "him \t 1.04\n",
      "awful \t -1.04\n",
      "funeral \t 0.99\n",
      "can not \t 0.97\n",
      "vampire \t 0.97\n",
      "his \t 0.95\n",
      "7/10 \t -0.95\n",
      "unpredictable \t 0.95\n",
      "surprisingly \t 0.95\n",
      "the bad \t 0.95\n",
      "bad guy \t 0.95\n",
      "amazing \t -0.95\n",
      "dull \t -0.94\n",
      "\n",
      "1\n",
      "[44187 39765   343 ... 46506 18822     0]\n",
      "poor \t -2.16\n",
      "not bad \t 2.02\n",
      "7/10 \t 2.00\n",
      "excellent \t 1.99\n",
      "great \t 1.85\n",
      "amazing \t 1.77\n",
      "enjoyable \t 1.71\n",
      "8/10 \t 1.69\n",
      "beautiful \t 1.67\n",
      "bad \t -1.60\n",
      "perfectly \t 1.53\n",
      "fantastic \t 1.52\n",
      "unfortunately \t -1.46\n",
      "fun \t 1.44\n",
      "perfect \t 1.36\n",
      "wonderful \t 1.35\n",
      "loved \t 1.33\n",
      "subtle \t 1.33\n",
      "awful \t -1.30\n",
      "worst \t -1.30\n",
      "\n"
     ]
    }
   ],
   "source": [
    "vectorizer=vectorize(ngram=(1,3), stop=[\"a\",\"of\",\"and\",\"br\",\"to\"])\n",
    "X_vector = vectorizer.fit_transform(X)\n",
    "\n",
    "X_train_vector , X_test_vector, y_train, y_test = train_test_split(X_vector, y, test_size=1./3, random_state=42)\n",
    "\n",
    "lr.fit(X_train_vector,y_train)\n",
    "print(lr.score(X_test_vector,y_test))\n",
    "\n",
    "# Find biggest coefficients.\n",
    "\n",
    "for i in range(3):\n",
    "    print(lr.classes_[i])\n",
    "    \n",
    "\n",
    "    inds = np.argsort(np.abs(lr.coef_[i]))[::-1]\n",
    "\n",
    "    print(inds)\n",
    "    \n",
    "    for j in inds[:20]:\n",
    "        print(\"%s \\t %0.2f\" %(vectorizer.get_feature_names()[j], lr.coef_[i][j]))\n",
    "    \n",
    "    print()\n",
    "\n",
    "#coefs = list(zip(vectorizer.get_feature_names(), np.abs(lr.coef_[0])))\n",
    "#rank_coefs = sorted(coefs, key = lambda x: x[1], reverse=True)\n",
    "#rank_coefs[:50]"
   ]
  },
  {
   "cell_type": "code",
   "execution_count": 12,
   "metadata": {},
   "outputs": [
    {
     "data": {
      "text/plain": [
       "array([38759, 43080,  6337, ..., 31992, 31993,     0])"
      ]
     },
     "execution_count": 12,
     "metadata": {},
     "output_type": "execute_result"
    }
   ],
   "source": [
    "inds"
   ]
  },
  {
   "cell_type": "code",
   "execution_count": 21,
   "metadata": {},
   "outputs": [
    {
     "name": "stdout",
     "output_type": "stream",
     "text": [
      "0.01\n",
      "0.36083068935679263\n",
      "0.3817762399077278\n",
      "\n",
      "0.1\n",
      "0.5471589270262475\n",
      "0.5357554786620531\n",
      "\n",
      "1\n",
      "0.8422267089702913\n",
      "0.6291810841983853\n",
      "\n",
      "10\n",
      "0.9979809633689068\n",
      "0.621683967704729\n",
      "\n",
      "100\n",
      "0.9979809633689068\n",
      "0.6153402537485583\n",
      "\n"
     ]
    }
   ],
   "source": [
    "for c in [0.01, 0.1, 1, 10, 100]:\n",
    "    lr = LogisticRegression(C=c, penalty='l1')\n",
    "    lr.fit(X_train_vector,y_train)\n",
    "    print(c)\n",
    "    print(lr.score(X_train_vector, y_train))\n",
    "    print(lr.score(X_test_vector, y_test))\n",
    "    print()"
   ]
  },
  {
   "cell_type": "code",
   "execution_count": 13,
   "metadata": {},
   "outputs": [],
   "source": [
    "from sklearn.feature_selection import mutual_info_classif"
   ]
  },
  {
   "cell_type": "code",
   "execution_count": 14,
   "metadata": {
    "scrolled": true
   },
   "outputs": [
    {
     "name": "stdout",
     "output_type": "stream",
     "text": [
      "are wonderful the \t 0.0184\n",
      "back this episode \t 0.0149\n",
      "disentangling themselves from \t 0.0147\n",
      "art did not \t 0.0141\n",
      "even divison \t 0.0134\n",
      "mr kennedy in last \t 0.0133\n",
      "mr cage \t 0.0130\n",
      "awfulness the film \t 0.0124\n",
      "endlessly arguing about \t 0.0117\n",
      "one case really bad \t 0.0110\n",
      "is mediocre at \t 0.0105\n",
      "his two role \t 0.0094\n",
      "funny then i \t 0.0088\n",
      "much at one \t 0.0079\n",
      "are probably \t 0.0074\n",
      "going after \t 0.0073\n",
      "film has aged poorly \t 0.0068\n",
      "i must declare this \t 0.0063\n",
      "remains among the high \t 0.0060\n",
      "at her husband \t 0.0058\n"
     ]
    }
   ],
   "source": [
    "mis = mutual_info_classif(X_train_vector, y_train, discrete_features=True)\n",
    "inds = np.argsort(mis)[::-1]\n",
    "\n",
    "for j in inds[:20]:\n",
    "    print(\"%s \\t %0.4f\" %(vectorizer.get_feature_names()[j], mis[j]))"
   ]
  },
  {
   "cell_type": "markdown",
   "metadata": {},
   "source": [
    "## LSTM\n",
    "Change labels to_categorical to use neutrals, convert corpus into sequences, pad, and train."
   ]
  },
  {
   "cell_type": "code",
   "execution_count": 9,
   "metadata": {
    "scrolled": false
   },
   "outputs": [
    {
     "data": {
      "text/plain": [
       "array([[1., 0., 0.],\n",
       "       [0., 0., 1.],\n",
       "       [1., 0., 0.],\n",
       "       [0., 1., 0.],\n",
       "       [1., 0., 0.]], dtype=float32)"
      ]
     },
     "execution_count": 9,
     "metadata": {},
     "output_type": "execute_result"
    }
   ],
   "source": [
    "y_cat = to_categorical(y,num_classes=3)\n",
    "y_cat[:5]"
   ]
  },
  {
   "cell_type": "code",
   "execution_count": 10,
   "metadata": {},
   "outputs": [
    {
     "data": {
      "text/plain": [
       "(['this', 'was', 'funny'], array([0., 1., 0.], dtype=float32))"
      ]
     },
     "execution_count": 10,
     "metadata": {},
     "output_type": "execute_result"
    }
   ],
   "source": [
    "X_sequence = []\n",
    "for i in X:\n",
    "    X_sequence.append(text_to_word_sequence(i))\n",
    "X_train_sequence, X_test_sequence, y_train, y_test = train_test_split(X_sequence, y_cat, test_size=1./3, random_state=42)\n",
    "\n",
    "X_train_sequence[0], y_train[0]"
   ]
  },
  {
   "cell_type": "markdown",
   "metadata": {},
   "source": [
    "_From My Older Notes:_\n",
    "\n",
    "Here is why this code doesn't work:\n",
    " - We are trying to first convert the corpus into sequence, which is a list, then, try to one_hot encode.\n",
    " - What we should do is use corpus and one_hot encode directly from text. Which is the _below_ row."
   ]
  },
  {
   "cell_type": "code",
   "execution_count": 11,
   "metadata": {},
   "outputs": [
    {
     "data": {
      "text/plain": [
       "134"
      ]
     },
     "execution_count": 11,
     "metadata": {},
     "output_type": "execute_result"
    }
   ],
   "source": [
    "# Maximum sequence length\n",
    "max_length = len(max(X_sequence,key=len))\n",
    "max_length"
   ]
  },
  {
   "cell_type": "code",
   "execution_count": 12,
   "metadata": {},
   "outputs": [
    {
     "data": {
      "text/plain": [
       "[[118, 124, 111, 114, 3, 124, 67, 40, 54, 119, 126, 54, 68, 125],\n",
       " [83, 127, 92, 66, 53, 120],\n",
       " [42, 80, 98, 91, 34, 89, 114]]"
      ]
     },
     "execution_count": 12,
     "metadata": {},
     "output_type": "execute_result"
    }
   ],
   "source": [
    "X_corpus_one_hot = []\n",
    "for i in X:\n",
    "    X_corpus_one_hot.append(one_hot(i, round(max_length*1.1)))\n",
    "\n",
    "X_corpus_one_hot[4:7]"
   ]
  },
  {
   "cell_type": "code",
   "execution_count": 13,
   "metadata": {},
   "outputs": [],
   "source": [
    "padded_seq = pad_sequences(X_corpus_one_hot)\n",
    "X_train_padded_seq, X_test_padded_seq, y_train, y_test = train_test_split(padded_seq, y_cat,\n",
    "                                                                          test_size=1./3, random_state=42)"
   ]
  },
  {
   "cell_type": "code",
   "execution_count": 14,
   "metadata": {},
   "outputs": [
    {
     "data": {
      "text/plain": [
       "((3467, 134), (1734, 134), (5201, 3))"
      ]
     },
     "execution_count": 14,
     "metadata": {},
     "output_type": "execute_result"
    }
   ],
   "source": [
    "X_train_padded_seq.shape, X_test_padded_seq.shape, y_cat.shape"
   ]
  },
  {
   "cell_type": "code",
   "execution_count": 15,
   "metadata": {},
   "outputs": [],
   "source": [
    "# Model setup\n",
    "input_nodes= Input(shape=(X_train_padded_seq.shape[1],))\n",
    "e = Embedding(round(max_length*1.1),\n",
    "              32,\n",
    "              input_length=X_train_padded_seq.shape[1],\n",
    "              trainable=True)(input_nodes)\n",
    "lstm=LSTM(20, return_sequences=True)(e)\n",
    "lstm=LSTM(10)(lstm)\n",
    "output_nodes=Dense(3, activation='softmax')(lstm)\n",
    "\n",
    "#Build model\n",
    "model = Model(inputs=input_nodes, outputs=output_nodes)\n",
    "model.compile(optimizer='adam',\n",
    "              loss='categorical_crossentropy',\n",
    "              metrics=['accuracy'])"
   ]
  },
  {
   "cell_type": "code",
   "execution_count": 16,
   "metadata": {},
   "outputs": [],
   "source": [
    "# Creating validation data \n",
    "X_test_core, X_val, y_test_core, y_val = train_test_split(X_test_padded_seq, y_test, test_size=0.2, random_state=42)"
   ]
  },
  {
   "cell_type": "code",
   "execution_count": 17,
   "metadata": {
    "scrolled": false
   },
   "outputs": [
    {
     "name": "stdout",
     "output_type": "stream",
     "text": [
      "Train on 3467 samples, validate on 347 samples\n",
      "Epoch 1/50\n",
      "3467/3467 [==============================] - 12s 4ms/step - loss: 1.0960 - acc: 0.3585 - val_loss: 1.0801 - val_acc: 0.4150\n",
      "Epoch 2/50\n",
      "3467/3467 [==============================] - 11s 3ms/step - loss: 1.0763 - acc: 0.4001 - val_loss: 1.0426 - val_acc: 0.4957\n",
      "Epoch 3/50\n",
      "3467/3467 [==============================] - 11s 3ms/step - loss: 1.0348 - acc: 0.4580 - val_loss: 1.0536 - val_acc: 0.4582\n",
      "Epoch 4/50\n",
      "3467/3467 [==============================] - 11s 3ms/step - loss: 1.0049 - acc: 0.4857 - val_loss: 1.0194 - val_acc: 0.4669\n",
      "Epoch 5/50\n",
      "3467/3467 [==============================] - 11s 3ms/step - loss: 0.9833 - acc: 0.5065 - val_loss: 1.0107 - val_acc: 0.4870\n",
      "Epoch 6/50\n",
      "3467/3467 [==============================] - 11s 3ms/step - loss: 0.9663 - acc: 0.5293 - val_loss: 1.0030 - val_acc: 0.4899\n",
      "Epoch 7/50\n",
      "3467/3467 [==============================] - 11s 3ms/step - loss: 0.9599 - acc: 0.5290 - val_loss: 1.0185 - val_acc: 0.4928\n",
      "Epoch 8/50\n",
      "3467/3467 [==============================] - 11s 3ms/step - loss: 0.9535 - acc: 0.5431 - val_loss: 1.0037 - val_acc: 0.4899\n",
      "Epoch 9/50\n",
      "3467/3467 [==============================] - 11s 3ms/step - loss: 0.9498 - acc: 0.5420 - val_loss: 1.0099 - val_acc: 0.4813\n",
      "Epoch 10/50\n",
      "3467/3467 [==============================] - 11s 3ms/step - loss: 0.9474 - acc: 0.5472 - val_loss: 1.0114 - val_acc: 0.5014\n",
      "Epoch 11/50\n",
      "3467/3467 [==============================] - 11s 3ms/step - loss: 0.9400 - acc: 0.5483 - val_loss: 1.0505 - val_acc: 0.4409\n",
      "Epoch 12/50\n",
      "3467/3467 [==============================] - 11s 3ms/step - loss: 0.9372 - acc: 0.5483 - val_loss: 1.0240 - val_acc: 0.4841\n",
      "Epoch 13/50\n",
      "3467/3467 [==============================] - 11s 3ms/step - loss: 0.9335 - acc: 0.5526 - val_loss: 1.0303 - val_acc: 0.4899\n",
      "Epoch 14/50\n",
      "3467/3467 [==============================] - 11s 3ms/step - loss: 0.9258 - acc: 0.5573 - val_loss: 1.0271 - val_acc: 0.4870\n",
      "Epoch 15/50\n",
      "3467/3467 [==============================] - 10s 3ms/step - loss: 0.9190 - acc: 0.5593 - val_loss: 1.0344 - val_acc: 0.4784\n",
      "Epoch 16/50\n",
      "3467/3467 [==============================] - 11s 3ms/step - loss: 0.9148 - acc: 0.5668 - val_loss: 1.0258 - val_acc: 0.4640\n",
      "Epoch 17/50\n",
      "3467/3467 [==============================] - 11s 3ms/step - loss: 0.9149 - acc: 0.5691 - val_loss: 1.0736 - val_acc: 0.4899\n",
      "Epoch 18/50\n",
      "3467/3467 [==============================] - 11s 3ms/step - loss: 0.9060 - acc: 0.5800 - val_loss: 1.0441 - val_acc: 0.4697\n",
      "Epoch 19/50\n",
      "3467/3467 [==============================] - 10s 3ms/step - loss: 0.8984 - acc: 0.5772 - val_loss: 1.0398 - val_acc: 0.4582\n",
      "Epoch 20/50\n",
      "3467/3467 [==============================] - 11s 3ms/step - loss: 0.9006 - acc: 0.5751 - val_loss: 1.0559 - val_acc: 0.4726\n",
      "Epoch 21/50\n",
      "3467/3467 [==============================] - 11s 3ms/step - loss: 0.8877 - acc: 0.5956 - val_loss: 1.0514 - val_acc: 0.4813\n",
      "Epoch 22/50\n",
      "3467/3467 [==============================] - 11s 3ms/step - loss: 0.8815 - acc: 0.5913 - val_loss: 1.0825 - val_acc: 0.4813\n",
      "Epoch 23/50\n",
      "3467/3467 [==============================] - 12s 3ms/step - loss: 0.8818 - acc: 0.5942 - val_loss: 1.0664 - val_acc: 0.4669\n",
      "Epoch 24/50\n",
      "3467/3467 [==============================] - 14s 4ms/step - loss: 0.8723 - acc: 0.5959 - val_loss: 1.0793 - val_acc: 0.4813\n",
      "Epoch 25/50\n",
      "3467/3467 [==============================] - 12s 3ms/step - loss: 0.8677 - acc: 0.6002 - val_loss: 1.0836 - val_acc: 0.4697\n",
      "Epoch 26/50\n",
      "3467/3467 [==============================] - 15s 4ms/step - loss: 0.8667 - acc: 0.5976 - val_loss: 1.0985 - val_acc: 0.4640\n",
      "Epoch 27/50\n",
      "3467/3467 [==============================] - 13s 4ms/step - loss: 0.8599 - acc: 0.6083 - val_loss: 1.0987 - val_acc: 0.4755\n",
      "Epoch 28/50\n",
      "3467/3467 [==============================] - 13s 4ms/step - loss: 0.8528 - acc: 0.6138 - val_loss: 1.0980 - val_acc: 0.4813\n",
      "Epoch 29/50\n",
      "3467/3467 [==============================] - 12s 3ms/step - loss: 0.8522 - acc: 0.6074 - val_loss: 1.1012 - val_acc: 0.4813\n",
      "Epoch 30/50\n",
      "3467/3467 [==============================] - 11s 3ms/step - loss: 0.8524 - acc: 0.6147 - val_loss: 1.1053 - val_acc: 0.4697\n",
      "Epoch 31/50\n",
      "3467/3467 [==============================] - 11s 3ms/step - loss: 0.8437 - acc: 0.6152 - val_loss: 1.1060 - val_acc: 0.4899\n",
      "Epoch 32/50\n",
      "3467/3467 [==============================] - 11s 3ms/step - loss: 0.8400 - acc: 0.6224 - val_loss: 1.1440 - val_acc: 0.4669\n",
      "Epoch 33/50\n",
      "3467/3467 [==============================] - 11s 3ms/step - loss: 0.8343 - acc: 0.6230 - val_loss: 1.1393 - val_acc: 0.4611\n",
      "Epoch 34/50\n",
      "3467/3467 [==============================] - 11s 3ms/step - loss: 0.8251 - acc: 0.6282 - val_loss: 1.1430 - val_acc: 0.4726\n",
      "Epoch 35/50\n",
      "3467/3467 [==============================] - 11s 3ms/step - loss: 0.8239 - acc: 0.6305 - val_loss: 1.1594 - val_acc: 0.4841\n",
      "Epoch 36/50\n",
      "3467/3467 [==============================] - 11s 3ms/step - loss: 0.8187 - acc: 0.6288 - val_loss: 1.1538 - val_acc: 0.4697\n",
      "Epoch 37/50\n",
      "3467/3467 [==============================] - 11s 3ms/step - loss: 0.8100 - acc: 0.6334 - val_loss: 1.1575 - val_acc: 0.4697\n",
      "Epoch 38/50\n",
      "3467/3467 [==============================] - 11s 3ms/step - loss: 0.8043 - acc: 0.6409 - val_loss: 1.1665 - val_acc: 0.4813\n",
      "Epoch 39/50\n",
      "3467/3467 [==============================] - 11s 3ms/step - loss: 0.7987 - acc: 0.6409 - val_loss: 1.1915 - val_acc: 0.4697\n",
      "Epoch 40/50\n",
      "3467/3467 [==============================] - 11s 3ms/step - loss: 0.7928 - acc: 0.6472 - val_loss: 1.1837 - val_acc: 0.4611\n",
      "Epoch 41/50\n",
      "3467/3467 [==============================] - 11s 3ms/step - loss: 0.7870 - acc: 0.6524 - val_loss: 1.2307 - val_acc: 0.4841\n",
      "Epoch 42/50\n",
      "3467/3467 [==============================] - 11s 3ms/step - loss: 0.7791 - acc: 0.6533 - val_loss: 1.2311 - val_acc: 0.4553\n",
      "Epoch 43/50\n",
      "3467/3467 [==============================] - 11s 3ms/step - loss: 0.7747 - acc: 0.6573 - val_loss: 1.2355 - val_acc: 0.4669\n",
      "Epoch 44/50\n",
      "3467/3467 [==============================] - 11s 3ms/step - loss: 0.7704 - acc: 0.6620 - val_loss: 1.2652 - val_acc: 0.4553\n",
      "Epoch 45/50\n",
      "3467/3467 [==============================] - 11s 3ms/step - loss: 0.7645 - acc: 0.6625 - val_loss: 1.2242 - val_acc: 0.4755\n",
      "Epoch 46/50\n",
      "3467/3467 [==============================] - 11s 3ms/step - loss: 0.7491 - acc: 0.6695 - val_loss: 1.2731 - val_acc: 0.4582\n",
      "Epoch 47/50\n",
      "3467/3467 [==============================] - 11s 3ms/step - loss: 0.7470 - acc: 0.6706 - val_loss: 1.2766 - val_acc: 0.4640\n",
      "Epoch 48/50\n",
      "3467/3467 [==============================] - 11s 3ms/step - loss: 0.7562 - acc: 0.6663 - val_loss: 1.2735 - val_acc: 0.4755\n",
      "Epoch 49/50\n",
      "3467/3467 [==============================] - 11s 3ms/step - loss: 0.7373 - acc: 0.6741 - val_loss: 1.3030 - val_acc: 0.4611\n",
      "Epoch 50/50\n",
      "3467/3467 [==============================] - 11s 3ms/step - loss: 0.7292 - acc: 0.6804 - val_loss: 1.3044 - val_acc: 0.4669\n"
     ]
    },
    {
     "data": {
      "text/plain": [
       "<keras.callbacks.History at 0x131655828>"
      ]
     },
     "execution_count": 17,
     "metadata": {},
     "output_type": "execute_result"
    }
   ],
   "source": [
    "model.fit(X_train_padded_seq, y_train, batch_size=64, epochs=50, validation_data=(X_val,y_val))"
   ]
  },
  {
   "cell_type": "code",
   "execution_count": 18,
   "metadata": {},
   "outputs": [
    {
     "name": "stdout",
     "output_type": "stream",
     "text": [
      "1387/1387 [==============================] - 1s 847us/step\n"
     ]
    },
    {
     "data": {
      "text/plain": [
       "[1.2180540485182683, 0.4873828407277628]"
      ]
     },
     "execution_count": 18,
     "metadata": {},
     "output_type": "execute_result"
    }
   ],
   "source": [
    "model.evaluate(X_test_core, y_test_core)"
   ]
  },
  {
   "cell_type": "code",
   "execution_count": 19,
   "metadata": {
    "scrolled": true
   },
   "outputs": [
    {
     "data": {
      "text/plain": [
       "array([[9.9610549e-01, 7.7365612e-04, 3.1208701e-03],\n",
       "       [6.3733304e-01, 1.9509244e-01, 1.6757455e-01],\n",
       "       [3.4933180e-01, 1.3043586e-02, 6.3762456e-01],\n",
       "       ...,\n",
       "       [9.8886907e-01, 5.0420724e-03, 6.0888818e-03],\n",
       "       [2.4464671e-02, 9.6836251e-01, 7.1728053e-03],\n",
       "       [1.0649871e-01, 8.2648814e-01, 6.7013212e-02]], dtype=float32)"
      ]
     },
     "execution_count": 19,
     "metadata": {},
     "output_type": "execute_result"
    }
   ],
   "source": [
    "preds = model.predict(X_test_core)\n",
    "preds"
   ]
  },
  {
   "cell_type": "markdown",
   "metadata": {},
   "source": [
    "_Strategies to Classify:_\n",
    "\n",
    "__Does positive and negative predictions being similar mean \"Neutral\"?__ Possibly, but there are a lot of cases where it doesn't.\n",
    "\n",
    "__If neutral classification is less than 40%, can we infer that it's not neutral?__"
   ]
  },
  {
   "cell_type": "code",
   "execution_count": 20,
   "metadata": {
    "scrolled": false
   },
   "outputs": [
    {
     "data": {
      "text/plain": [
       "(array([[0., 0., 1.],\n",
       "        [1., 0., 0.],\n",
       "        [0., 1., 0.],\n",
       "        [0., 1., 0.]], dtype=float32),\n",
       " array([[0.19020031, 0.6188789 , 0.19092086],\n",
       "        [0.8100225 , 0.00754798, 0.18242958],\n",
       "        [0.12360615, 0.78871316, 0.08768073],\n",
       "        [0.24501356, 0.55131865, 0.20366777]], dtype=float32))"
      ]
     },
     "execution_count": 20,
     "metadata": {},
     "output_type": "execute_result"
    }
   ],
   "source": [
    "def get_sample(n,k):\n",
    "#     return X[n:k], y_test_core[n:k], y_cat[n:k], preds[n:k]\n",
    "    return y_test_core[n:k], preds[n:k]\n",
    "get_sample(35,39)"
   ]
  },
  {
   "cell_type": "raw",
   "metadata": {},
   "source": [
    "model.save(\"epoch_10.model\")"
   ]
  },
  {
   "cell_type": "raw",
   "metadata": {},
   "source": [
    "model100 = load_model(\"epoch_100_noVal.model\")"
   ]
  },
  {
   "cell_type": "raw",
   "metadata": {},
   "source": [
    "with open('trainHistoryDict', 'wb') as f:\n",
    "        pickle.dump(model.history.history, f)"
   ]
  },
  {
   "cell_type": "code",
   "execution_count": 21,
   "metadata": {},
   "outputs": [
    {
     "data": {
      "image/png": "[encoded data removed]",
      "text/plain": [
       "<Figure size 432x288 with 1 Axes>"
      ]
     },
     "metadata": {},
     "output_type": "display_data"
    }
   ],
   "source": [
    "plt.plot(model.history.history['acc'])\n",
    "plt.plot(model.history.history['val_acc'])\n",
    "plt.show()"
   ]
  },
  {
   "cell_type": "code",
   "execution_count": 22,
   "metadata": {},
   "outputs": [],
   "source": [
    "with open(r\"100epoch\", \"rb\") as input_file:\n",
    "    model100_hist = pickle.load(input_file)"
   ]
  },
  {
   "cell_type": "code",
   "execution_count": 23,
   "metadata": {
    "scrolled": false
   },
   "outputs": [
    {
     "data": {
      "image/png": "[encoded data removed]",
      "text/plain": [
       "<Figure size 432x288 with 1 Axes>"
      ]
     },
     "metadata": {},
     "output_type": "display_data"
    }
   ],
   "source": [
    "plt.plot(model100_hist['acc'])\n",
    "plt.plot(model100_hist['val_acc'])\n",
    "plt.show()"
   ]
  },
  {
   "cell_type": "markdown",
   "metadata": {},
   "source": [
    "## ACTION PLAN:\n",
    "\n",
    "Learn about combining two models.\n",
    "- It occured to me that some keywords are so much likely to be aligned with the category of an EDU.\n",
    "- However, there are still 80% that doesn't fall into this category. \n",
    "- For those which are ambigious, train a sequence model and train deeper. \n",
    "- Combine 20% weights with the rest 80%\n",
    "\n",
    "Re-evaluate LabeledEDUs.\n",
    "- I found significant flaws in labeling. \n",
    "- Go over keyword by keyword until you think it's a good bag.\n",
    "\n",
    "Learn more about lingustics.\n",
    "- I realized that suffixes change the meaning a lot. \n",
    "- Check adverbs, adjectives, verbs in grammar context.\n",
    "- Find a paper to distinguish between the parts of speech.\n",
    "\n",
    "Approach differently.\n",
    "- Pull a list of adverbs, adjectives, verbs, conjunctions, etc.\n",
    "    - https://www.aims.edu/student/online-writing-lab/grammar/parts-of-speech.php\n",
    "- Train on those lists.\n"
   ]
  },
  {
   "cell_type": "markdown",
   "metadata": {},
   "source": [
    "__Note to myself:__ Nouns, verbs, and adverbs, if they have no meaning of an _adjective_ by themselves, they are likely to give clue about the category of the word.\n",
    "\n",
    "Past tense is also an indication of a first person review.\n",
    "\n",
    "Example: poorly, loved, (find more here)"
   ]
  },
  {
   "cell_type": "code",
   "execution_count": null,
   "metadata": {},
   "outputs": [],
   "source": []
  }
 ],
 "metadata": {
  "kernelspec": {
   "display_name": "Python 3",
   "language": "python",
   "name": "python3"
  },
  "language_info": {
   "codemirror_mode": {
    "name": "ipython",
    "version": 3
   },
   "file_extension": ".py",
   "mimetype": "text/x-python",
   "name": "python",
   "nbconvert_exporter": "python",
   "pygments_lexer": "ipython3",
   "version": "3.6.5"
  }
 },
 "nbformat": 4,
 "nbformat_minor": 2
}
