{
 "cells": [
  {
   "cell_type": "code",
   "execution_count": 3,
   "metadata": {},
   "outputs": [],
   "source": [
    "import labeled_functions\n",
    "import numpy as np\n",
    "import pandas as pd\n",
    "import pickle\n",
    "\n",
    "import matplotlib.pyplot as plt\n",
    "from matplotlib import colors\n",
    "\n",
    "import sklearn as sk\n",
    "from sklearn.feature_extraction.text import CountVectorizer\n",
    "from sklearn.feature_extraction import stop_words\n",
    "from sklearn.model_selection import train_test_split, StratifiedKFold\n",
    "from sklearn.cross_validation import cross_val_score, StratifiedKFold # Difference? (indices=None, or nothing)\n",
    "from sklearn.naive_bayes import MultinomialNB\n",
    "from sklearn.linear_model import LogisticRegression\n",
    "from sklearn.svm import SVC"
   ]
  },
  {
   "cell_type": "code",
   "execution_count": 2,
   "metadata": {},
   "outputs": [
    {
     "name": "stdout",
     "output_type": "stream",
     "text": [
      "Labeled Data loaded.\n"
     ]
    }
   ],
   "source": [
    "X, y = labeled_functions.load_labeled_neutrals(path=r\"./../../Fall_18/edu/active_learning/\")"
   ]
  },
  {
   "cell_type": "code",
   "execution_count": 4,
   "metadata": {},
   "outputs": [],
   "source": [
    "# Vectorize using CountVectorizer\n",
    "token = r\"(?u)\\b[\\w\\'/]+\\b\"\n",
    "def vectorize(ngram=(1,3), stop=[\"the\",\"a\",\"of\",\"and\",\"br\",\"to\"]):\n",
    "    return CountVectorizer(token_pattern=token, binary=True, ngram_range=ngram, stop_words=stop)\n",
    "\n",
    "# X_train_corpus , X_test_corpus, y_train, y_test = train_test_split(X, y, test_size=1./3, random_state=42)\n",
    "\n",
    "vectorizer_one = vectorize(stop=[\"a\",\"of\",\"and\",\"br\",\"to\"])\n",
    "X_vector = vectorizer_one.fit_transform(X)\n",
    "\n",
    "# X_train_vector = vectorizer_one.fit_transform(X_train_corpus)\n",
    "# X_test_vector = vectorizer_one.transform(X_test_corpus)\n",
    "\n",
    "X_train_vector , X_test_vector, y_train, y_test = train_test_split(X_vector, y, test_size=1./3, random_state=42)"
   ]
  },
  {
   "cell_type": "code",
   "execution_count": null,
   "metadata": {},
   "outputs": [
    {
     "name": "stdout",
     "output_type": "stream",
     "text": [
      "0.9983637851104445\n",
      "0.6335877862595419 \n",
      "\n"
     ]
    }
   ],
   "source": [
    "for kernel in ('linear', 'poly', 'rbf'):\n",
    "    svc = SVC(kernel=kernel, gamma=2)\n",
    "    svc.fit(X_train_vector, y_train)\n",
    "    print(svc.score(X_train_vector, y_train))\n",
    "    print(svc.score(X_test_vector, y_test),\"\\n\")"
   ]
  },
  {
   "cell_type": "markdown",
   "metadata": {},
   "source": [
    "- Grid Search sklearn"
   ]
  },
  {
   "cell_type": "code",
   "execution_count": null,
   "metadata": {},
   "outputs": [],
   "source": []
  }
 ],
 "metadata": {
  "kernelspec": {
   "display_name": "Python 3",
   "language": "python",
   "name": "python3"
  },
  "language_info": {
   "codemirror_mode": {
    "name": "ipython",
    "version": 3
   },
   "file_extension": ".py",
   "mimetype": "text/x-python",
   "name": "python",
   "nbconvert_exporter": "python",
   "pygments_lexer": "ipython3",
   "version": "3.6.5"
  }
 },
 "nbformat": 4,
 "nbformat_minor": 2
}
