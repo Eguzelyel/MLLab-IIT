{
 "cells": [
  {
   "cell_type": "markdown",
   "metadata": {},
   "source": [
    "__QUESTIONS__\n",
    "\n",
    "- Could I use CountVectorizer?\n",
    "- Why model.score() gives two different results?\n",
    "- Is there an easier way to classify in binary?"
   ]
  },
  {
   "cell_type": "code",
   "execution_count": 27,
   "metadata": {},
   "outputs": [],
   "source": [
    "import labeled_functions\n",
    "import numpy as np\n",
    "import keras\n",
    "from keras.layers import LSTM, Dense, Input, Embedding, LeakyReLU\n",
    "from keras.layers.recurrent import LSTM\n",
    "from keras.models import Model\n",
    "from sklearn.model_selection import train_test_split\n",
    "from keras.preprocessing.sequence import pad_sequences\n",
    "from keras.preprocessing.text import text_to_word_sequence, one_hot, Tokenizer\n",
    "import matplotlib.pyplot as plt\n",
    "from sklearn.metrics import precision_recall_curve, precision_score, precision_recall_fscore_support, confusion_matrix"
   ]
  },
  {
   "cell_type": "code",
   "execution_count": 29,
   "metadata": {},
   "outputs": [
    {
     "name": "stdout",
     "output_type": "stream",
     "text": [
      "Labeled Data loaded.\n"
     ]
    },
    {
     "data": {
      "text/plain": [
       "(['interspersed', 'with', 'multiple', 'boring', 'sex', 'scene'], 0)"
      ]
     },
     "execution_count": 29,
     "metadata": {},
     "output_type": "execute_result"
    }
   ],
   "source": [
    "X_corpus, y = labeled_functions.load_with_path(path=r\"/Users/ekremguzelyel/Desktop/Assignments/Research/MLLab-IIT/edu/active_learning\")\n",
    "X_sequence = []\n",
    "for i in X_corpus:\n",
    "#     print(type(i))\n",
    "    X_sequence.append(text_to_word_sequence(i))\n",
    "X_train_sequence, X_test_sequence, y_train, y_test = train_test_split(X_sequence, y, test_size=1./3, random_state=42)\n",
    "# X_train_vector , y_train, X_test_vector , y_test = labeled_functions.split_and_vectorize()\n",
    "# for i in X_train_vector:\n",
    "#     X_sequence.text_to_word_sequence(i)\n",
    "# X_train_vector.shape, X_test_vector.shape, len(y_train)\n",
    "X_train_sequence[0], y_train[0]"
   ]
  },
  {
   "cell_type": "raw",
   "metadata": {
    "collapsed": true
   },
   "source": [
    "import glove\n",
    "c = X_train_sequence.copy()\n",
    "for i in c:\n",
    "    i = [glove[x] for x in i]\n",
    "#     y = [2*a for a in x if a % 2 == 1]"
   ]
  },
  {
   "cell_type": "code",
   "execution_count": 31,
   "metadata": {},
   "outputs": [
    {
     "data": {
      "text/plain": [
       "77"
      ]
     },
     "execution_count": 31,
     "metadata": {},
     "output_type": "execute_result"
    }
   ],
   "source": [
    "# Maximum sequence length\n",
    "max_length=0\n",
    "for i in X_sequence:\n",
    "    max_length = [len(set(i)) if len(set(i)) > max_length else max_length][0]\n",
    "len(X_train_sequence)\n",
    "max_length"
   ]
  },
  {
   "cell_type": "code",
   "execution_count": 32,
   "metadata": {
    "scrolled": false
   },
   "outputs": [
    {
     "data": {
      "text/plain": [
       "[[54, 49, 84, 40, 1, 41, 67, 83, 84, 57], [16, 58], [24, 86, 17, 72]]"
      ]
     },
     "execution_count": 32,
     "metadata": {},
     "output_type": "execute_result"
    }
   ],
   "source": [
    "X_corpus_one_hot = []\n",
    "for i in X_corpus:\n",
    "    X_corpus_one_hot.append(one_hot(i, round(max_length*1.2)))\n",
    "\n",
    "X_corpus_one_hot[4:7]"
   ]
  },
  {
   "cell_type": "raw",
   "metadata": {},
   "source": [
    "# Here is why this code doesn't work:\n",
    "# We are trying to first convert the corpus into sequence, which is a list,\n",
    "#    then, try to one_hot encode. What we should do is use corpus and one_hot encode \n",
    "#    directly from text. Which is the above row.\n",
    "X_corpus_one_hot = []\n",
    "for i in X_sequence:\n",
    "    print(i)\n",
    "    X_corpus_one_hot.append(one_hot(i, round(max_length*1.2)))\n",
    "    \n",
    "X_corpus_one_hot[4:15]"
   ]
  },
  {
   "cell_type": "raw",
   "metadata": {},
   "source": [
    "X_sequence"
   ]
  },
  {
   "cell_type": "raw",
   "metadata": {},
   "source": [
    "len_ = np.zeros(len(X_train_sequence))\n",
    "\n",
    "for i in range(len(X_train_sequence)):\n",
    "    len_[i] = len(X_train_sequence[i])\n",
    "len_ = np.asarray(len_)\n",
    "print(np.max(len_))"
   ]
  },
  {
   "cell_type": "raw",
   "metadata": {},
   "source": [
    "len_ = np.zeros(len(X_corpus))\n",
    "\n",
    "for i in range(len(X_corpus)):\n",
    "    len_[i] = len(X_corpus[i])\n",
    "len_ = np.asarray(len_)\n",
    "print(np.max(len_))"
   ]
  },
  {
   "cell_type": "code",
   "execution_count": 33,
   "metadata": {},
   "outputs": [
    {
     "data": {
      "text/plain": [
       "([5, 83], 'compellingly awful ')"
      ]
     },
     "execution_count": 33,
     "metadata": {},
     "output_type": "execute_result"
    }
   ],
   "source": [
    "X_corpus_one_hot[16], X_corpus[16] # the occurs twice (number 83) -> Checkmark"
   ]
  },
  {
   "cell_type": "code",
   "execution_count": 34,
   "metadata": {},
   "outputs": [
    {
     "data": {
      "text/plain": [
       "123"
      ]
     },
     "execution_count": 34,
     "metadata": {},
     "output_type": "execute_result"
    }
   ],
   "source": [
    "padded_seq_corpus = pad_sequences(X_corpus_one_hot)\n",
    "X_train_padded_seq, X_test_padded_seq, y_train, y_test = train_test_split(padded_seq_corpus, y,\n",
    "                                                                          test_size=1./3, random_state=42) \n",
    "# padded_seq_corpus.shape\n",
    "len(padded_seq_corpus[0])"
   ]
  },
  {
   "cell_type": "code",
   "execution_count": 35,
   "metadata": {
    "collapsed": true
   },
   "outputs": [
    {
     "data": {
      "text/plain": [
       "(array([ 0,  0,  0,  0,  0,  0,  0,  0,  0,  0,  0,  0,  0,  0,  0,  0,  0,\n",
       "         0,  0,  0,  0,  0,  0,  0,  0,  0,  0,  0,  0,  0,  0,  0,  0,  0,\n",
       "         0,  0,  0,  0,  0,  0,  0,  0,  0,  0,  0,  0,  0,  0,  0,  0,  0,\n",
       "         0,  0,  0,  0,  0,  0,  0,  0,  0,  0,  0,  0,  0,  0,  0,  0,  0,\n",
       "         0,  0,  0,  0,  0,  0,  0,  0,  0,  0,  0,  0,  0,  0,  0,  0,  0,\n",
       "         0,  0,  0,  0,  0,  0,  0,  0,  0,  0,  0,  0,  0,  0,  0,  0,  0,\n",
       "         0,  0,  0,  0,  0,  0,  0,  0,  0,  0,  0,  0,  0,  0,  0, 35, 33,\n",
       "        34, 27,  3, 17], dtype=int32),\n",
       " 0,\n",
       " array([ 0,  0,  0,  0,  0,  0,  0,  0,  0,  0,  0,  0,  0,  0,  0,  0,  0,\n",
       "         0,  0,  0,  0,  0,  0,  0,  0,  0,  0,  0,  0,  0,  0,  0,  0,  0,\n",
       "         0,  0,  0,  0,  0,  0,  0,  0,  0,  0,  0,  0,  0,  0,  0,  0,  0,\n",
       "         0,  0,  0,  0,  0,  0,  0,  0,  0,  0,  0,  0,  0,  0,  0,  0,  0,\n",
       "         0,  0,  0,  0,  0,  0,  0,  0,  0,  0,  0,  0,  0,  0,  0,  0,  0,\n",
       "         0,  0,  0,  0,  0,  0,  0,  0,  0,  0,  0,  0,  0,  0,  0,  0,  0,\n",
       "         0,  0,  0,  0,  0,  0,  0,  0,  0,  0,  0,  0,  0,  0, 24, 91, 62,\n",
       "        72,  8, 22, 67], dtype=int32),\n",
       " 1)"
      ]
     },
     "execution_count": 35,
     "metadata": {},
     "output_type": "execute_result"
    }
   ],
   "source": [
    "X_train_padded_seq[0], y_train[0], X_test_padded_seq[0], y_test[0]"
   ]
  },
  {
   "cell_type": "code",
   "execution_count": null,
   "metadata": {},
   "outputs": [],
   "source": [
    "# Recurrent Neural Network\n",
    "# from keras.utils import plot_model\n",
    "input_layer = Input(shape=(X_train_padded_seq.shape[1],))\n",
    "\n",
    "# CHANGE EMBEDDING TO GLOVE or WORD2VEC\n",
    "# embed_layer = Embedding(output_dim=64, input_dim=X_train_padded_seq.shape[1],\n",
    "#                         input_length=X_train_padded_seq.shape[1])(input_layer)\n",
    "e = Embedding(vocab_size,\n",
    "              100,\n",
    "              weights=[embedding_matrix],\n",
    "              input_length=X_train_padded_seq.shape[1],\n",
    "              trainable=False)(input_layer)\n",
    "hidden1 = LSTM(32, return_sequences=False)(e)\n",
    "hidden2 = Dense(10, activation='relu')(hidden1)\n",
    "output_layer = Dense(1, activation='sigmoid')(hidden2)\n",
    "model = Model(inputs=input_layer, outputs=output_layer)\n",
    "# summarize layers\n",
    "print(model.summary())\n",
    "# plot graph\n",
    "# plot_model(model, to_file='recurrent_neural_network.png')"
   ]
  },
  {
   "cell_type": "code",
   "execution_count": 37,
   "metadata": {},
   "outputs": [],
   "source": [
    "model.compile(loss='binary_crossentropy', metrics=['accuracy'], optimizer='adam')"
   ]
  },
  {
   "cell_type": "code",
   "execution_count": 38,
   "metadata": {},
   "outputs": [],
   "source": [
    "hist = model.fit(X_train_padded_seq, y_train, epochs=20, batch_size=32, verbose=0)"
   ]
  },
  {
   "cell_type": "raw",
   "metadata": {},
   "source": [
    "hist_test = model.fit(X_test_padded_seq, y_test, epochs=20, batch_size=32, verbose=1)"
   ]
  },
  {
   "cell_type": "code",
   "execution_count": 21,
   "metadata": {},
   "outputs": [],
   "source": [
    "preds = hist.model.predict(X_test_padded_seq)\n",
    "# pred_test = hist_test.model.predict(X_test_padded_seq)\n",
    "# preds"
   ]
  },
  {
   "cell_type": "code",
   "execution_count": 39,
   "metadata": {},
   "outputs": [
    {
     "name": "stdout",
     "output_type": "stream",
     "text": [
      "876/876 [==============================] - 1s 1ms/step\n",
      "1750/1750 [==============================] - 1s 629us/step\n"
     ]
    },
    {
     "data": {
      "text/plain": [
       "([0.7298478233759806, 0.6130136983579697],\n",
       " [0.3832950737816947, 0.8582857146263122])"
      ]
     },
     "execution_count": 39,
     "metadata": {},
     "output_type": "execute_result"
    }
   ],
   "source": [
    "score_test = hist.model.evaluate(X_test_padded_seq, y_test)\n",
    "score_train = hist.model.evaluate(X_train_padded_seq, y_train)\n",
    "score_test, score_train"
   ]
  },
  {
   "cell_type": "markdown",
   "metadata": {},
   "source": [
    "### Trying different parameters"
   ]
  },
  {
   "cell_type": "code",
   "execution_count": 40,
   "metadata": {},
   "outputs": [
    {
     "name": "stdout",
     "output_type": "stream",
     "text": [
      "Constructed\n",
      "Compiled\n",
      "Fitted\n"
     ]
    }
   ],
   "source": [
    "# 2 Hidden layer (LSTM, Dense(20))\n",
    "input_layer = Input(shape=(X_train_padded_seq.shape[1],))\n",
    "e = Embedding(vocab_size,\n",
    "              100,\n",
    "              weights=[embedding_matrix],\n",
    "              input_length=X_train_padded_seq.shape[1],\n",
    "              trainable=False)(input_layer)\n",
    "hidden1 = LSTM(32, return_sequences=False)(e)\n",
    "hidden2 = Dense(20, activation='relu')(hidden1)\n",
    "output_layer = Dense(1, activation='sigmoid')(hidden2)\n",
    "model2 = Model(inputs=input_layer, outputs=output_layer)\n",
    "print(\"Constructed\")\n",
    "model2.compile(loss='binary_crossentropy', metrics=['accuracy'], optimizer='adam')\n",
    "print(\"Compiled\")\n",
    "hist = model2.fit(X_train_padded_seq, y_train, epochs=20, batch_size=32, verbose=0)\n",
    "print(\"Fitted\")\n",
    "\n"
   ]
  },
  {
   "cell_type": "code",
   "execution_count": 41,
   "metadata": {
    "scrolled": true
   },
   "outputs": [
    {
     "name": "stdout",
     "output_type": "stream",
     "text": [
      "876/876 [==============================] - 1s 1ms/step\n",
      "1750/1750 [==============================] - 1s 721us/step\n"
     ]
    },
    {
     "data": {
      "text/plain": [
       "([0.9068888107391253, 0.5981735159817352],\n",
       " [0.30580400838170735, 0.8817142858505249])"
      ]
     },
     "execution_count": 41,
     "metadata": {},
     "output_type": "execute_result"
    }
   ],
   "source": [
    "score_test = model2.evaluate(X_test_padded_seq, y_test)\n",
    "score_train = model2.evaluate(X_train_padded_seq, y_train)\n",
    "score_test, score_train"
   ]
  },
  {
   "cell_type": "code",
   "execution_count": 42,
   "metadata": {},
   "outputs": [
    {
     "name": "stdout",
     "output_type": "stream",
     "text": [
      "Constructed\n",
      "Compiled\n",
      "Fitted\n",
      "876/876 [==============================] - 1s 1ms/step\n",
      "1750/1750 [==============================] - 1s 741us/step\n"
     ]
    },
    {
     "data": {
      "text/plain": [
       "([0.7707126241296394, 0.6438356164383562],\n",
       " [0.29843199603898185, 0.8880000001362391])"
      ]
     },
     "execution_count": 42,
     "metadata": {},
     "output_type": "execute_result"
    }
   ],
   "source": [
    "# 2 Hidden layer (LSTM(32), Dense(10))\n",
    "input_layer = Input(shape=(X_train_padded_seq.shape[1],))\n",
    "e = Embedding(vocab_size,\n",
    "              100,\n",
    "              weights=[embedding_matrix],\n",
    "              input_length=X_train_padded_seq.shape[1],\n",
    "              trainable=False)(input_layer)\n",
    "hidden1 = LSTM(32, return_sequences=False)(e)\n",
    "hidden2 = Dense(20, activation='relu')(hidden1)\n",
    "output_layer = Dense(1, activation='sigmoid')(hidden2)\n",
    "model3 = Model(inputs=input_layer, outputs=output_layer)\n",
    "print(\"Constructed\")\n",
    "model3.compile(loss='binary_crossentropy', metrics=['accuracy'], optimizer='adam')\n",
    "print(\"Compiled\")\n",
    "hist = model3.fit(X_train_padded_seq, y_train, epochs=20, batch_size=32, verbose=0)\n",
    "print(\"Fitted\")\n",
    "\n",
    "score_test = model3.evaluate(X_test_padded_seq, y_test)\n",
    "score_train = model3.evaluate(X_train_padded_seq, y_train)\n",
    "score_test, score_train"
   ]
  },
  {
   "cell_type": "code",
   "execution_count": 43,
   "metadata": {
    "scrolled": true
   },
   "outputs": [
    {
     "name": "stdout",
     "output_type": "stream",
     "text": [
      "Constructed\n",
      "Compiled\n",
      "Fitted\n",
      "876/876 [==============================] - 1s 1ms/step\n",
      "1750/1750 [==============================] - 1s 724us/step\n"
     ]
    },
    {
     "data": {
      "text/plain": [
       "([0.699890801079197, 0.623287671505044],\n",
       " [0.4684965535572597, 0.8114285713604519])"
      ]
     },
     "execution_count": 43,
     "metadata": {},
     "output_type": "execute_result"
    }
   ],
   "source": [
    "# 3 Hidden layer (LSTM(32), Dense(20), Dense(10))\n",
    "input_layer = Input(shape=(X_train_padded_seq.shape[1],))\n",
    "e = Embedding(vocab_size,\n",
    "              100,\n",
    "              weights=[embedding_matrix],\n",
    "              input_length=X_train_padded_seq.shape[1],\n",
    "              trainable=False)(input_layer)\n",
    "hidden1 = LSTM(32, return_sequences=False)(e)\n",
    "hidden2 = Dense(20, activation='sigmoid')(hidden1)\n",
    "hidden3 = Dense(10, activation='relu')(hidden2)\n",
    "output_layer = Dense(1, activation='sigmoid')(hidden3)\n",
    "model4 = Model(inputs=input_layer, outputs=output_layer)\n",
    "print(\"Constructed\")\n",
    "model4.compile(loss='binary_crossentropy', metrics=['accuracy'], optimizer='adam')\n",
    "print(\"Compiled\")\n",
    "hist = model4.fit(X_train_padded_seq, y_train, epochs=20, batch_size=32, verbose=0)\n",
    "print(\"Fitted\")\n",
    "\n",
    "score_test = model4.evaluate(X_test_padded_seq, y_test)\n",
    "score_train = model4.evaluate(X_train_padded_seq, y_train)\n",
    "score_test, score_train"
   ]
  },
  {
   "cell_type": "code",
   "execution_count": 44,
   "metadata": {},
   "outputs": [
    {
     "name": "stderr",
     "output_type": "stream",
     "text": [
      "/Users/ekremguzelyel/anaconda/lib/python3.6/site-packages/keras/activations.py:197: UserWarning: Do not pass a layer instance (such as LeakyReLU) as the activation argument of another layer. Instead, advanced activation layers should be used just like any other layer in a model.\n",
      "  identifier=identifier.__class__.__name__))\n"
     ]
    },
    {
     "name": "stdout",
     "output_type": "stream",
     "text": [
      "Constructed\n",
      "Compiled\n",
      "Fitted\n",
      "876/876 [==============================] - 1s 1ms/step\n",
      "1750/1750 [==============================] - 1s 706us/step\n"
     ]
    },
    {
     "data": {
      "text/plain": [
       "([0.8221887942046335, 0.5993150682209833],\n",
       " [0.45476821078572954, 0.7657142858505249])"
      ]
     },
     "execution_count": 44,
     "metadata": {},
     "output_type": "execute_result"
    }
   ],
   "source": [
    "# 3 Hidden layer (LSTM(32), Dense(20, leakyrelu), Dense(10))\n",
    "input_layer = Input(shape=(X_train_padded_seq.shape[1],))\n",
    "e = Embedding(vocab_size,\n",
    "              100,\n",
    "              weights=[embedding_matrix],\n",
    "              input_length=X_train_padded_seq.shape[1],\n",
    "              trainable=False)(input_layer)\n",
    "hidden1 = LSTM(32, return_sequences=False)(e)\n",
    "# LeakyReLU(10, )\n",
    "hidden2 = Dense(20, activation=LeakyReLU(alpha=5))(hidden1)\n",
    "hidden3 = Dense(10, activation='relu')(hidden2)\n",
    "output_layer = Dense(1, activation='sigmoid')(hidden3)\n",
    "model5 = Model(inputs=input_layer, outputs=output_layer)\n",
    "print(\"Constructed\")\n",
    "model5.compile(loss='binary_crossentropy', metrics=['accuracy'], optimizer='adam')\n",
    "print(\"Compiled\")\n",
    "hist = model5.fit(X_train_padded_seq, y_train, epochs=20, batch_size=32, verbose=0)\n",
    "print(\"Fitted\")\n",
    "\n",
    "score_test = model5.evaluate(X_test_padded_seq, y_test)\n",
    "score_train = model5.evaluate(X_train_padded_seq, y_train)\n",
    "score_test, score_train"
   ]
  },
  {
   "cell_type": "markdown",
   "metadata": {},
   "source": [
    "**WHY THE SCORE GIVES TWO DIFFERENT RESULTS?**\n",
    "\n",
    "_ASK THIS QUESTION_"
   ]
  },
  {
   "cell_type": "code",
   "execution_count": 43,
   "metadata": {},
   "outputs": [
    {
     "name": "stdout",
     "output_type": "stream",
     "text": [
      "660/660 [==============================] - 0s 724us/step\n"
     ]
    },
    {
     "data": {
      "text/plain": [
       "[0.7514940818150838, 0.6363636367248766]"
      ]
     },
     "execution_count": 43,
     "metadata": {},
     "output_type": "execute_result"
    }
   ],
   "source": [
    "score = model.evaluate(X_test_padded_seq, y_test)\n",
    "score"
   ]
  },
  {
   "cell_type": "code",
   "execution_count": 44,
   "metadata": {
    "collapsed": true
   },
   "outputs": [
    {
     "data": {
      "text/plain": [
       "[0.5015174507732999,\n",
       " 0.5576631258579595,\n",
       " 0.6062215478901436,\n",
       " 0.6176024280115396,\n",
       " 0.6198786039905954,\n",
       " 0.6517450683757279,\n",
       " 0.6570561455848184,\n",
       " 0.6631259483162296,\n",
       " 0.6896813352661538,\n",
       " 0.6980273142027384,\n",
       " 0.7109256449165402,\n",
       " 0.7223065251283833,\n",
       " 0.7336874051593323,\n",
       " 0.7389984826397643,\n",
       " 0.7587253413359565,\n",
       " 0.7867981791496277,\n",
       " 0.7883156297420334,\n",
       " 0.8125948405772312,\n",
       " 0.8262518967229064,\n",
       " 0.8338391502276176]"
      ]
     },
     "execution_count": 44,
     "metadata": {},
     "output_type": "execute_result"
    }
   ],
   "source": [
    "hist.history['acc']"
   ]
  },
  {
   "cell_type": "code",
   "execution_count": null,
   "metadata": {},
   "outputs": [],
   "source": [
    "x= [i for i,j in enumerate(hist.history['acc'])]"
   ]
  },
  {
   "cell_type": "code",
   "execution_count": 46,
   "metadata": {},
   "outputs": [
    {
     "data": {
      "image/png": "[encoded data removed]",
      "text/plain": [
       "<Figure size 432x288 with 1 Axes>"
      ]
     },
     "metadata": {},
     "output_type": "display_data"
    }
   ],
   "source": [
    "import matplotlib.pyplot as plt\n",
    "x=[i for i,j in enumerate(hist.history['acc'])]\n",
    "plt.plot(x, hist.history['acc'])\n",
    "plt.plot(x, hist.history['loss'])\n",
    "plt.legend()\n",
    "plt.show()"
   ]
  },
  {
   "cell_type": "markdown",
   "metadata": {},
   "source": [
    "__IS THERE AN EASIER WAY TO CLASSIFY PREDICTIONS IN BINARY?__"
   ]
  },
  {
   "cell_type": "code",
   "execution_count": null,
   "metadata": {},
   "outputs": [],
   "source": [
    "print(len(y_test), len(preds))\n",
    "preds_binary =[]\n",
    "for i in range(len(preds)):\n",
    "    preds[i] = [1 if preds[i]>0.5 else 0][0]\n",
    "        \n",
    "# y_test ,preds\n",
    "confusion_matrix(y_test, preds)"
   ]
  },
  {
   "cell_type": "markdown",
   "metadata": {},
   "source": [
    "## NEW STUFF FOR NEW SEQUENCES\n",
    "\n",
    "__DIDN'T WORK__"
   ]
  },
  {
   "cell_type": "raw",
   "metadata": {},
   "source": [
    "import keras\n",
    "import labeled_functions\n",
    "import sklearn as sk\n",
    "from sklearn.model_selection import train_test_split\n",
    "from keras.preprocessing.text import text_to_word_sequence, one_hot"
   ]
  },
  {
   "cell_type": "raw",
   "metadata": {},
   "source": [
    "X_corpus, y = labeled_functions.load_with_path()\n",
    "X_train_corpus , X_test_corpus, y_train, y_test = train_test_split(X_corpus, y, test_size=1./3, random_state=42)\n",
    "len(X_train_corpus)"
   ]
  },
  {
   "cell_type": "raw",
   "metadata": {},
   "source": [
    "print(X_train_corpus[400])\n",
    "X_train_sequence=[]\n",
    "length=0\n",
    "for i in X_train_corpus:\n",
    "    seq = text_to_word_sequence(text=i)\n",
    "    X_train_sequence.append(seq)\n",
    "    length = [len(set(seq)) if len(set(seq))>length else length][0]\n",
    "length"
   ]
  },
  {
   "cell_type": "raw",
   "metadata": {},
   "source": [
    "# Recurrent Neural Network\n",
    "from keras.utils import plot_model\n",
    "from keras.models import Model\n",
    "from keras.layers import Input\n",
    "from keras.layers import Dense\n",
    "from keras.layers.recurrent import LSTM\n",
    "input_layer = Input(shape=(X_train_vector.shape[1],))\n",
    "embed_layer = Embedding(output_dim=64, input_dim=X_train_vector.shape[0]*X_train_vector.shape[1], input_length=X_train_vector.shape[1])(input_layer)\n",
    "hidden1 = LSTM(32, return_sequences=False)(e)\n",
    "# hidden2 = Dense(10, activation='relu')(hidden1)\n",
    "output_layer = Dense(1, activation='sigmoid')(hidden1)\n",
    "model = Model(inputs=input_layer, outputs=output_layer)\n",
    "# summarize layers\n",
    "print(model.summary())\n",
    "# plot graph\n",
    "# plot_model(model, to_file='recurrent_neural_network.png')"
   ]
  },
  {
   "cell_type": "code",
   "execution_count": null,
   "metadata": {},
   "outputs": [],
   "source": [
    "model.compile(loss='binary_crossentropy', metrics=['accuracy'], optimizer='adam')"
   ]
  },
  {
   "cell_type": "code",
   "execution_count": null,
   "metadata": {},
   "outputs": [],
   "source": [
    "model.fit(X_train_vector, y_train, epochs=10, batch_size=32, verbose=1)"
   ]
  },
  {
   "cell_type": "code",
   "execution_count": null,
   "metadata": {
    "scrolled": false
   },
   "outputs": [],
   "source": [
    "y_train"
   ]
  },
  {
   "cell_type": "markdown",
   "metadata": {},
   "source": [
    "### TUTORIAL"
   ]
  },
  {
   "cell_type": "code",
   "execution_count": 4,
   "metadata": {
    "scrolled": false
   },
   "outputs": [
    {
     "name": "stdout",
     "output_type": "stream",
     "text": [
      "[[6, 2], [3, 1], [7, 4], [8, 1], [9], [10], [5, 4], [11, 3], [5, 1], [12, 13, 2, 14]]\n",
      "[[ 0  0  6  2]\n",
      " [ 0  0  3  1]\n",
      " [ 0  0  7  4]\n",
      " [ 0  0  8  1]\n",
      " [ 0  0  0  9]\n",
      " [ 0  0  0 10]\n",
      " [ 0  0  5  4]\n",
      " [ 0  0 11  3]\n",
      " [ 0  0  5  1]\n",
      " [12 13  2 14]]\n"
     ]
    }
   ],
   "source": [
    "# X_train_corpus\n",
    "docs = ['Well done!', 'Good work','Great effort',\n",
    "        'nice work', 'Excellent!',\n",
    "        'Weak','Poor effort!', 'not good', 'poor work',\n",
    "        'Could have done better.']\n",
    "# define class labels\n",
    "# y_train\n",
    "labels = np.array([1,1,1,1,1,0,0,0,0,0])\n",
    "# prepare tokenizer\n",
    "t = Tokenizer()\n",
    "t.fit_on_texts(docs)\n",
    "vocab_size = len(t.word_index) + 1\n",
    "# integer encode the documents\n",
    "encoded_docs = t.texts_to_sequences(docs)\n",
    "print(encoded_docs)\n",
    "# pad documents to a max length of 4 words\n",
    "max_length = 4\n",
    "padded_docs = pad_sequences(encoded_docs, maxlen=max_length, padding='pre')\n",
    "print(padded_docs)"
   ]
  },
  {
   "cell_type": "code",
   "execution_count": 5,
   "metadata": {
    "collapsed": true
   },
   "outputs": [
    {
     "name": "stdout",
     "output_type": "stream",
     "text": [
      "[[3, 41, 5, 1, 411, 29, 4, 117, 40], [8, 208, 11, 182, 581, 19], [18, 13, 4, 19, 46], [18, 1266, 1267, 582, 1268, 5, 25, 36, 782, 9, 7, 23, 3, 783, 1269, 358, 209, 58, 29, 118, 412, 22, 1270, 413, 9, 37, 6, 1, 477, 159, 14, 9, 7, 237]]\n",
      "[[   0    0    0    0    0    0    0    0    0    0    0    0    0    0\n",
      "     0    0    0    0    0    0    0    0    0    0    0    0    0    0\n",
      "     0    0    0    0    0    0    0    0    0    0    0    0    0    0\n",
      "     0    0    0    0    0    0    0    0    0    0    0    0    0    0\n",
      "     0    0    0    0    0    0    0    0    0    0    0    0    0    0\n",
      "     0    0    0    0    0    0    0    0    0    0    0    0    0    0\n",
      "     0    0    0    0    0    0    0    0    0    0    0    0    0    0\n",
      "     0    0    0    0    0    0    0    0    0    0    0    0    0    0\n",
      "     0    0    0    3   41    5    1  411   29    4  117   40]\n",
      " [   0    0    0    0    0    0    0    0    0    0    0    0    0    0\n",
      "     0    0    0    0    0    0    0    0    0    0    0    0    0    0\n",
      "     0    0    0    0    0    0    0    0    0    0    0    0    0    0\n",
      "     0    0    0    0    0    0    0    0    0    0    0    0    0    0\n",
      "     0    0    0    0    0    0    0    0    0    0    0    0    0    0\n",
      "     0    0    0    0    0    0    0    0    0    0    0    0    0    0\n",
      "     0    0    0    0    0    0    0    0    0    0    0    0    0    0\n",
      "     0    0    0    0    0    0    0    0    0    0    0    0    0    0\n",
      "     0    0    0    0    0    0    8  208   11  182  581   19]\n",
      " [   0    0    0    0    0    0    0    0    0    0    0    0    0    0\n",
      "     0    0    0    0    0    0    0    0    0    0    0    0    0    0\n",
      "     0    0    0    0    0    0    0    0    0    0    0    0    0    0\n",
      "     0    0    0    0    0    0    0    0    0    0    0    0    0    0\n",
      "     0    0    0    0    0    0    0    0    0    0    0    0    0    0\n",
      "     0    0    0    0    0    0    0    0    0    0    0    0    0    0\n",
      "     0    0    0    0    0    0    0    0    0    0    0    0    0    0\n",
      "     0    0    0    0    0    0    0    0    0    0    0    0    0    0\n",
      "     0    0    0    0    0    0    0   18   13    4   19   46]\n",
      " [   0    0    0    0    0    0    0    0    0    0    0    0    0    0\n",
      "     0    0    0    0    0    0    0    0    0    0    0    0    0    0\n",
      "     0    0    0    0    0    0    0    0    0    0    0    0    0    0\n",
      "     0    0    0    0    0    0    0    0    0    0    0    0    0    0\n",
      "     0    0    0    0    0    0    0    0    0    0    0    0    0    0\n",
      "     0    0    0    0    0    0    0    0    0    0    0    0    0    0\n",
      "     0    0    0    0    0    0   18 1266 1267  582 1268    5   25   36\n",
      "   782    9    7   23    3  783 1269  358  209   58   29  118  412   22\n",
      "  1270  413    9   37    6    1  477  159   14    9    7  237]]\n"
     ]
    }
   ],
   "source": [
    "docs = X_corpus\n",
    "labels = y\n",
    "# prepare tokenizer\n",
    "t = Tokenizer()\n",
    "t.fit_on_texts(docs)\n",
    "vocab_size = len(t.word_index) + 1\n",
    "# integer encode the documents\n",
    "encoded_docs = t.texts_to_sequences(docs)\n",
    "print(encoded_docs[:4])\n",
    "# pad documents to a max length of 4 words\n",
    "max_length = 124\n",
    "padded_docs = pad_sequences(encoded_docs, maxlen=max_length, padding='pre')\n",
    "print(padded_docs[:4])"
   ]
  },
  {
   "cell_type": "code",
   "execution_count": 6,
   "metadata": {},
   "outputs": [
    {
     "name": "stdout",
     "output_type": "stream",
     "text": [
      "Loaded 400000 word vectors.\n"
     ]
    }
   ],
   "source": [
    "# load the whole embedding into memory\n",
    "embeddings_index = dict()\n",
    "f = open('../../../glove.6B/glove.6B.100d.txt')\n",
    "for line in f:\n",
    "    values = line.split()\n",
    "    word = values[0]\n",
    "    coefs = np.asarray(values[1:], dtype='float32')\n",
    "    embeddings_index[word] = coefs\n",
    "f.close()\n",
    "print('Loaded %s word vectors.' % len(embeddings_index))"
   ]
  },
  {
   "cell_type": "code",
   "execution_count": 7,
   "metadata": {},
   "outputs": [],
   "source": [
    "# create a weight matrix for words in training docs\n",
    "embedding_matrix = np.zeros((vocab_size, 100))\n",
    "for word, i in t.word_index.items():\n",
    "    embedding_vector = embeddings_index.get(word)\n",
    "    if embedding_vector is not None:\n",
    "        embedding_matrix[i] = embedding_vector"
   ]
  },
  {
   "cell_type": "code",
   "execution_count": null,
   "metadata": {},
   "outputs": [],
   "source": [
    "e = Embedding(vocab_size, 100, weights=[embedding_matrix], input_length=124, trainable=False)"
   ]
  }
 ],
 "metadata": {
  "kernelspec": {
   "display_name": "Python 3",
   "language": "python",
   "name": "python3"
  },
  "language_info": {
   "codemirror_mode": {
    "name": "ipython",
    "version": 3
   },
   "file_extension": ".py",
   "mimetype": "text/x-python",
   "name": "python",
   "nbconvert_exporter": "python",
   "pygments_lexer": "ipython3",
   "version": "3.6.5"
  }
 },
 "nbformat": 4,
 "nbformat_minor": 2
}
