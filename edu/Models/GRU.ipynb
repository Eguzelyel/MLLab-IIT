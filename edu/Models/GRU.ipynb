{
 "cells": [
  {
   "cell_type": "markdown",
   "metadata": {},
   "source": [
    "#### Tasks\n",
    "\n",
    "- Try with no embedding layer !!!\n",
    "- Try dropout, regularization\n",
    "- Read about GRU, and try it.\n",
    "- Try loss function as MSE, MAE for neutrals too and with tanh\n",
    "- Use bias=False for the data that has unbalanced points\n",
    "- Write a report, what you learned. What is the model you chose. Why you chose it. Steps you've taken\n",
    "- Test ConvLSTM layer"
   ]
  },
  {
   "cell_type": "code",
   "execution_count": 118,
   "metadata": {},
   "outputs": [],
   "source": [
    "import glove\n",
    "import keras\n",
    "import labeled_functions\n",
    "import matplotlib.pyplot as plt\n",
    "import numpy as np\n",
    "from keras.layers import LSTM, Dense, Input, Embedding, Conv1D, GRU\n",
    "from keras.layers import MaxPooling1D, GlobalMaxPooling1D, Flatten\n",
    "from keras.layers.recurrent import LSTM # Don't know the difference\n",
    "from keras.models import Model\n",
    "from keras.preprocessing.sequence import pad_sequences\n",
    "from keras.preprocessing.text import text_to_word_sequence, one_hot, Tokenizer\n",
    "from sklearn.metrics import precision_recall_curve, precision_score, log_loss\n",
    "from sklearn.metrics import precision_recall_fscore_support, confusion_matrix\n",
    "from sklearn.model_selection import train_test_split"
   ]
  },
  {
   "cell_type": "code",
   "execution_count": 2,
   "metadata": {},
   "outputs": [
    {
     "name": "stdout",
     "output_type": "stream",
     "text": [
      "Labeled Data loaded.\n",
      "Max Length: 123\n"
     ]
    }
   ],
   "source": [
    "X_corpus, y = labeled_functions.load_with_path(path=r\"/Users/ekremguzelyel/Desktop/Assignments/Research/MLLab-IIT/edu/active_learning\")\n",
    "\n",
    "X_sequence = []\n",
    "for i in X_corpus:\n",
    "    X_sequence.append(text_to_word_sequence(i))\n",
    "\n",
    "max_length=0\n",
    "for i in X_sequence:\n",
    "    max_length = [len(i) if len(i) > max_length else max_length][0]\n",
    "print(\"Max Length:\", max_length)"
   ]
  },
  {
   "cell_type": "code",
   "execution_count": 3,
   "metadata": {},
   "outputs": [
    {
     "name": "stdout",
     "output_type": "stream",
     "text": [
      "One-hot encoded.\n",
      "Sequences padded.\n",
      "Train-Test padded sequences split.\n"
     ]
    }
   ],
   "source": [
    "# One-hot Encoding and Padding Sequences\n",
    "X_corpus_one_hot = []\n",
    "for i in X_corpus:\n",
    "    X_corpus_one_hot.append(one_hot(i, round(max_length*1.2)))\n",
    "print(\"One-hot encoded.\")\n",
    "\n",
    "padded_seq_corpus = pad_sequences(X_corpus_one_hot)\n",
    "print(\"Sequences padded.\")\n",
    "\n",
    "X_train_padded_seq, X_test_padded_seq, y_train, y_test = train_test_split(padded_seq_corpus, y,\n",
    "                                                                          test_size=1./3, random_state=42)\n",
    "print(\"Train-Test padded sequences split.\")"
   ]
  },
  {
   "cell_type": "code",
   "execution_count": 8,
   "metadata": {},
   "outputs": [
    {
     "data": {
      "text/plain": [
       "(2156, 123)"
      ]
     },
     "execution_count": 8,
     "metadata": {},
     "output_type": "execute_result"
    }
   ],
   "source": [
    "X_train_padded_seq.shape"
   ]
  },
  {
   "cell_type": "code",
   "execution_count": 18,
   "metadata": {},
   "outputs": [],
   "source": [
    "t = Tokenizer()\n",
    "t.fit_on_texts(X_corpus)\n",
    "vocab_size = len(t.word_index) + 1\n",
    "encoded_docs = t.texts_to_sequences(X_corpus)\n",
    "padded_docs = pad_sequences(encoded_docs, maxlen=max_length, padding='pre')"
   ]
  },
  {
   "cell_type": "code",
   "execution_count": 19,
   "metadata": {},
   "outputs": [
    {
     "name": "stdout",
     "output_type": "stream",
     "text": [
      "Loaded 400000 word vectors.\n"
     ]
    }
   ],
   "source": [
    "# load the whole embedding into memory\n",
    "embeddings_index = dict()\n",
    "f = open('../../../glove.6B/glove.6B.100d.txt')\n",
    "for line in f:\n",
    "    values = line.split()\n",
    "    word = values[0]\n",
    "    coefs = np.asarray(values[1:], dtype='float32')\n",
    "    embeddings_index[word] = coefs\n",
    "f.close()\n",
    "print('Loaded %s word vectors.' % len(embeddings_index))"
   ]
  },
  {
   "cell_type": "code",
   "execution_count": 20,
   "metadata": {},
   "outputs": [],
   "source": [
    "# create a weight matrix for words in training docs\n",
    "embedding_matrix = np.zeros((vocab_size, 100))\n",
    "for word, i in t.word_index.items():\n",
    "    embedding_vector = embeddings_index.get(word)\n",
    "    if embedding_vector is not None:\n",
    "        embedding_matrix[i] = embedding_vector"
   ]
  },
  {
   "cell_type": "code",
   "execution_count": 61,
   "metadata": {},
   "outputs": [
    {
     "name": "stdout",
     "output_type": "stream",
     "text": [
      "Model Compiled\n"
     ]
    }
   ],
   "source": [
    "# Different combinations tested.\n",
    "input_layer = Input(shape=(X_train_padded_seq.shape[1],))\n",
    "\n",
    "e = Embedding(vocab_size,\n",
    "              100,\n",
    "              weights=[embedding_matrix],\n",
    "              input_length=X_train_padded_seq.shape[1],\n",
    "              trainable=False)(input_layer)\n",
    "hidden1 = GRU(32, return_sequences=False )(e)\n",
    "\n",
    "# cnn1 = Conv1D(128, 5, activation='tanh')(hidden1)\n",
    "# pool1 = MaxPooling1D(5)(cnn1)\n",
    "# cnn2 = Conv1D(128, 5, activation='sigmoid')(pool1)\n",
    "# pool2 = GlobalMaxPooling1D()(cnn2)\n",
    "\n",
    "# hidden2 = Dense(10, activation='relu')(pool2)\n",
    "output_layer = Dense(1, activation='sigmoid')(hidden1)\n",
    "model = Model(inputs=input_layer, outputs=output_layer)\n",
    "\n",
    "\n",
    "model.compile(loss='binary_crossentropy', metrics=['accuracy'], optimizer='adam')\n",
    "print(\"Model Compiled\")"
   ]
  },
  {
   "cell_type": "code",
   "execution_count": 59,
   "metadata": {},
   "outputs": [],
   "source": [
    "X_train_reshape = X_train_padded_seq.reshape(X_train_padded_seq.shape[0], X_train_padded_seq.shape[1],1)"
   ]
  },
  {
   "cell_type": "code",
   "execution_count": 115,
   "metadata": {
    "scrolled": true
   },
   "outputs": [
    {
     "name": "stdout",
     "output_type": "stream",
     "text": [
      "Epoch 1/20\n",
      "1079/1079 [==============================] - 3s 3ms/step - loss: 1.5533 - acc: 0.5885\n",
      "Epoch 2/20\n",
      "1079/1079 [==============================] - 3s 2ms/step - loss: 0.6896 - acc: 0.6469\n",
      "Epoch 3/20\n",
      "1079/1079 [==============================] - 3s 3ms/step - loss: 0.5867 - acc: 0.6932\n",
      "Epoch 4/20\n",
      "1079/1079 [==============================] - 3s 3ms/step - loss: 0.5410 - acc: 0.7257\n",
      "Epoch 5/20\n",
      "1079/1079 [==============================] - 3s 3ms/step - loss: 0.5068 - acc: 0.7572\n",
      "Epoch 6/20\n",
      "1079/1079 [==============================] - 3s 3ms/step - loss: 0.4818 - acc: 0.7683\n",
      "Epoch 7/20\n",
      "1079/1079 [==============================] - 3s 3ms/step - loss: 0.4471 - acc: 0.7887\n",
      "Epoch 8/20\n",
      "1079/1079 [==============================] - 3s 3ms/step - loss: 0.4324 - acc: 0.7980\n",
      "Epoch 9/20\n",
      "1079/1079 [==============================] - 3s 3ms/step - loss: 0.4031 - acc: 0.8221\n",
      "Epoch 10/20\n",
      "1079/1079 [==============================] - 3s 3ms/step - loss: 0.3694 - acc: 0.8434\n",
      "Epoch 11/20\n",
      "1079/1079 [==============================] - 3s 3ms/step - loss: 0.3544 - acc: 0.8480\n",
      "Epoch 12/20\n",
      "1079/1079 [==============================] - 3s 3ms/step - loss: 0.3243 - acc: 0.8591\n",
      "Epoch 13/20\n",
      "1079/1079 [==============================] - 3s 3ms/step - loss: 0.3027 - acc: 0.8712\n",
      "Epoch 14/20\n",
      "1079/1079 [==============================] - 3s 3ms/step - loss: 0.2876 - acc: 0.8804\n",
      "Epoch 15/20\n",
      " 928/1079 [========================>.....] - ETA: 0s - loss: 0.2560 - acc: 0.9052"
     ]
    },
    {
     "ename": "KeyboardInterrupt",
     "evalue": "",
     "output_type": "error",
     "traceback": [
      "\u001b[0;31m---------------------------------------------------------------------------\u001b[0m",
      "\u001b[0;31mKeyboardInterrupt\u001b[0m                         Traceback (most recent call last)",
      "\u001b[0;32m<ipython-input-115-3380d9fded6c>\u001b[0m in \u001b[0;36m<module>\u001b[0;34m()\u001b[0m\n\u001b[0;32m----> 1\u001b[0;31m \u001b[0mmodel\u001b[0m\u001b[0;34m.\u001b[0m\u001b[0mfit\u001b[0m\u001b[0;34m(\u001b[0m\u001b[0mX_test_padded_seq\u001b[0m\u001b[0;34m,\u001b[0m \u001b[0my_test\u001b[0m\u001b[0;34m,\u001b[0m \u001b[0mepochs\u001b[0m\u001b[0;34m=\u001b[0m\u001b[0;36m20\u001b[0m\u001b[0;34m,\u001b[0m \u001b[0mbatch_size\u001b[0m\u001b[0;34m=\u001b[0m\u001b[0;36m32\u001b[0m\u001b[0;34m)\u001b[0m\u001b[0;34m\u001b[0m\u001b[0m\n\u001b[0m",
      "\u001b[0;32m/Users/ekremguzelyel/anaconda/lib/python3.6/site-packages/keras/engine/training.py\u001b[0m in \u001b[0;36mfit\u001b[0;34m(self, x, y, batch_size, epochs, verbose, callbacks, validation_split, validation_data, shuffle, class_weight, sample_weight, initial_epoch, steps_per_epoch, validation_steps, **kwargs)\u001b[0m\n\u001b[1;32m   1035\u001b[0m                                         \u001b[0minitial_epoch\u001b[0m\u001b[0;34m=\u001b[0m\u001b[0minitial_epoch\u001b[0m\u001b[0;34m,\u001b[0m\u001b[0;34m\u001b[0m\u001b[0m\n\u001b[1;32m   1036\u001b[0m                                         \u001b[0msteps_per_epoch\u001b[0m\u001b[0;34m=\u001b[0m\u001b[0msteps_per_epoch\u001b[0m\u001b[0;34m,\u001b[0m\u001b[0;34m\u001b[0m\u001b[0m\n\u001b[0;32m-> 1037\u001b[0;31m                                         validation_steps=validation_steps)\n\u001b[0m\u001b[1;32m   1038\u001b[0m \u001b[0;34m\u001b[0m\u001b[0m\n\u001b[1;32m   1039\u001b[0m     def evaluate(self, x=None, y=None,\n",
      "\u001b[0;32m/Users/ekremguzelyel/anaconda/lib/python3.6/site-packages/keras/engine/training_arrays.py\u001b[0m in \u001b[0;36mfit_loop\u001b[0;34m(model, f, ins, out_labels, batch_size, epochs, verbose, callbacks, val_f, val_ins, shuffle, callback_metrics, initial_epoch, steps_per_epoch, validation_steps)\u001b[0m\n\u001b[1;32m    197\u001b[0m                     \u001b[0mins_batch\u001b[0m\u001b[0;34m[\u001b[0m\u001b[0mi\u001b[0m\u001b[0;34m]\u001b[0m \u001b[0;34m=\u001b[0m \u001b[0mins_batch\u001b[0m\u001b[0;34m[\u001b[0m\u001b[0mi\u001b[0m\u001b[0;34m]\u001b[0m\u001b[0;34m.\u001b[0m\u001b[0mtoarray\u001b[0m\u001b[0;34m(\u001b[0m\u001b[0;34m)\u001b[0m\u001b[0;34m\u001b[0m\u001b[0m\n\u001b[1;32m    198\u001b[0m \u001b[0;34m\u001b[0m\u001b[0m\n\u001b[0;32m--> 199\u001b[0;31m                 \u001b[0mouts\u001b[0m \u001b[0;34m=\u001b[0m \u001b[0mf\u001b[0m\u001b[0;34m(\u001b[0m\u001b[0mins_batch\u001b[0m\u001b[0;34m)\u001b[0m\u001b[0;34m\u001b[0m\u001b[0m\n\u001b[0m\u001b[1;32m    200\u001b[0m                 \u001b[0mouts\u001b[0m \u001b[0;34m=\u001b[0m \u001b[0mto_list\u001b[0m\u001b[0;34m(\u001b[0m\u001b[0mouts\u001b[0m\u001b[0;34m)\u001b[0m\u001b[0;34m\u001b[0m\u001b[0m\n\u001b[1;32m    201\u001b[0m                 \u001b[0;32mfor\u001b[0m \u001b[0ml\u001b[0m\u001b[0;34m,\u001b[0m \u001b[0mo\u001b[0m \u001b[0;32min\u001b[0m \u001b[0mzip\u001b[0m\u001b[0;34m(\u001b[0m\u001b[0mout_labels\u001b[0m\u001b[0;34m,\u001b[0m \u001b[0mouts\u001b[0m\u001b[0;34m)\u001b[0m\u001b[0;34m:\u001b[0m\u001b[0;34m\u001b[0m\u001b[0m\n",
      "\u001b[0;32m/Users/ekremguzelyel/anaconda/lib/python3.6/site-packages/keras/backend/tensorflow_backend.py\u001b[0m in \u001b[0;36m__call__\u001b[0;34m(self, inputs)\u001b[0m\n\u001b[1;32m   2664\u001b[0m                 \u001b[0;32mreturn\u001b[0m \u001b[0mself\u001b[0m\u001b[0;34m.\u001b[0m\u001b[0m_legacy_call\u001b[0m\u001b[0;34m(\u001b[0m\u001b[0minputs\u001b[0m\u001b[0;34m)\u001b[0m\u001b[0;34m\u001b[0m\u001b[0m\n\u001b[1;32m   2665\u001b[0m \u001b[0;34m\u001b[0m\u001b[0m\n\u001b[0;32m-> 2666\u001b[0;31m             \u001b[0;32mreturn\u001b[0m \u001b[0mself\u001b[0m\u001b[0;34m.\u001b[0m\u001b[0m_call\u001b[0m\u001b[0;34m(\u001b[0m\u001b[0minputs\u001b[0m\u001b[0;34m)\u001b[0m\u001b[0;34m\u001b[0m\u001b[0m\n\u001b[0m\u001b[1;32m   2667\u001b[0m         \u001b[0;32melse\u001b[0m\u001b[0;34m:\u001b[0m\u001b[0;34m\u001b[0m\u001b[0m\n\u001b[1;32m   2668\u001b[0m             \u001b[0;32mif\u001b[0m \u001b[0mpy_any\u001b[0m\u001b[0;34m(\u001b[0m\u001b[0mis_tensor\u001b[0m\u001b[0;34m(\u001b[0m\u001b[0mx\u001b[0m\u001b[0;34m)\u001b[0m \u001b[0;32mfor\u001b[0m \u001b[0mx\u001b[0m \u001b[0;32min\u001b[0m \u001b[0minputs\u001b[0m\u001b[0;34m)\u001b[0m\u001b[0;34m:\u001b[0m\u001b[0;34m\u001b[0m\u001b[0m\n",
      "\u001b[0;32m/Users/ekremguzelyel/anaconda/lib/python3.6/site-packages/keras/backend/tensorflow_backend.py\u001b[0m in \u001b[0;36m_call\u001b[0;34m(self, inputs)\u001b[0m\n\u001b[1;32m   2634\u001b[0m                                 \u001b[0msymbol_vals\u001b[0m\u001b[0;34m,\u001b[0m\u001b[0;34m\u001b[0m\u001b[0m\n\u001b[1;32m   2635\u001b[0m                                 session)\n\u001b[0;32m-> 2636\u001b[0;31m         \u001b[0mfetched\u001b[0m \u001b[0;34m=\u001b[0m \u001b[0mself\u001b[0m\u001b[0;34m.\u001b[0m\u001b[0m_callable_fn\u001b[0m\u001b[0;34m(\u001b[0m\u001b[0;34m*\u001b[0m\u001b[0marray_vals\u001b[0m\u001b[0;34m)\u001b[0m\u001b[0;34m\u001b[0m\u001b[0m\n\u001b[0m\u001b[1;32m   2637\u001b[0m         \u001b[0;32mreturn\u001b[0m \u001b[0mfetched\u001b[0m\u001b[0;34m[\u001b[0m\u001b[0;34m:\u001b[0m\u001b[0mlen\u001b[0m\u001b[0;34m(\u001b[0m\u001b[0mself\u001b[0m\u001b[0;34m.\u001b[0m\u001b[0moutputs\u001b[0m\u001b[0;34m)\u001b[0m\u001b[0;34m]\u001b[0m\u001b[0;34m\u001b[0m\u001b[0m\n\u001b[1;32m   2638\u001b[0m \u001b[0;34m\u001b[0m\u001b[0m\n",
      "\u001b[0;32m/Users/ekremguzelyel/anaconda/lib/python3.6/site-packages/tensorflow/python/client/session.py\u001b[0m in \u001b[0;36m__call__\u001b[0;34m(self, *args, **kwargs)\u001b[0m\n\u001b[1;32m   1380\u001b[0m           ret = tf_session.TF_SessionRunCallable(\n\u001b[1;32m   1381\u001b[0m               \u001b[0mself\u001b[0m\u001b[0;34m.\u001b[0m\u001b[0m_session\u001b[0m\u001b[0;34m.\u001b[0m\u001b[0m_session\u001b[0m\u001b[0;34m,\u001b[0m \u001b[0mself\u001b[0m\u001b[0;34m.\u001b[0m\u001b[0m_handle\u001b[0m\u001b[0;34m,\u001b[0m \u001b[0margs\u001b[0m\u001b[0;34m,\u001b[0m \u001b[0mstatus\u001b[0m\u001b[0;34m,\u001b[0m\u001b[0;34m\u001b[0m\u001b[0m\n\u001b[0;32m-> 1382\u001b[0;31m               run_metadata_ptr)\n\u001b[0m\u001b[1;32m   1383\u001b[0m         \u001b[0;32mif\u001b[0m \u001b[0mrun_metadata\u001b[0m\u001b[0;34m:\u001b[0m\u001b[0;34m\u001b[0m\u001b[0m\n\u001b[1;32m   1384\u001b[0m           \u001b[0mproto_data\u001b[0m \u001b[0;34m=\u001b[0m \u001b[0mtf_session\u001b[0m\u001b[0;34m.\u001b[0m\u001b[0mTF_GetBuffer\u001b[0m\u001b[0;34m(\u001b[0m\u001b[0mrun_metadata_ptr\u001b[0m\u001b[0;34m)\u001b[0m\u001b[0;34m\u001b[0m\u001b[0m\n",
      "\u001b[0;31mKeyboardInterrupt\u001b[0m: "
     ]
    }
   ],
   "source": [
    "# model.fit(X_test_padded_seq, y_test, epochs=20, batch_size=32)"
   ]
  },
  {
   "cell_type": "code",
   "execution_count": 124,
   "metadata": {},
   "outputs": [
    {
     "name": "stdout",
     "output_type": "stream",
     "text": [
      "(2156, 123, 1)\n",
      "Epoch 1/20\n",
      "2156/2156 [==============================] - 7s 3ms/step - loss: 0.4360 - acc: 0.8043\n",
      "Epoch 2/20\n",
      "2156/2156 [==============================] - 6s 3ms/step - loss: 0.2505 - acc: 0.8956\n",
      "Epoch 3/20\n",
      "2156/2156 [==============================] - 7s 3ms/step - loss: 0.1209 - acc: 0.9615\n",
      "Epoch 4/20\n",
      "2156/2156 [==============================] - 5s 2ms/step - loss: 0.0688 - acc: 0.9828\n",
      "Epoch 5/20\n",
      "2156/2156 [==============================] - 7s 3ms/step - loss: 0.0356 - acc: 0.9958\n",
      "Epoch 6/20\n",
      "2156/2156 [==============================] - 7s 3ms/step - loss: 0.0249 - acc: 0.9981\n",
      "Epoch 7/20\n",
      "2156/2156 [==============================] - 6s 3ms/step - loss: 0.0192 - acc: 0.9995\n",
      "Epoch 8/20\n",
      "2156/2156 [==============================] - 6s 3ms/step - loss: 0.0153 - acc: 0.9995\n",
      "Epoch 9/20\n",
      "2156/2156 [==============================] - 6s 3ms/step - loss: 0.0130 - acc: 0.9995\n",
      "Epoch 10/20\n",
      "2156/2156 [==============================] - 8s 4ms/step - loss: 0.0111 - acc: 0.9995\n",
      "Epoch 11/20\n",
      "2156/2156 [==============================] - 8s 4ms/step - loss: 0.0098 - acc: 0.9995\n",
      "Epoch 12/20\n",
      "2156/2156 [==============================] - 6s 3ms/step - loss: 0.0089 - acc: 0.9995\n",
      "Epoch 13/20\n",
      "2156/2156 [==============================] - 7s 3ms/step - loss: 0.0080 - acc: 0.9995\n",
      "Epoch 14/20\n",
      "2156/2156 [==============================] - 6s 3ms/step - loss: 0.0073 - acc: 0.9995\n",
      "Epoch 15/20\n",
      "2156/2156 [==============================] - 6s 3ms/step - loss: 0.0068 - acc: 0.9995\n",
      "Epoch 16/20\n",
      "2156/2156 [==============================] - 6s 3ms/step - loss: 0.0065 - acc: 0.9995\n",
      "Epoch 17/20\n",
      "2156/2156 [==============================] - 6s 3ms/step - loss: 0.0059 - acc: 0.9995\n",
      "Epoch 18/20\n",
      "2156/2156 [==============================] - 6s 3ms/step - loss: 0.0056 - acc: 1.0000\n",
      "Epoch 19/20\n",
      "2156/2156 [==============================] - 5s 2ms/step - loss: 0.0052 - acc: 0.9995\n",
      "Epoch 20/20\n",
      "2156/2156 [==============================] - 6s 3ms/step - loss: 0.0050 - acc: 0.9995\n"
     ]
    },
    {
     "data": {
      "text/plain": [
       "<keras.callbacks.History at 0x12c497470>"
      ]
     },
     "execution_count": 124,
     "metadata": {},
     "output_type": "execute_result"
    }
   ],
   "source": [
    "print(X_train_reshape.shape)\n",
    "model.fit(X_train_padded_seq, y_train, epochs=20, batch_size=32)"
   ]
  },
  {
   "cell_type": "code",
   "execution_count": 125,
   "metadata": {},
   "outputs": [],
   "source": [
    "preds = model.predict(X_test_padded_seq) # It gives probabilities"
   ]
  },
  {
   "cell_type": "code",
   "execution_count": 126,
   "metadata": {},
   "outputs": [],
   "source": [
    "preds_train= (model.predict(X_train_padded_seq))"
   ]
  },
  {
   "cell_type": "raw",
   "metadata": {},
   "source": [
    "log_loss(X_test_padded_seq,y_test), log_loss(X_train_padded_seq, y_train)"
   ]
  },
  {
   "cell_type": "code",
   "execution_count": 127,
   "metadata": {},
   "outputs": [
    {
     "name": "stdout",
     "output_type": "stream",
     "text": [
      "9.699144007089284 0.016020211499231458\n",
      "1079/1079 [==============================] - 1s 570us/step\n",
      "2156/2156 [==============================] - 1s 584us/step\n",
      "\n",
      "TestAcc  TrainAcc  Prec  Rec  F1  Sup\n",
      "  0.7219647822609867  1.0  [0.73184358 0.70664207]  [0.71195652 0.72675522]  [0.72176309 0.71655753]  [552 527]\n"
     ]
    }
   ],
   "source": [
    "# Convert predictions to binary.\n",
    "threshold, pred = 0.25, []\n",
    "threshold_train, pred_train = 0.25, []\n",
    "[pred.append(1 if preds[i]>threshold else 0) for i,j in enumerate(preds)]\n",
    "[pred_train.append(1 if preds_train[i]>threshold else 0) for i,j in enumerate(preds_train)]\n",
    "\n",
    "print(log_loss(y_test,pred), log_loss(y_train, pred_train))\n",
    "score_test = model.evaluate(X_test_padded_seq, y_test)\n",
    "score_train = model.evaluate(X_train_padded_seq, y_train)\n",
    "score_test, score_train\n",
    "\n",
    "precision, recall, f1, support = precision_recall_fscore_support(y_test, pred)\n",
    "\n",
    "print(\"\\nTestAcc\", \"TrainAcc\", \"Prec\", \"Rec\", \"F1\",\"Sup\\n\", score_test[1], score_train[1], precision, recall, f1, support, sep=\"  \")"
   ]
  },
  {
   "cell_type": "code",
   "execution_count": 84,
   "metadata": {},
   "outputs": [
    {
     "name": "stdout",
     "output_type": "stream",
     "text": [
      "Model Compiled\n"
     ]
    }
   ],
   "source": [
    "# Different combinations tested.\n",
    "input_layer = Input(shape=(X_train_padded_seq.shape[1],))\n",
    "\n",
    "e = Embedding(vocab_size,\n",
    "              100,\n",
    "              weights=[embedding_matrix],\n",
    "              input_length=X_train_padded_seq.shape[1],\n",
    "              trainable=False)(input_layer)\n",
    "hidden1 = GRU(32, return_sequences=False )(e)\n",
    "# cnn1 = Conv1D(128, 5, activation='tanh')(hidden1)\n",
    "# pool1 = MaxPooling1D(5)(cnn1)\n",
    "# cnn2 = Conv1D(128, 5, activation='sigmoid')(pool1)\n",
    "# pool2 = GlobalMaxPooling1D()(cnn2)\n",
    "\n",
    "hidden2 = Dense(10, activation='tanh')(hidden1)\n",
    "output_layer = Dense(1, activation='sigmoid')(hidden2)\n",
    "model2 = Model(inputs=input_layer, outputs=output_layer)\n",
    "\n",
    "\n",
    "model2.compile(loss='binary_crossentropy', metrics=['accuracy'], optimizer='adam')\n",
    "print(\"Model Compiled\")"
   ]
  },
  {
   "cell_type": "code",
   "execution_count": 85,
   "metadata": {},
   "outputs": [
    {
     "name": "stdout",
     "output_type": "stream",
     "text": [
      "Epoch 1/20\n",
      "2156/2156 [==============================] - 7s 3ms/step - loss: 0.7005 - acc: 0.5097\n",
      "Epoch 2/20\n",
      "2156/2156 [==============================] - 6s 3ms/step - loss: 0.6794 - acc: 0.5640\n",
      "Epoch 3/20\n",
      "2156/2156 [==============================] - 7s 3ms/step - loss: 0.6646 - acc: 0.5840\n",
      "Epoch 4/20\n",
      "2156/2156 [==============================] - 6s 3ms/step - loss: 0.6484 - acc: 0.6109\n",
      "Epoch 5/20\n",
      "2156/2156 [==============================] - 6s 3ms/step - loss: 0.6268 - acc: 0.6489\n",
      "Epoch 6/20\n",
      "2156/2156 [==============================] - 6s 3ms/step - loss: 0.6198 - acc: 0.6572\n",
      "Epoch 7/20\n",
      "2156/2156 [==============================] - 6s 3ms/step - loss: 0.6010 - acc: 0.6814\n",
      "Epoch 8/20\n",
      "2156/2156 [==============================] - 6s 3ms/step - loss: 0.5899 - acc: 0.6934\n",
      "Epoch 9/20\n",
      "2156/2156 [==============================] - 6s 3ms/step - loss: 0.5713 - acc: 0.7032\n",
      "Epoch 10/20\n",
      "2156/2156 [==============================] - 6s 3ms/step - loss: 0.5584 - acc: 0.7194\n",
      "Epoch 11/20\n",
      "2156/2156 [==============================] - 6s 3ms/step - loss: 0.5377 - acc: 0.7384\n",
      "Epoch 12/20\n",
      "2156/2156 [==============================] - 6s 3ms/step - loss: 0.5269 - acc: 0.7370\n",
      "Epoch 13/20\n",
      "2156/2156 [==============================] - 6s 3ms/step - loss: 0.5041 - acc: 0.7667\n",
      "Epoch 14/20\n",
      "2156/2156 [==============================] - 6s 3ms/step - loss: 0.4878 - acc: 0.7672\n",
      "Epoch 15/20\n",
      "2156/2156 [==============================] - 6s 3ms/step - loss: 0.4654 - acc: 0.7945\n",
      "Epoch 16/20\n",
      "2156/2156 [==============================] - 6s 3ms/step - loss: 0.4458 - acc: 0.7931\n",
      "Epoch 17/20\n",
      "2156/2156 [==============================] - 6s 3ms/step - loss: 0.4167 - acc: 0.8154\n",
      "Epoch 18/20\n",
      "2156/2156 [==============================] - 7s 3ms/step - loss: 0.3948 - acc: 0.8228\n",
      "Epoch 19/20\n",
      "2156/2156 [==============================] - 6s 3ms/step - loss: 0.3629 - acc: 0.8446\n",
      "Epoch 20/20\n",
      "2156/2156 [==============================] - 6s 3ms/step - loss: 0.3552 - acc: 0.8497\n"
     ]
    },
    {
     "data": {
      "text/plain": [
       "<keras.callbacks.History at 0x129d17d68>"
      ]
     },
     "execution_count": 85,
     "metadata": {},
     "output_type": "execute_result"
    }
   ],
   "source": [
    "model2.fit(X_train_padded_seq, y_train, epochs=20, batch_size=32)"
   ]
  },
  {
   "cell_type": "code",
   "execution_count": 86,
   "metadata": {},
   "outputs": [],
   "source": [
    "preds2 = model2.predict(X_test_padded_seq) # It gives probabilities"
   ]
  },
  {
   "cell_type": "code",
   "execution_count": 89,
   "metadata": {},
   "outputs": [
    {
     "name": "stdout",
     "output_type": "stream",
     "text": [
      "1079/1079 [==============================] - 1s 648us/step\n",
      "2156/2156 [==============================] - 1s 585us/step\n",
      "\n",
      "TestAcc  TrainAcc  Prec  Rec  F1  Sup\n",
      "  0.638554217143673  0.8923933209647495  [0.6619469 0.6536965]  [0.67753623 0.63757116]  [0.66965085 0.64553314]  [552 527]\n"
     ]
    }
   ],
   "source": [
    "# Convert predictions to binary.\n",
    "threshold2, pred2 = 0.4, []\n",
    "[pred2.append(1 if preds2[i]>threshold2 else 0) for i,j in enumerate(preds)]\n",
    "\n",
    "score_test2 = model2.evaluate(X_test_padded_seq, y_test)\n",
    "score_train2 = model2.evaluate(X_train_padded_seq, y_train)\n",
    "score_test2, score_train2\n",
    "\n",
    "precision2, recall2, f12, support2 = precision_recall_fscore_support(y_test, pred2)\n",
    "\n",
    "print(\"\\nTestAcc\", \"TrainAcc\", \"Prec\", \"Rec\", \"F1\",\"Sup\\n\", score_test2[1], score_train2[1], precision2, recall2, f12, support2, sep=\"  \")"
   ]
  },
  {
   "cell_type": "markdown",
   "metadata": {},
   "source": [
    "Different combinations"
   ]
  },
  {
   "cell_type": "code",
   "execution_count": 91,
   "metadata": {},
   "outputs": [
    {
     "name": "stdout",
     "output_type": "stream",
     "text": [
      "Model Compiled\n"
     ]
    }
   ],
   "source": [
    "# Different combinations tested.\n",
    "input_layer = Input(shape=(X_train_padded_seq.shape[1],))\n",
    "\n",
    "e = Embedding(vocab_size,\n",
    "              100,\n",
    "              weights=[embedding_matrix],\n",
    "              input_length=X_train_padded_seq.shape[1],\n",
    "              trainable=False)(input_layer)\n",
    "hidden1 = GRU(32, return_sequences=True )(e)\n",
    "hidden2 = GRU(32, return_sequences=False )(hidden1)\n",
    "\n",
    "# cnn1 = Conv1D(128, 5, activation='tanh')(hidden1)\n",
    "# pool1 = MaxPooling1D(5)(cnn1)\n",
    "# cnn2 = Conv1D(128, 5, activation='sigmoid')(pool1)\n",
    "# pool2 = GlobalMaxPooling1D()(cnn2)\n",
    "\n",
    "hidden3 = Dense(10, activation='tanh')(hidden2)\n",
    "output_layer = Dense(1, activation='sigmoid')(hidden3)\n",
    "model3 = Model(inputs=input_layer, outputs=output_layer)\n",
    "\n",
    "\n",
    "model3.compile(loss='binary_crossentropy', metrics=['accuracy'], optimizer='adam')\n",
    "print(\"Model Compiled\")"
   ]
  },
  {
   "cell_type": "code",
   "execution_count": 92,
   "metadata": {},
   "outputs": [
    {
     "name": "stdout",
     "output_type": "stream",
     "text": [
      "Epoch 1/20\n",
      "2156/2156 [==============================] - 13s 6ms/step - loss: 0.6976 - acc: 0.5204\n",
      "Epoch 2/20\n",
      "2156/2156 [==============================] - 10s 5ms/step - loss: 0.6701 - acc: 0.5765\n",
      "Epoch 3/20\n",
      "2156/2156 [==============================] - 11s 5ms/step - loss: 0.6458 - acc: 0.6132\n",
      "Epoch 4/20\n",
      "2156/2156 [==============================] - 10s 5ms/step - loss: 0.6332 - acc: 0.6294\n",
      "Epoch 5/20\n",
      "2156/2156 [==============================] - 11s 5ms/step - loss: 0.6115 - acc: 0.6609\n",
      "Epoch 6/20\n",
      "2156/2156 [==============================] - 10s 5ms/step - loss: 0.5963 - acc: 0.6712\n",
      "Epoch 7/20\n",
      "2156/2156 [==============================] - 11s 5ms/step - loss: 0.5788 - acc: 0.7008\n",
      "Epoch 8/20\n",
      "2156/2156 [==============================] - 10s 5ms/step - loss: 0.5685 - acc: 0.7036\n",
      "Epoch 9/20\n",
      "2156/2156 [==============================] - 10s 5ms/step - loss: 0.5464 - acc: 0.7208\n",
      "Epoch 10/20\n",
      "2156/2156 [==============================] - 11s 5ms/step - loss: 0.5365 - acc: 0.7370\n",
      "Epoch 11/20\n",
      "2156/2156 [==============================] - 10s 5ms/step - loss: 0.5084 - acc: 0.7602\n",
      "Epoch 12/20\n",
      "2156/2156 [==============================] - 11s 5ms/step - loss: 0.4862 - acc: 0.7653\n",
      "Epoch 13/20\n",
      "2156/2156 [==============================] - 11s 5ms/step - loss: 0.4680 - acc: 0.7834\n",
      "Epoch 14/20\n",
      "2156/2156 [==============================] - 11s 5ms/step - loss: 0.4517 - acc: 0.7922\n",
      "Epoch 15/20\n",
      "2156/2156 [==============================] - 13s 6ms/step - loss: 0.4089 - acc: 0.8228\n",
      "Epoch 16/20\n",
      "2156/2156 [==============================] - 10s 5ms/step - loss: 0.3979 - acc: 0.8256\n",
      "Epoch 17/20\n",
      "2156/2156 [==============================] - 12s 5ms/step - loss: 0.3596 - acc: 0.8558\n",
      "Epoch 18/20\n",
      "2156/2156 [==============================] - 11s 5ms/step - loss: 0.3457 - acc: 0.8539\n",
      "Epoch 19/20\n",
      "2156/2156 [==============================] - 11s 5ms/step - loss: 0.3069 - acc: 0.8720\n",
      "Epoch 20/20\n",
      "2156/2156 [==============================] - 10s 5ms/step - loss: 0.2941 - acc: 0.8813\n"
     ]
    },
    {
     "data": {
      "text/plain": [
       "<keras.callbacks.History at 0x128746208>"
      ]
     },
     "execution_count": 92,
     "metadata": {},
     "output_type": "execute_result"
    }
   ],
   "source": [
    "model3.fit(X_train_padded_seq, y_train, epochs=20, batch_size=32)"
   ]
  },
  {
   "cell_type": "code",
   "execution_count": 94,
   "metadata": {},
   "outputs": [],
   "source": [
    "preds3 = model3.predict(X_test_padded_seq) # It gives probabilities"
   ]
  },
  {
   "cell_type": "code",
   "execution_count": 95,
   "metadata": {},
   "outputs": [
    {
     "name": "stdout",
     "output_type": "stream",
     "text": [
      "1079/1079 [==============================] - 1s 1ms/step\n",
      "2156/2156 [==============================] - 2s 904us/step\n",
      "\n",
      "TestAcc  TrainAcc  Prec  Rec  F1  Sup\n",
      "  0.6116774785949524  0.89053803350576  [0.60944882 0.62837838]  [0.70108696 0.52941176]  [0.65206403 0.57466529]  [552 527]\n"
     ]
    }
   ],
   "source": [
    "# Convert predictions to binary.\n",
    "threshold3, pred3 = 0.4, []\n",
    "[pred3.append(1 if preds3[i]>threshold3 else 0) for i,j in enumerate(preds)]\n",
    "\n",
    "score_test3 = model3.evaluate(X_test_padded_seq, y_test)\n",
    "score_train3 = model3.evaluate(X_train_padded_seq, y_train)\n",
    "score_test3, score_train3\n",
    "\n",
    "precision3, recall3, f13, support3 = precision_recall_fscore_support(y_test, pred3)\n",
    "\n",
    "print(\"\\nTestAcc\", \"TrainAcc\", \"Prec\", \"Rec\", \"F1\",\"Sup\\n\", score_test3[1], score_train3[1], precision3, recall3, f13, support3, sep=\"  \")"
   ]
  },
  {
   "cell_type": "code",
   "execution_count": null,
   "metadata": {},
   "outputs": [],
   "source": []
  }
 ],
 "metadata": {
  "kernelspec": {
   "display_name": "Python 3",
   "language": "python",
   "name": "python3"
  },
  "language_info": {
   "codemirror_mode": {
    "name": "ipython",
    "version": 3
   },
   "file_extension": ".py",
   "mimetype": "text/x-python",
   "name": "python",
   "nbconvert_exporter": "python",
   "pygments_lexer": "ipython3",
   "version": "3.6.5"
  }
 },
 "nbformat": 4,
 "nbformat_minor": 2
}
