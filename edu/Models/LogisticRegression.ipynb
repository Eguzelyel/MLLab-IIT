{
 "cells": [
  {
   "cell_type": "code",
   "execution_count": 1,
   "metadata": {},
   "outputs": [],
   "source": [
    "import labeled_functions\n",
    "from sklearn.linear_model import LogisticRegression\n",
    "import numpy as np"
   ]
  },
  {
   "cell_type": "code",
   "execution_count": 2,
   "metadata": {
    "scrolled": true
   },
   "outputs": [
    {
     "name": "stdout",
     "output_type": "stream",
     "text": [
      "Labeled Data loaded.\n",
      "Data Vectorized\n"
     ]
    }
   ],
   "source": [
    "X_train_vector , y_train, X_test_vector , y_test = labeled_functions.split_and_vectorize()"
   ]
  },
  {
   "cell_type": "code",
   "execution_count": 3,
   "metadata": {
    "scrolled": true
   },
   "outputs": [
    {
     "name": "stdout",
     "output_type": "stream",
     "text": [
      "X_train_vector: Type: <class 'scipy.sparse.csr.csr_matrix'> \tShape: (1410, 362)\n",
      "y_train: \tType: <class 'numpy.ndarray'> \t\t\tShape: 1410\n",
      "X_test_vector: \tType: <class 'scipy.sparse.csr.csr_matrix'> \tShape: (705, 362)\n",
      "y_test: \tType: <class 'numpy.ndarray'> \t\t\tShape: 705\n"
     ]
    }
   ],
   "source": [
    "print(\"X_train_vector: Type:\", type(X_train_vector),\"\\tShape:\", X_train_vector.shape)\n",
    "print(\"y_train: \\tType:\", type(y_train),\"\\t\\t\\tShape:\", len(y_train))\n",
    "print(\"X_test_vector: \\tType:\", type(X_test_vector),\"\\tShape:\", X_test_vector.shape)\n",
    "print(\"y_test: \\tType:\", type(y_test),\"\\t\\t\\tShape:\", len(y_test))"
   ]
  },
  {
   "cell_type": "code",
   "execution_count": 10,
   "metadata": {},
   "outputs": [
    {
     "data": {
      "text/plain": [
       "[(0.001, 0.6581560283687943),\n",
       " (0.005, 0.6851063829787234),\n",
       " (0.01, 0.7078014184397163),\n",
       " (0.05, 0.75177304964539),\n",
       " (0.1, 0.775886524822695),\n",
       " (0.25, 0.7872340425531915),\n",
       " (0.5, 0.8014184397163121),\n",
       " (0.75, 0.7914893617021277),\n",
       " (1, 0.7914893617021277)]"
      ]
     },
     "execution_count": 10,
     "metadata": {},
     "output_type": "execute_result"
    }
   ],
   "source": [
    "lr_scores=[]\n",
    "for i in [0.001,0.005,0.01,0.05, 0.1,0.25,0.5,0.75,1]:\n",
    "    lr = LogisticRegression(C=i)\n",
    "    lr.fit(X_train_vector, y_train)\n",
    "    lr_scores.append((i, lr.score(X_test_vector, y_test)))\n",
    "lr_scores"
   ]
  },
  {
   "cell_type": "code",
   "execution_count": 7,
   "metadata": {},
   "outputs": [
    {
     "data": {
      "text/plain": [
       "0.8014184397163121"
      ]
     },
     "execution_count": 7,
     "metadata": {},
     "output_type": "execute_result"
    }
   ],
   "source": [
    "# best C=0.5\n",
    "preds = lr.predict_proba(X_test_vector)\n",
    "lr.score(X_test_vector, y_test)"
   ]
  }
 ],
 "metadata": {
  "kernelspec": {
   "display_name": "Python 3",
   "language": "python",
   "name": "python3"
  },
  "language_info": {
   "codemirror_mode": {
    "name": "ipython",
    "version": 3
   },
   "file_extension": ".py",
   "mimetype": "text/x-python",
   "name": "python",
   "nbconvert_exporter": "python",
   "pygments_lexer": "ipython3",
   "version": "3.6.5"
  }
 },
 "nbformat": 4,
 "nbformat_minor": 2
}
