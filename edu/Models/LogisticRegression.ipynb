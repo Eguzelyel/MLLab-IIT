{
 "cells": [
  {
   "cell_type": "code",
   "execution_count": 23,
   "metadata": {},
   "outputs": [],
   "source": [
    "import labeled_functions\n",
    "from sklearn.linear_model import LogisticRegression\n",
    "import numpy as np\n",
    "from sklearn.metrics import confusion_matrix, precision_recall_fscore_support"
   ]
  },
  {
   "cell_type": "code",
   "execution_count": 12,
   "metadata": {
    "scrolled": true
   },
   "outputs": [
    {
     "name": "stdout",
     "output_type": "stream",
     "text": [
      "Labeled Data loaded.\n",
      "Data Vectorized\n"
     ]
    }
   ],
   "source": [
    "X_train_vector , y_train, X_test_vector , y_test = labeled_functions.split_and_vectorize()"
   ]
  },
  {
   "cell_type": "code",
   "execution_count": 13,
   "metadata": {
    "scrolled": false
   },
   "outputs": [
    {
     "name": "stdout",
     "output_type": "stream",
     "text": [
      "X_train_vector: Type: <class 'scipy.sparse.csr.csr_matrix'> \tShape: (1410, 362)\n",
      "y_train: \tType: <class 'numpy.ndarray'> \t\t\tShape: 1410\n",
      "X_test_vector: \tType: <class 'scipy.sparse.csr.csr_matrix'> \tShape: (705, 362)\n",
      "y_test: \tType: <class 'numpy.ndarray'> \t\t\tShape: 705\n"
     ]
    }
   ],
   "source": [
    "print(\"X_train_vector: Type:\", type(X_train_vector),\"\\tShape:\", X_train_vector.shape)\n",
    "print(\"y_train: \\tType:\", type(y_train),\"\\t\\t\\tShape:\", len(y_train))\n",
    "print(\"X_test_vector: \\tType:\", type(X_test_vector),\"\\tShape:\", X_test_vector.shape)\n",
    "print(\"y_test: \\tType:\", type(y_test),\"\\t\\t\\tShape:\", len(y_test))"
   ]
  },
  {
   "cell_type": "code",
   "execution_count": 38,
   "metadata": {},
   "outputs": [
    {
     "data": {
      "text/plain": [
       "[(0.001, 0.5531914893617021, 0.5716312056737589),\n",
       " (0.005, 0.5531914893617021, 0.5716312056737589),\n",
       " (0.01, 0.5531914893617021, 0.5716312056737589),\n",
       " (0.05, 0.6546099290780142, 0.6638297872340425),\n",
       " (0.1, 0.6957446808510638, 0.6851063829787234),\n",
       " (0.25, 0.7326241134751773, 0.7262411347517731),\n",
       " (0.5, 0.7851063829787234, 0.7631205673758865),\n",
       " (0.75, 0.8078014184397163, 0.7929078014184398),\n",
       " (1, 0.8198581560283688, 0.798581560283688),\n",
       " (1.5, 0.8397163120567376, 0.798581560283688),\n",
       " (2, 0.849645390070922, 0.7957446808510639),\n",
       " (5, 0.8723404255319149, 0.7829787234042553),\n",
       " (10, 0.8787234042553191, 0.7702127659574468)]"
      ]
     },
     "execution_count": 38,
     "metadata": {},
     "output_type": "execute_result"
    }
   ],
   "source": [
    "lr_scores=[]\n",
    "for i in [0.001,0.005,0.01,0.05, 0.1,0.25,0.5,0.75,1, 1.5, 2, 5, 10]:\n",
    "    lr = LogisticRegression(C=i, random_state=42, penalty='l1')\n",
    "    lr.fit(X_train_vector, y_train)\n",
    "#     preds_binary = lr.predict(X_test_vector)\n",
    "#     precision, recall, fscore, support = precision_recall_fscore_support(y_test, preds_binary)\n",
    "#, precision, recall\n",
    "    lr_scores.append((i, lr.score(X_train_vector, y_train), lr.score(X_test_vector, y_test)))\n",
    "    \n",
    "lr_scores"
   ]
  },
  {
   "cell_type": "code",
   "execution_count": 19,
   "metadata": {},
   "outputs": [
    {
     "data": {
      "text/plain": [
       "0.8014184397163121"
      ]
     },
     "execution_count": 19,
     "metadata": {},
     "output_type": "execute_result"
    }
   ],
   "source": [
    "# best C=0.5\n",
    "lr = LogisticRegression(C=0.5)\n",
    "lr.fit(X_train_vector, y_train)\n",
    "preds_binary = lr.predict(X_test_vector)\n",
    "preds_prob = lr.predict_proba(X_test_vector)\n",
    "lr.score(X_test_vector, y_test)"
   ]
  },
  {
   "cell_type": "code",
   "execution_count": 20,
   "metadata": {
    "scrolled": true
   },
   "outputs": [
    {
     "data": {
      "text/plain": [
       "array([[326,  77],\n",
       "       [ 63, 239]])"
      ]
     },
     "execution_count": 20,
     "metadata": {},
     "output_type": "execute_result"
    }
   ],
   "source": [
    "confusion_matrix(y_test, preds_binary)"
   ]
  },
  {
   "cell_type": "code",
   "execution_count": 25,
   "metadata": {},
   "outputs": [],
   "source": [
    "precision, recall, fscore, support = precision_recall_fscore_support(y_test, preds_binary)"
   ]
  },
  {
   "cell_type": "code",
   "execution_count": 27,
   "metadata": {},
   "outputs": [
    {
     "data": {
      "text/plain": [
       "(array([0.83804627, 0.75632911]), array([0.808933  , 0.79139073]))"
      ]
     },
     "execution_count": 27,
     "metadata": {},
     "output_type": "execute_result"
    }
   ],
   "source": [
    "precision , recall"
   ]
  }
 ],
 "metadata": {
  "kernelspec": {
   "display_name": "Python 3",
   "language": "python",
   "name": "python3"
  },
  "language_info": {
   "codemirror_mode": {
    "name": "ipython",
    "version": 3
   },
   "file_extension": ".py",
   "mimetype": "text/x-python",
   "name": "python",
   "nbconvert_exporter": "python",
   "pygments_lexer": "ipython3",
   "version": "3.6.5"
  }
 },
 "nbformat": 4,
 "nbformat_minor": 2
}
