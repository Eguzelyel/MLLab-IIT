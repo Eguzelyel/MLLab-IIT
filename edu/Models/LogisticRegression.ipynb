{
 "cells": [
  {
   "cell_type": "code",
   "execution_count": 1,
   "metadata": {},
   "outputs": [],
   "source": [
    "import labeled_functions\n",
    "from sklearn.linear_model import LogisticRegression\n",
    "import numpy as np"
   ]
  },
  {
   "cell_type": "code",
   "execution_count": 2,
   "metadata": {
    "scrolled": true
   },
   "outputs": [
    {
     "name": "stdout",
     "output_type": "stream",
     "text": [
      "Labeled Data loaded.\n",
      "Data Vectorized\n"
     ]
    }
   ],
   "source": [
    "X_train_vector , y_train, X_test_vector , y_test = labeled_functions.split_and_vectorize()"
   ]
  },
  {
   "cell_type": "code",
   "execution_count": 3,
   "metadata": {
    "scrolled": true
   },
   "outputs": [
    {
     "name": "stdout",
     "output_type": "stream",
     "text": [
      "X_train_vector: Type: <class 'scipy.sparse.csr.csr_matrix'> \tShape: (1410, 362)\n",
      "y_train: \tType: <class 'numpy.ndarray'> \t\t\tShape: 1410\n",
      "X_test_vector: \tType: <class 'scipy.sparse.csr.csr_matrix'> \tShape: (705, 362)\n",
      "y_test: \tType: <class 'numpy.ndarray'> \t\t\tShape: 705\n"
     ]
    }
   ],
   "source": [
    "print(\"X_train_vector: Type:\", type(X_train_vector),\"\\tShape:\", X_train_vector.shape)\n",
    "print(\"y_train: \\tType:\", type(y_train),\"\\t\\t\\tShape:\", len(y_train))\n",
    "print(\"X_test_vector: \\tType:\", type(X_test_vector),\"\\tShape:\", X_test_vector.shape)\n",
    "print(\"y_test: \\tType:\", type(y_test),\"\\t\\t\\tShape:\", len(y_test))"
   ]
  },
  {
   "cell_type": "code",
   "execution_count": 4,
   "metadata": {},
   "outputs": [
    {
     "data": {
      "text/plain": [
       "LogisticRegression(C=1.0, class_weight=None, dual=False, fit_intercept=True,\n",
       "          intercept_scaling=1, max_iter=100, multi_class='ovr', n_jobs=1,\n",
       "          penalty='l2', random_state=None, solver='liblinear', tol=0.0001,\n",
       "          verbose=0, warm_start=False)"
      ]
     },
     "execution_count": 4,
     "metadata": {},
     "output_type": "execute_result"
    }
   ],
   "source": [
    "lr = LogisticRegression()\n",
    "lr.fit(X_train_vector, y_train)"
   ]
  },
  {
   "cell_type": "code",
   "execution_count": 5,
   "metadata": {},
   "outputs": [
    {
     "data": {
      "text/plain": [
       "0.7914893617021277"
      ]
     },
     "execution_count": 5,
     "metadata": {},
     "output_type": "execute_result"
    }
   ],
   "source": [
    "preds = lr.predict_proba(X_test_vector)\n",
    "lr.score(X_test_vector, y_test)"
   ]
  }
 ],
 "metadata": {
  "kernelspec": {
   "display_name": "Python 3",
   "language": "python",
   "name": "python3"
  },
  "language_info": {
   "codemirror_mode": {
    "name": "ipython",
    "version": 3
   },
   "file_extension": ".py",
   "mimetype": "text/x-python",
   "name": "python",
   "nbconvert_exporter": "python",
   "pygments_lexer": "ipython3",
   "version": "3.6.5"
  }
 },
 "nbformat": 4,
 "nbformat_minor": 2
}
