{
 "cells": [
  {
   "cell_type": "code",
   "execution_count": 13,
   "metadata": {},
   "outputs": [],
   "source": [
    "import labeled_functions\n",
    "import numpy as np\n",
    "import matplotlib.pyplot as plt\n",
    "from sklearn.naive_bayes import MultinomialNB\n",
    "from sklearn.metrics import precision_recall_curve, precision_score, precision_recall_fscore_support,log_loss, confusion_matrix"
   ]
  },
  {
   "cell_type": "code",
   "execution_count": 2,
   "metadata": {},
   "outputs": [
    {
     "name": "stdout",
     "output_type": "stream",
     "text": [
      "Labeled Data loaded.\n",
      "Data Vectorized\n"
     ]
    }
   ],
   "source": [
    "X_train_vector , y_train, X_test_vector , y_test = labeled_functions.split_and_vectorize()"
   ]
  },
  {
   "cell_type": "code",
   "execution_count": 20,
   "metadata": {},
   "outputs": [
    {
     "name": "stdout",
     "output_type": "stream",
     "text": [
      "0.001 \t 0.75 \t [0.76068376 0.73786408] \t [0.76724138 0.73076923]\n",
      "0.1 \t 0.75 \t [0.7592068  0.73941368] \t [0.77011494 0.7275641 ]\n",
      "0.3 \t 0.753030303030303 \t [0.76056338 0.7442623 ] \t [0.77586207 0.7275641 ]\n",
      "0.5 \t 0.7515151515151515 \t [0.75842697 0.74342105] \t [0.77586207 0.72435897]\n",
      "0.75 \t 0.7515151515151515 \t [0.75988701 0.74183007] \t [0.77298851 0.7275641 ]\n",
      "1 \t 0.753030303030303 \t [0.76203966 0.74267101] \t [0.77298851 0.73076923]\n",
      "2 \t 0.7484848484848485 \t [0.76       0.73548387] \t [0.76436782 0.73076923]\n",
      "5 \t 0.7363636363636363 \t [0.74033149 0.73154362] \t [0.77011494 0.69871795]\n",
      "10 \t 0.7136363636363636 \t [0.70866142 0.72043011] \t [0.77586207 0.64423077]\n"
     ]
    },
    {
     "data": {
      "image/png": "[encoded data removed]",
      "text/plain": [
       "<Figure size 432x288 with 1 Axes>"
      ]
     },
     "metadata": {},
     "output_type": "display_data"
    }
   ],
   "source": [
    "val = []\n",
    "for alpha in [0.001, 0.1,0.3,0.5,0.75,1,2,5,10]:\n",
    "    mnb = MultinomialNB(alpha=alpha, )\n",
    "    mnb.fit(X_train_vector, y_train)\n",
    "    preds_binary = mnb.predict(X_test_vector)\n",
    "    preds_prob_train = mnb.predict_proba(X_train_vector)\n",
    "    preds_prob = mnb.predict_proba(X_test_vector)\n",
    "    val.append((alpha, log_loss(y_train, preds_prob_train), log_loss(y_test, preds_prob)))\n",
    "    precision, recall, fscore, support = precision_recall_fscore_support(y_test, preds_binary)\n",
    "    score = mnb.score(X_test_vector, y_test)\n",
    "    print(alpha,\"\\t\", score,\"\\t\", precision,\"\\t\", recall)\n",
    "\n",
    "x = [str(val[x][0]) for x in range(len(val))]\n",
    "plt.plot(x, [val[x][1] for x in range(len(val))])\n",
    "plt.plot(x, [val[x][2] for x in range(len(val))])\n",
    "plt.legend(['y = log_loss(train)', 'y = log_loss(test)'], loc='upper left')\n",
    "plt.title(\"Log_loss vs C - MNB\")\n",
    "plt.show()"
   ]
  },
  {
   "cell_type": "code",
   "execution_count": 18,
   "metadata": {
    "scrolled": true
   },
   "outputs": [
    {
     "data": {
      "text/plain": [
       "0.742671009771987"
      ]
     },
     "execution_count": 18,
     "metadata": {},
     "output_type": "execute_result"
    }
   ],
   "source": [
    "precision_score(y_test, preds_binary) # Uniform Distr."
   ]
  },
  {
   "cell_type": "code",
   "execution_count": 19,
   "metadata": {
    "scrolled": true
   },
   "outputs": [
    {
     "data": {
      "text/plain": [
       "(array([0.76203966, 0.74267101]),\n",
       " array([0.77298851, 0.73076923]),\n",
       " array([0.76747504, 0.73667205]),\n",
       " array([348, 312]))"
      ]
     },
     "execution_count": 19,
     "metadata": {},
     "output_type": "execute_result"
    }
   ],
   "source": [
    "precision_recall_fscore_support(y_test, preds_binary)"
   ]
  },
  {
   "cell_type": "code",
   "execution_count": 25,
   "metadata": {},
   "outputs": [
    {
     "data": {
      "text/plain": [
       "array([[269,  79],\n",
       "       [ 84, 228]])"
      ]
     },
     "execution_count": 25,
     "metadata": {},
     "output_type": "execute_result"
    }
   ],
   "source": [
    "confusion_matrix(y_test, preds_binary)"
   ]
  },
  {
   "cell_type": "code",
   "execution_count": null,
   "metadata": {},
   "outputs": [],
   "source": [
    "# l1 and l2 regularization, l1 is what we use\n",
    "# history of models in keras to plot different epochs\n",
    "# keras.initializer.glorot_uniform(seed=None) USE THIS FOR UNIFORM SEEDS\n",
    "# balanced accuracy (for precision)"
   ]
  }
 ],
 "metadata": {
  "kernelspec": {
   "display_name": "Python 3",
   "language": "python",
   "name": "python3"
  },
  "language_info": {
   "codemirror_mode": {
    "name": "ipython",
    "version": 3
   },
   "file_extension": ".py",
   "mimetype": "text/x-python",
   "name": "python",
   "nbconvert_exporter": "python",
   "pygments_lexer": "ipython3",
   "version": "3.6.5"
  }
 },
 "nbformat": 4,
 "nbformat_minor": 2
}
