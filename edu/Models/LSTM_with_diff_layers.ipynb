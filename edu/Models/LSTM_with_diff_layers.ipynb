{
 "cells": [
  {
   "cell_type": "markdown",
   "metadata": {},
   "source": [
    "### LSTM with Using Different Layers"
   ]
  },
  {
   "cell_type": "code",
   "execution_count": 1,
   "metadata": {},
   "outputs": [
    {
     "name": "stderr",
     "output_type": "stream",
     "text": [
      "/Users/ekremguzelyel/anaconda/lib/python3.6/site-packages/h5py/__init__.py:34: FutureWarning: Conversion of the second argument of issubdtype from `float` to `np.floating` is deprecated. In future, it will be treated as `np.float64 == np.dtype(float).type`.\n",
      "  from ._conv import register_converters as _register_converters\n",
      "Using TensorFlow backend.\n"
     ]
    }
   ],
   "source": [
    "import glove\n",
    "import keras\n",
    "import labeled_functions\n",
    "import matplotlib.pyplot as plt\n",
    "import numpy as np\n",
    "from keras.layers import LSTM, Dense, Input, Embedding, Conv1D\n",
    "from keras.layers import MaxPooling1D, GlobalMaxPooling1D, Flatten\n",
    "from keras.layers.recurrent import LSTM # Don't know the difference\n",
    "from keras.models import Model\n",
    "from keras.preprocessing.sequence import pad_sequences\n",
    "from keras.preprocessing.text import text_to_word_sequence, one_hot, Tokenizer\n",
    "from sklearn.metrics import precision_recall_curve, precision_score\n",
    "from sklearn.metrics import precision_recall_fscore_support, confusion_matrix\n",
    "from sklearn.model_selection import train_test_split"
   ]
  },
  {
   "cell_type": "markdown",
   "metadata": {},
   "source": [
    "#### Loading, Splitting, Preprocessing Dataset"
   ]
  },
  {
   "cell_type": "code",
   "execution_count": 2,
   "metadata": {
    "scrolled": true
   },
   "outputs": [
    {
     "name": "stdout",
     "output_type": "stream",
     "text": [
      "Labeled Data loaded.\n",
      "Max Length: 123\n"
     ]
    }
   ],
   "source": [
    "X_corpus, y = labeled_functions.load_with_path(path=r\"/Users/ekremguzelyel/Desktop/Assignments/Research/MLLab-IIT/edu/active_learning\")\n",
    "\n",
    "X_sequence = []\n",
    "for i in X_corpus:\n",
    "    X_sequence.append(text_to_word_sequence(i))\n",
    "\n",
    "max_length=0\n",
    "for i in X_sequence:\n",
    "    max_length = [len(i) if len(i) > max_length else max_length][0]\n",
    "print(\"Max Length:\", max_length)"
   ]
  },
  {
   "cell_type": "markdown",
   "metadata": {},
   "source": [
    "_The reason I use sequence and corpus seperately is because when I use sequence my goal is to find the __maximum length__ of all sequences. If I use the same sequences for one-hot it gives me an error. Instead, I use __original corpus__ for direct translation of text to one-hot encoded sequences._"
   ]
  },
  {
   "cell_type": "code",
   "execution_count": 3,
   "metadata": {},
   "outputs": [
    {
     "name": "stdout",
     "output_type": "stream",
     "text": [
      "One-hot encoded.\n",
      "Sequences padded.\n",
      "Train-Test padded sequences split.\n"
     ]
    }
   ],
   "source": [
    "# One-hot Encoding and Padding Sequences\n",
    "X_corpus_one_hot = []\n",
    "for i in X_corpus:\n",
    "    X_corpus_one_hot.append(one_hot(i, round(max_length*1.2)))\n",
    "print(\"One-hot encoded.\")\n",
    "\n",
    "padded_seq_corpus = pad_sequences(X_corpus_one_hot)\n",
    "print(\"Sequences padded.\")\n",
    "\n",
    "X_train_padded_seq, X_test_padded_seq, y_train, y_test = train_test_split(padded_seq_corpus, y,\n",
    "                                                                          test_size=1./3, random_state=42)\n",
    "print(\"Train-Test padded sequences split.\")"
   ]
  },
  {
   "cell_type": "markdown",
   "metadata": {},
   "source": [
    "#### Embedding Layer Implementation"
   ]
  },
  {
   "cell_type": "code",
   "execution_count": 4,
   "metadata": {},
   "outputs": [],
   "source": [
    "t = Tokenizer()\n",
    "t.fit_on_texts(X_corpus)\n",
    "vocab_size = len(t.word_index) + 1\n",
    "encoded_docs = t.texts_to_sequences(X_corpus)\n",
    "padded_docs = pad_sequences(encoded_docs, maxlen=max_length, padding='pre')"
   ]
  },
  {
   "cell_type": "code",
   "execution_count": 5,
   "metadata": {},
   "outputs": [
    {
     "name": "stdout",
     "output_type": "stream",
     "text": [
      "Loaded 400000 word vectors.\n"
     ]
    }
   ],
   "source": [
    "# load the whole embedding into memory\n",
    "embeddings_index = dict()\n",
    "f = open('../../../glove.6B/glove.6B.100d.txt')\n",
    "for line in f:\n",
    "    values = line.split()\n",
    "    word = values[0]\n",
    "    coefs = np.asarray(values[1:], dtype='float32')\n",
    "    embeddings_index[word] = coefs\n",
    "f.close()\n",
    "print('Loaded %s word vectors.' % len(embeddings_index))"
   ]
  },
  {
   "cell_type": "code",
   "execution_count": 6,
   "metadata": {},
   "outputs": [],
   "source": [
    "# create a weight matrix for words in training docs\n",
    "embedding_matrix = np.zeros((vocab_size, 100))\n",
    "for word, i in t.word_index.items():\n",
    "    embedding_vector = embeddings_index.get(word)\n",
    "    if embedding_vector is not None:\n",
    "        embedding_matrix[i] = embedding_vector"
   ]
  },
  {
   "cell_type": "markdown",
   "metadata": {},
   "source": [
    "#### Training LSTM with CNN"
   ]
  },
  {
   "cell_type": "code",
   "execution_count": 7,
   "metadata": {},
   "outputs": [
    {
     "name": "stdout",
     "output_type": "stream",
     "text": [
      "Model Compiled\n"
     ]
    }
   ],
   "source": [
    "# Different combinations tested.\n",
    "input_layer = Input(shape=(X_train_padded_seq.shape[1],))\n",
    "\n",
    "e = Embedding(vocab_size,\n",
    "              100,\n",
    "              weights=[embedding_matrix],\n",
    "              input_length=X_train_padded_seq.shape[1],\n",
    "              trainable=False)(input_layer)\n",
    "hidden1 = LSTM(32, return_sequences=True)(e)\n",
    "\n",
    "cnn1 = Conv1D(128, 5, activation='tanh')(hidden1)\n",
    "pool1 = MaxPooling1D(5)(cnn1)\n",
    "cnn2 = Conv1D(128, 5, activation='relu')(pool1)\n",
    "pool2 = GlobalMaxPooling1D()(cnn2)\n",
    "\n",
    "# hidden2 = Dense(10, activation='relu')(pool2)\n",
    "output_layer = Dense(1, activation='sigmoid')(pool2)\n",
    "model = Model(inputs=input_layer, outputs=output_layer)\n",
    "\n",
    "\n",
    "model.compile(loss='binary_crossentropy', metrics=['accuracy'], optimizer='adam')\n",
    "print(\"Model Compiled\")"
   ]
  },
  {
   "cell_type": "code",
   "execution_count": 8,
   "metadata": {},
   "outputs": [
    {
     "name": "stdout",
     "output_type": "stream",
     "text": [
      "Model fitted.\n"
     ]
    }
   ],
   "source": [
    "hist = model.fit(X_train_padded_seq, y_train, epochs=20, batch_size=32, verbose=0)\n",
    "print(\"Model fitted.\")\n",
    "preds = model.predict(X_test_padded_seq) # It gives probabilities"
   ]
  },
  {
   "cell_type": "markdown",
   "metadata": {},
   "source": [
    "##### Results for LSTM + CNN"
   ]
  },
  {
   "cell_type": "code",
   "execution_count": 9,
   "metadata": {},
   "outputs": [
    {
     "name": "stdout",
     "output_type": "stream",
     "text": [
      "844/844 [==============================] - 1s 1ms/step\n",
      "1686/1686 [==============================] - 2s 896us/step\n",
      "\n",
      "TestAcc  TrainAcc  Prec  Rec  F1  Sup\n",
      "  0.550947867157335  0.9039145911008579  [0.58156028 0.52019002]  [0.54910714 0.5530303 ]  [0.56486797 0.53610771]  [448 396]\n"
     ]
    }
   ],
   "source": [
    "# Convert predictions to binary.\n",
    "threshold, pred = 0.5, []\n",
    "[pred.append(1 if preds[i]>threshold else 0) for i,j in enumerate(preds)]\n",
    "\n",
    "score_test = hist.model.evaluate(X_test_padded_seq, y_test)\n",
    "score_train = hist.model.evaluate(X_train_padded_seq, y_train)\n",
    "score_test, score_train\n",
    "\n",
    "precision, recall, f1, support = precision_recall_fscore_support(y_test, pred)\n",
    "\n",
    "print(\"\\nTestAcc\", \"TrainAcc\", \"Prec\", \"Rec\", \"F1\",\"Sup\\n\", score_test[1], score_train[1], precision, recall, f1, support, sep=\"  \")"
   ]
  },
  {
   "cell_type": "markdown",
   "metadata": {},
   "source": [
    "#### Training Stacked LSTM Layers"
   ]
  },
  {
   "cell_type": "code",
   "execution_count": 10,
   "metadata": {},
   "outputs": [
    {
     "name": "stdout",
     "output_type": "stream",
     "text": [
      "Model Compiled\n",
      "_________________________________________________________________\n",
      "Layer (type)                 Output Shape              Param #   \n",
      "=================================================================\n",
      "input_2 (InputLayer)         (None, 123)               0         \n",
      "_________________________________________________________________\n",
      "embedding_2 (Embedding)      (None, 123, 100)          416400    \n",
      "_________________________________________________________________\n",
      "lstm_2 (LSTM)                (None, 123, 32)           17024     \n",
      "_________________________________________________________________\n",
      "lstm_3 (LSTM)                (None, 32)                8320      \n",
      "_________________________________________________________________\n",
      "dense_2 (Dense)              (None, 10)                330       \n",
      "_________________________________________________________________\n",
      "dense_3 (Dense)              (None, 1)                 11        \n",
      "=================================================================\n",
      "Total params: 442,085\n",
      "Trainable params: 25,685\n",
      "Non-trainable params: 416,400\n",
      "_________________________________________________________________\n"
     ]
    }
   ],
   "source": [
    "# Different combinations tested.\n",
    "input_layer = Input(shape=(X_train_padded_seq.shape[1],))\n",
    "\n",
    "e = Embedding(vocab_size,\n",
    "              100,\n",
    "              weights=[embedding_matrix],\n",
    "              input_length=X_train_padded_seq.shape[1],\n",
    "              trainable=False)(input_layer)\n",
    "hidden1 = LSTM(32, return_sequences=True)(e)\n",
    "hidden2 = LSTM(32, return_sequences=False)(hidden1)\n",
    "hidden3 = Dense(10, activation='relu')(hidden2)\n",
    "\n",
    "output_layer = Dense(1, activation='sigmoid')(hidden3)\n",
    "model = Model(inputs=input_layer, outputs=output_layer)\n",
    "\n",
    "model.compile(loss='binary_crossentropy', metrics=['accuracy'], optimizer='adam')\n",
    "print(\"Model Compiled\")\n",
    "model.summary()"
   ]
  },
  {
   "cell_type": "code",
   "execution_count": 11,
   "metadata": {
    "collapsed": true
   },
   "outputs": [
    {
     "name": "stdout",
     "output_type": "stream",
     "text": [
      "Train on 1124 samples, validate on 562 samples\n",
      "Epoch 1/20\n",
      "1124/1124 [==============================] - 11s 9ms/step - loss: 0.6926 - acc: 0.5285 - val_loss: 0.6948 - val_acc: 0.5160\n",
      "Epoch 2/20\n",
      "1124/1124 [==============================] - 8s 7ms/step - loss: 0.6922 - acc: 0.5089 - val_loss: 0.6963 - val_acc: 0.5071\n",
      "Epoch 3/20\n",
      "1124/1124 [==============================] - 8s 8ms/step - loss: 0.6928 - acc: 0.5107 - val_loss: 0.6964 - val_acc: 0.5071\n",
      "Epoch 4/20\n",
      "1124/1124 [==============================] - 7s 6ms/step - loss: 0.6833 - acc: 0.5472 - val_loss: 0.7006 - val_acc: 0.5142\n",
      "Epoch 5/20\n",
      "1124/1124 [==============================] - 8s 7ms/step - loss: 0.6868 - acc: 0.5463 - val_loss: 0.6929 - val_acc: 0.5267\n",
      "Epoch 6/20\n",
      "1124/1124 [==============================] - 8s 7ms/step - loss: 0.6812 - acc: 0.5569 - val_loss: 0.6886 - val_acc: 0.5391\n",
      "Epoch 7/20\n",
      "1124/1124 [==============================] - 8s 8ms/step - loss: 0.6737 - acc: 0.5756 - val_loss: 0.6927 - val_acc: 0.5320\n",
      "Epoch 8/20\n",
      "1124/1124 [==============================] - 9s 8ms/step - loss: 0.6685 - acc: 0.5854 - val_loss: 0.6879 - val_acc: 0.5391\n",
      "Epoch 9/20\n",
      "1124/1124 [==============================] - 8s 7ms/step - loss: 0.6526 - acc: 0.6103 - val_loss: 0.6952 - val_acc: 0.5516\n",
      "Epoch 10/20\n",
      "1124/1124 [==============================] - 8s 7ms/step - loss: 0.6393 - acc: 0.6272 - val_loss: 0.7121 - val_acc: 0.5498\n",
      "Epoch 11/20\n",
      "1124/1124 [==============================] - 9s 8ms/step - loss: 0.6245 - acc: 0.6397 - val_loss: 0.7071 - val_acc: 0.5409\n",
      "Epoch 12/20\n",
      "1124/1124 [==============================] - 9s 8ms/step - loss: 0.6007 - acc: 0.6593 - val_loss: 0.7133 - val_acc: 0.5534\n",
      "Epoch 13/20\n",
      "1124/1124 [==============================] - 8s 7ms/step - loss: 0.5724 - acc: 0.6824 - val_loss: 0.7116 - val_acc: 0.5587\n",
      "Epoch 14/20\n",
      "1124/1124 [==============================] - 8s 7ms/step - loss: 0.5476 - acc: 0.7091 - val_loss: 0.7279 - val_acc: 0.5765\n",
      "Epoch 15/20\n",
      "1124/1124 [==============================] - 8s 8ms/step - loss: 0.5311 - acc: 0.7269 - val_loss: 0.7424 - val_acc: 0.5836\n",
      "Epoch 16/20\n",
      "1124/1124 [==============================] - 8s 7ms/step - loss: 0.5069 - acc: 0.7491 - val_loss: 0.7652 - val_acc: 0.5587\n",
      "Epoch 17/20\n",
      "1124/1124 [==============================] - 8s 7ms/step - loss: 0.4977 - acc: 0.7384 - val_loss: 0.7727 - val_acc: 0.5463\n",
      "Epoch 18/20\n",
      "1124/1124 [==============================] - 8s 7ms/step - loss: 0.4988 - acc: 0.7491 - val_loss: 0.7975 - val_acc: 0.5605\n",
      "Epoch 19/20\n",
      "1124/1124 [==============================] - 7s 7ms/step - loss: 0.4452 - acc: 0.7820 - val_loss: 0.7792 - val_acc: 0.5641\n",
      "Epoch 20/20\n",
      "1124/1124 [==============================] - 7s 6ms/step - loss: 0.4463 - acc: 0.7856 - val_loss: 0.8399 - val_acc: 0.5712\n",
      "Model fitted.\n"
     ]
    }
   ],
   "source": [
    "hist_stacked = model.fit(X_train_padded_seq, y_train, epochs=20, batch_size=32, verbose=1, validation_split=(1./3), shuffle=False)\n",
    "print(\"Model fitted.\")\n",
    "# hist_on_test= model.fit(X_evalt , )\n",
    "preds_stacked = model.predict(X_test_padded_seq) # It gives probabilities"
   ]
  },
  {
   "cell_type": "markdown",
   "metadata": {},
   "source": [
    "##### Results for Stacked LSTM"
   ]
  },
  {
   "cell_type": "code",
   "execution_count": null,
   "metadata": {},
   "outputs": [],
   "source": [
    "X_train_padded_seq.shape"
   ]
  },
  {
   "cell_type": "code",
   "execution_count": null,
   "metadata": {
    "scrolled": true
   },
   "outputs": [],
   "source": [
    "# Convert predictions to binary.\n",
    "threshold, pred = 0.5, []\n",
    "[pred.append(1 if preds[i]>0.5 else 0) for i,j in enumerate(preds)]\n",
    "\n",
    "score_test = hist_stacked.model.evaluate(X_test_padded_seq, y_test)\n",
    "score_train = hist_stacked.model.evaluate(X_train_padded_seq, y_train)\n",
    "score_test, score_train\n",
    "\n",
    "precision, recall, f1, support = precision_recall_fscore_support(y_test, pred)\n",
    "\n",
    "print(\"\\nTestAcc\", \"TrainAcc\", \"Prec\", \"Rec\", \"F1\",\"Sup\\n\", score_test[1], score_train[1], precision[1], recall[1], f1[1], support[1], sep=\"  \")"
   ]
  },
  {
   "cell_type": "markdown",
   "metadata": {},
   "source": [
    "#### Training LSTM with CNN (CNN First)\n",
    "CNN layers give output to LSTM. In other words, LSTM's input is CNNs."
   ]
  },
  {
   "cell_type": "code",
   "execution_count": 21,
   "metadata": {},
   "outputs": [
    {
     "name": "stdout",
     "output_type": "stream",
     "text": [
      "Model Compiled\n"
     ]
    }
   ],
   "source": [
    "# Different combinations tested.\n",
    "input_layer = Input(shape=(X_train_padded_seq.shape[1],))\n",
    "\n",
    "e = Embedding(vocab_size,\n",
    "              100,\n",
    "              weights=[embedding_matrix],\n",
    "              input_length=X_train_padded_seq.shape[1],\n",
    "              trainable=False)(input_layer)\n",
    "cnn1 = Conv1D(128, 5, activation='tanh')(e)\n",
    "pool1 = MaxPooling1D(5)(cnn1)\n",
    "# cnn2 = Conv1D(128, 5, activation='relu')(pool1)\n",
    "# pool2 = GlobalMaxPooling1D()(cnn2)\n",
    "# hidden0 = Dense(2, activation='relu')(pool2)\n",
    "\n",
    "\n",
    "hidden1 = LSTM(32, return_sequences=False)(pool1)\n",
    "\n",
    "\n",
    "hidden2 = Dense(10, activation='relu')(hidden1)\n",
    "output_layer = Dense(1, activation='sigmoid')(hidden2)\n",
    "model = Model(inputs=input_layer, outputs=output_layer)\n",
    "\n",
    "\n",
    "model.compile(loss='binary_crossentropy', metrics=['accuracy'], optimizer='adam')\n",
    "print(\"Model Compiled\")"
   ]
  },
  {
   "cell_type": "code",
   "execution_count": 22,
   "metadata": {},
   "outputs": [
    {
     "name": "stdout",
     "output_type": "stream",
     "text": [
      "Epoch 1/20\n",
      "1750/1750 [==============================] - 4s 2ms/step - loss: 0.6943 - acc: 0.5223\n",
      "Epoch 2/20\n",
      "1750/1750 [==============================] - 2s 1ms/step - loss: 0.6872 - acc: 0.5549\n",
      "Epoch 3/20\n",
      "1750/1750 [==============================] - 2s 1ms/step - loss: 0.6645 - acc: 0.6091\n",
      "Epoch 4/20\n",
      "1750/1750 [==============================] - 2s 1ms/step - loss: 0.6288 - acc: 0.6451\n",
      "Epoch 5/20\n",
      "1750/1750 [==============================] - 2s 1ms/step - loss: 0.5704 - acc: 0.6903\n",
      "Epoch 6/20\n",
      "1750/1750 [==============================] - 3s 2ms/step - loss: 0.4591 - acc: 0.7720\n",
      "Epoch 7/20\n",
      "1750/1750 [==============================] - 2s 1ms/step - loss: 0.3574 - acc: 0.8326\n",
      "Epoch 8/20\n",
      "1750/1750 [==============================] - 2s 1ms/step - loss: 0.3007 - acc: 0.8537\n",
      "Epoch 9/20\n",
      "1750/1750 [==============================] - 2s 1ms/step - loss: 0.2608 - acc: 0.8663\n",
      "Epoch 10/20\n",
      "1750/1750 [==============================] - 3s 1ms/step - loss: 0.2295 - acc: 0.8783\n",
      "Epoch 11/20\n",
      "1750/1750 [==============================] - 2s 1ms/step - loss: 0.2106 - acc: 0.8891\n",
      "Epoch 12/20\n",
      "1750/1750 [==============================] - 3s 1ms/step - loss: 0.2055 - acc: 0.8949\n",
      "Epoch 13/20\n",
      "1750/1750 [==============================] - 2s 1ms/step - loss: 0.2077 - acc: 0.8886\n",
      "Epoch 14/20\n",
      "1750/1750 [==============================] - 2s 1ms/step - loss: 0.1971 - acc: 0.8903\n",
      "Epoch 15/20\n",
      "1750/1750 [==============================] - 3s 1ms/step - loss: 0.1931 - acc: 0.8926\n",
      "Epoch 16/20\n",
      "1750/1750 [==============================] - 2s 1ms/step - loss: 0.2154 - acc: 0.8823\n",
      "Epoch 17/20\n",
      "1750/1750 [==============================] - 2s 1ms/step - loss: 0.2114 - acc: 0.8783\n",
      "Epoch 18/20\n",
      "1750/1750 [==============================] - 2s 1ms/step - loss: 0.1847 - acc: 0.8971\n",
      "Epoch 19/20\n",
      "1750/1750 [==============================] - 3s 1ms/step - loss: 0.1756 - acc: 0.9006\n",
      "Epoch 20/20\n",
      "1750/1750 [==============================] - 3s 2ms/step - loss: 0.1727 - acc: 0.9029\n",
      "Model fitted.\n"
     ]
    }
   ],
   "source": [
    "hist = model.fit(X_train_padded_seq, y_train, epochs=20, batch_size=32, verbose=1)\n",
    "print(\"Model fitted.\")\n",
    "preds = model.predict(X_test_padded_seq) # It gives probabilities"
   ]
  },
  {
   "cell_type": "markdown",
   "metadata": {},
   "source": [
    "##### Results for CNN First LSTM"
   ]
  },
  {
   "cell_type": "code",
   "execution_count": 23,
   "metadata": {},
   "outputs": [
    {
     "name": "stdout",
     "output_type": "stream",
     "text": [
      "876/876 [==============================] - 1s 864us/step\n",
      "1750/1750 [==============================] - 1s 702us/step\n",
      "\n",
      "TestAcc  TrainAcc  Prec  Rec  F1  Sup\n",
      "  0.5399543381717107  0.9062857146263122  [0.54032258 0.53947368]  [0.60496614 0.47344111]  [0.57082002 0.50430504]  [443 433]\n"
     ]
    }
   ],
   "source": [
    "# Convert predictions to binary.\n",
    "threshold, pred = 0.5, []\n",
    "[pred.append(1 if preds[i]>threshold else 0) for i,j in enumerate(preds)]\n",
    "\n",
    "score_test = hist.model.evaluate(X_test_padded_seq, y_test)\n",
    "score_train = hist.model.evaluate(X_train_padded_seq, y_train)\n",
    "score_test, score_train\n",
    "\n",
    "precision, recall, f1, support = precision_recall_fscore_support(y_test, pred)\n",
    "\n",
    "print(\"\\nTestAcc\", \"TrainAcc\", \"Prec\", \"Rec\", \"F1\",\"Sup\\n\", score_test[1], score_train[1], precision, recall, f1, support, sep=\"  \")"
   ]
  },
  {
   "cell_type": "code",
   "execution_count": null,
   "metadata": {},
   "outputs": [],
   "source": []
  }
 ],
 "metadata": {
  "kernelspec": {
   "display_name": "Python 3",
   "language": "python",
   "name": "python3"
  },
  "language_info": {
   "codemirror_mode": {
    "name": "ipython",
    "version": 3
   },
   "file_extension": ".py",
   "mimetype": "text/x-python",
   "name": "python",
   "nbconvert_exporter": "python",
   "pygments_lexer": "ipython3",
   "version": "3.6.5"
  }
 },
 "nbformat": 4,
 "nbformat_minor": 2
}
