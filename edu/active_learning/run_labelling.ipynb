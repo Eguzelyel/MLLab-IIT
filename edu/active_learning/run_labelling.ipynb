{
 "cells": [
  {
   "cell_type": "markdown",
   "metadata": {},
   "source": [
    "### Run labelling"
   ]
  },
  {
   "cell_type": "code",
   "execution_count": 2,
   "metadata": {},
   "outputs": [],
   "source": [
    "# import label() from label.py\n",
    "from label import label\n",
    "# import samplers from sampler.py\n",
    "from sampler import Sampler, UncertaintySampler"
   ]
  },
  {
   "cell_type": "code",
   "execution_count": 3,
   "metadata": {},
   "outputs": [],
   "source": [
    "sampler = UncertaintySampler()"
   ]
  },
  {
   "cell_type": "code",
   "execution_count": 43,
   "metadata": {
    "scrolled": false
   },
   "outputs": [
    {
     "name": "stdout",
     "output_type": "stream",
     "text": [
      "EDU:\n",
      "\t that ford was going for great funny hero guy\n",
      "\n",
      "Please label this EDU: ( n = negative | z = neutral | p = positive )p\n",
      "======> LABELED P \n",
      "\n",
      "EDU:\n",
      "\t rather than any supposed underlying message coming out for the rest of us to consider .\n",
      "\n",
      "Please label this EDU: ( n = negative | z = neutral | p = positive )z\n",
      "======> LABELED Z \n",
      "\n",
      "EDU:\n",
      "\t like orca are known for killing great white shark ,\n",
      "\n",
      "Please label this EDU: ( n = negative | z = neutral | p = positive )z\n",
      "======> LABELED Z \n",
      "\n",
      "EDU:\n",
      "\t a reluctant hero/ leader and definitely lacks lewis ' machismo .\n",
      "\n",
      "Please label this EDU: ( n = negative | z = neutral | p = positive )n\n",
      "======> LABELED N \n",
      "\n",
      "EDU:\n",
      "\t why the nice hero girl wanted to kill the funny lady\n",
      "\n",
      "Please label this EDU: ( n = negative | z = neutral | p = positive )n\n",
      "======> LABELED N \n",
      "\n",
      "EDU:\n",
      "\t how did they get the great orson welle to narrate this train wreck ?\n",
      "\n",
      "Please label this EDU: ( n = negative | z = neutral | p = positive )n\n",
      "======> LABELED N \n",
      "\n",
      "EDU:\n",
      "\t that for the message board to debate.the sex scene i assume are supposed to be funny ,\n",
      "\n",
      "Please label this EDU: ( n = negative | z = neutral | p = positive )p\n",
      "======> LABELED P \n",
      "\n",
      "EDU:\n",
      "\t soul survivor has the look of a bad been-there\n",
      "\n",
      "Please label this EDU: ( n = negative | z = neutral | p = positive )n\n",
      "======> LABELED N \n",
      "\n",
      "EDU:\n",
      "\t he really got beaten badly\n",
      "\n",
      "Please label this EDU: ( n = negative | z = neutral | p = positive )z\n",
      "======> LABELED Z \n",
      "\n",
      "EDU:\n",
      "\t without the fund\n",
      "\n",
      "Please label this EDU: ( n = negative | z = neutral | p = positive )z\n",
      "======> LABELED Z \n",
      "\n",
      "EDU:\n",
      "\t one of the rare\n",
      "\n",
      "Please label this EDU: ( n = negative | z = neutral | p = positive )z\n",
      "======> LABELED Z \n",
      "\n",
      "EDU:\n",
      "\t having person 's head chopped off and sent in box and sack could have been avoided.no complaint - 7/10\n",
      "\n",
      "Please label this EDU: ( n = negative | z = neutral | p = positive )p\n",
      "======> LABELED P \n",
      "\n",
      "EDU:\n",
      "\t and the boyfriend supposed to be funny ?\n",
      "\n",
      "Please label this EDU: ( n = negative | z = neutral | p = positive )n\n",
      "======> LABELED N \n",
      "\n",
      "EDU:\n",
      "\t as she went on to confirm in kiss me stupid .\n",
      "\n",
      "Please label this EDU: ( n = negative | z = neutral | p = positive )z\n",
      "======> LABELED Z \n",
      "\n",
      "EDU:\n",
      "\t but fails.when she returns home\n",
      "\n",
      "Please label this EDU: ( n = negative | z = neutral | p = positive )z\n",
      "======> LABELED Z \n",
      "\n",
      "EDU:\n",
      "\t and wanted to kill him ... so stupid scenario !\n",
      "\n",
      "Please label this EDU: ( n = negative | z = neutral | p = positive )n\n",
      "======> LABELED N \n",
      "\n",
      "EDU:\n",
      "\t he proclaims his great love of and affinity toward animal ,\n",
      "\n",
      "Please label this EDU: ( n = negative | z = neutral | p = positive )z\n",
      "======> LABELED Z \n",
      "\n",
      "EDU:\n",
      "\t he has poor mary beth hurt copy all of his thespian tics\n",
      "\n",
      "Please label this EDU: ( n = negative | z = neutral | p = positive )z\n",
      "======> LABELED Z \n",
      "\n",
      "EDU:\n",
      "\t instead of being boringly confined to a lectern .\n",
      "\n",
      "Please label this EDU: ( n = negative | z = neutral | p = positive )z\n",
      "======> LABELED Z \n",
      "\n",
      "EDU:\n",
      "\t to thereby maintain the funding necessary for the continuation of the project.at the last minute\n",
      "\n",
      "Please label this EDU: ( n = negative | z = neutral | p = positive )z\n",
      "======> LABELED Z \n",
      "\n",
      "continue? T/F F\n",
      "======> END <======\n"
     ]
    }
   ],
   "source": [
    "label(sampler)"
   ]
  },
  {
   "cell_type": "code",
   "execution_count": 7,
   "metadata": {
    "collapsed": true
   },
   "outputs": [
    {
     "data": {
      "text/plain": [
       "[\"anne of green gable ings unlooked-for happiness into the life of a lonely old sister and other on prince edward island.lucy maud montgomery 's well-loved novel comes to life in this wonderful little movie . p\\n\",\n",
       " 'that i have felt compelled to rate 1/10 . n\\n',\n",
       " \"there is one solitary laughable elemant in `` whipped '' - z\\n\",\n",
       " 'then unfortunately this movie will be beyond compassion for you . p\\n',\n",
       " 'with the horrible notoriety after the trial z\\n',\n",
       " 'takashi shimizu had a great opportunity with a remake of his original film ju-on the grudge . z\\n',\n",
       " \"curious teenager has 'all grown up ' into a bland z\\n\",\n",
       " 'that has ever been in a bad sci-fi series . z\\n',\n",
       " 'the maker missed a great chance n\\n',\n",
       " 'he was laughable z\\n',\n",
       " 'how bad could it be n\\n',\n",
       " 'and has a great deal of talent . p\\n',\n",
       " 'i loved her as sara deever z\\n',\n",
       " 'i would be shocked to see any child under the age of 8 not completely terrified throughout a great deal of the latter half and some of the first half of the movie , z\\n',\n",
       " 'who are poor , z\\n',\n",
       " 'funny to see you here again , z\\n',\n",
       " 'that they wasted their time and gift n\\n',\n",
       " 'and i do not blame it one bit . z\\n',\n",
       " 'is that the bad review seem to get him to wake up and realise z\\n',\n",
       " 'you have got mail and feeling disappointed , z\\n',\n",
       " 'the coffee slogan is a lousy thing n\\n',\n",
       " 'who has gone through such beautiful moment in their life . z\\n',\n",
       " 'and incredible special effect is a fitting end to one of the most beloved franchise in cinema history . p\\n',\n",
       " 'although i have enjoyed bing crosby in other movie , z\\n',\n",
       " 'each of us have a favorite chef and favorite judge . z\\n']"
      ]
     },
     "execution_count": 7,
     "metadata": {},
     "output_type": "execute_result"
    }
   ],
   "source": [
    "sampler.labeled[-25:]"
   ]
  },
  {
   "cell_type": "markdown",
   "metadata": {},
   "source": [
    "Checkpoint:\n",
    "1. Not sure -> 4081"
   ]
  },
  {
   "cell_type": "code",
   "execution_count": 44,
   "metadata": {
    "scrolled": true
   },
   "outputs": [
    {
     "data": {
      "text/plain": [
       "5081"
      ]
     },
     "execution_count": 44,
     "metadata": {},
     "output_type": "execute_result"
    }
   ],
   "source": [
    "len(sampler.labeled)"
   ]
  }
 ],
 "metadata": {
  "kernelspec": {
   "display_name": "Python 3",
   "language": "python",
   "name": "python3"
  },
  "language_info": {
   "codemirror_mode": {
    "name": "ipython",
    "version": 3
   },
   "file_extension": ".py",
   "mimetype": "text/x-python",
   "name": "python",
   "nbconvert_exporter": "python",
   "pygments_lexer": "ipython3",
   "version": "3.6.5"
  }
 },
 "nbformat": 4,
 "nbformat_minor": 2
}
