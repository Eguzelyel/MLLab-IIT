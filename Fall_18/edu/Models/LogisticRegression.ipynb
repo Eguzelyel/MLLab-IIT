{
 "cells": [
  {
   "cell_type": "code",
   "execution_count": 19,
   "metadata": {},
   "outputs": [],
   "source": [
    "import labeled_functions\n",
    "from sklearn.linear_model import LogisticRegression\n",
    "import numpy as np\n",
    "from sklearn.metrics import confusion_matrix, precision_recall_fscore_support, log_loss\n",
    "import matplotlib.pyplot as plt"
   ]
  },
  {
   "cell_type": "code",
   "execution_count": 20,
   "metadata": {
    "scrolled": false
   },
   "outputs": [
    {
     "name": "stdout",
     "output_type": "stream",
     "text": [
      "Labeled Data loaded.\n",
      "Data Vectorized\n"
     ]
    }
   ],
   "source": [
    "X_train_vector , y_train, X_test_vector , y_test = labeled_functions.split_and_vectorize()"
   ]
  },
  {
   "cell_type": "code",
   "execution_count": 21,
   "metadata": {},
   "outputs": [
    {
     "data": {
      "text/plain": [
       "(1318, 347)"
      ]
     },
     "execution_count": 21,
     "metadata": {},
     "output_type": "execute_result"
    }
   ],
   "source": [
    "X_train_vector.shape"
   ]
  },
  {
   "cell_type": "markdown",
   "metadata": {},
   "source": [
    "##### _Experimental_"
   ]
  },
  {
   "cell_type": "code",
   "execution_count": 5,
   "metadata": {},
   "outputs": [
    {
     "data": {
      "text/plain": [
       "347"
      ]
     },
     "execution_count": 5,
     "metadata": {},
     "output_type": "execute_result"
    }
   ],
   "source": [
    "len(X_train_vector.toarray()[10])"
   ]
  },
  {
   "cell_type": "code",
   "execution_count": 6,
   "metadata": {},
   "outputs": [
    {
     "name": "stdout",
     "output_type": "stream",
     "text": [
      "Labeled Data loaded.\n",
      "Data Vectorized with ngram\n"
     ]
    }
   ],
   "source": [
    "X2_train_vector , y2_train, X2_test_vector , y2_test = labeled_functions.split_ngram(1,3)"
   ]
  },
  {
   "cell_type": "code",
   "execution_count": 7,
   "metadata": {
    "scrolled": false
   },
   "outputs": [
    {
     "name": "stdout",
     "output_type": "stream",
     "text": [
      "X_train_vector: Type: <class 'scipy.sparse.csr.csr_matrix'> \tShape: (1318, 347)\n",
      "y_train: \tType: <class 'numpy.ndarray'> \t\t\tShape: 1318\n",
      "X_test_vector: \tType: <class 'scipy.sparse.csr.csr_matrix'> \tShape: (660, 347)\n",
      "y_test: \tType: <class 'numpy.ndarray'> \t\t\tShape: 660\n"
     ]
    }
   ],
   "source": [
    "print(\"X_train_vector: Type:\", type(X_train_vector),\"\\tShape:\", X_train_vector.shape)\n",
    "print(\"y_train: \\tType:\", type(y_train),\"\\t\\t\\tShape:\", len(y_train))\n",
    "print(\"X_test_vector: \\tType:\", type(X_test_vector),\"\\tShape:\", X_test_vector.shape)\n",
    "print(\"y_test: \\tType:\", type(y_test),\"\\t\\t\\tShape:\", len(y_test))"
   ]
  },
  {
   "cell_type": "code",
   "execution_count": 8,
   "metadata": {},
   "outputs": [
    {
     "data": {
      "text/plain": [
       "482"
      ]
     },
     "execution_count": 8,
     "metadata": {},
     "output_type": "execute_result"
    }
   ],
   "source": [
    "len(X2_train_vector.toarray()[100])"
   ]
  },
  {
   "cell_type": "code",
   "execution_count": 9,
   "metadata": {},
   "outputs": [
    {
     "name": "stdout",
     "output_type": "stream",
     "text": [
      "X2_train_vector: Type: <class 'scipy.sparse.csr.csr_matrix'> \tShape: (1318, 482)\n",
      "y2_train: \t Type: <class 'numpy.ndarray'> \t\t\tShape: 1318\n",
      "X2_test_vector:\t Type: <class 'scipy.sparse.csr.csr_matrix'> \tShape: (660, 482)\n",
      "y2_test: \t Type: <class 'numpy.ndarray'> \t\t\tShape: 660\n"
     ]
    }
   ],
   "source": [
    "print(\"X2_train_vector: Type:\", type(X2_train_vector),\"\\tShape:\", X2_train_vector.shape)\n",
    "print(\"y2_train: \\t Type:\", type(y2_train),\"\\t\\t\\tShape:\", len(y2_train))\n",
    "print(\"X2_test_vector:\\t Type:\", type(X2_test_vector),\"\\tShape:\", X2_test_vector.shape)\n",
    "print(\"y2_test: \\t Type:\", type(y2_test),\"\\t\\t\\tShape:\", len(y2_test))"
   ]
  },
  {
   "cell_type": "markdown",
   "metadata": {},
   "source": [
    "_Experiment ends_ "
   ]
  },
  {
   "cell_type": "code",
   "execution_count": 22,
   "metadata": {},
   "outputs": [
    {
     "data": {
      "image/png": "[encoded data removed]",
      "text/plain": [
       "<Figure size 432x288 with 1 Axes>"
      ]
     },
     "metadata": {},
     "output_type": "display_data"
    }
   ],
   "source": [
    "lr_scores=[]\n",
    "val =[]\n",
    "for i in [0.001,0.005,0.01,0.05, 0.1,0.25,0.5,0.75,1, 1.5, 2, 5, 10, 15,20, 100]:\n",
    "    lr = LogisticRegression(C=i, random_state=42, penalty='l2')\n",
    "    lr.fit(X_train_vector, y_train)\n",
    "    preds_binary = lr.predict(X_test_vector)\n",
    "    \n",
    "    pred_probs_train = lr.predict_proba(X_train_vector)\n",
    "    pred_probs = lr.predict_proba(X_test_vector)\n",
    "    precision, recall, fscore, support = precision_recall_fscore_support(y_test, preds_binary)\n",
    "#     print(precision, recall)\n",
    "    lr_scores.append((i, lr.score(X_train_vector, y_train), lr.score(X_test_vector, y_test)))\n",
    "    val.append((log_loss(y_train, pred_probs_train), log_loss(y_test, pred_probs)))\n",
    "    \n",
    "\n",
    "# print([lr_scores[x] for x in range(len(lr_scores))])\n",
    "x = [str(lr_scores[x][0]) for x in range(len(lr_scores))]\n",
    "# print(x)\n",
    "\n",
    "# plt.plot(x, [lr_scores[x][1] for x in range(len(lr_scores))])\n",
    "# plt.plot(x, [lr_scores[x][2] for x in range(len(lr_scores))])\n",
    "plt.plot(x, [val[x][0] for x in range(len(val))])\n",
    "plt.plot(x, [val[x][1] for x in range(len(val))])\n",
    "plt.legend(['y = log_loss(train)', 'y = log_loss(test)'], loc='upper left')\n",
    "plt.title(\"Log_loss vs C\")\n",
    "plt.show()\n",
    "\n",
    "# print([val[x] for x in range(len(val))])"
   ]
  },
  {
   "cell_type": "code",
   "execution_count": 23,
   "metadata": {},
   "outputs": [
    {
     "data": {
      "text/plain": [
       "[(0.001, 0.6031866464339909, 0.5833333333333334),\n",
       " (0.005, 0.6783004552352049, 0.6272727272727273),\n",
       " (0.01, 0.7132018209408194, 0.646969696969697),\n",
       " (0.05, 0.8042488619119879, 0.7015151515151515),\n",
       " (0.1, 0.8406676783004552, 0.7181818181818181),\n",
       " (0.25, 0.8558421851289834, 0.7454545454545455),\n",
       " (0.5, 0.8786039453717754, 0.7545454545454545),\n",
       " (0.75, 0.881638846737481, 0.759090909090909),\n",
       " (1, 0.8831562974203339, 0.759090909090909),\n",
       " (1.5, 0.8846737481031867, 0.7636363636363637),\n",
       " (2, 0.8915022761760243, 0.7621212121212121),\n",
       " (5, 0.8998482549317147, 0.7439393939393939),\n",
       " (10, 0.9081942336874052, 0.7484848484848485),\n",
       " (15, 0.909711684370258, 0.7454545454545455),\n",
       " (20, 0.9119878603945372, 0.7439393939393939),\n",
       " (100, 0.9157814871016692, 0.7484848484848485)]"
      ]
     },
     "execution_count": 23,
     "metadata": {},
     "output_type": "execute_result"
    }
   ],
   "source": [
    "lr_scores"
   ]
  },
  {
   "cell_type": "code",
   "execution_count": 24,
   "metadata": {},
   "outputs": [
    {
     "data": {
      "text/plain": [
       "0.8786039453717754"
      ]
     },
     "execution_count": 24,
     "metadata": {},
     "output_type": "execute_result"
    }
   ],
   "source": [
    "# best C=0.5\n",
    "lr = LogisticRegression(C=0.5)\n",
    "lr.fit(X_train_vector, y_train)\n",
    "preds_binary = lr.predict(X_test_vector)\n",
    "preds_prob = lr.predict_proba(X_test_vector)\n",
    "lr.score(X_test_vector, y_test)\n",
    "lr.score(X_train_vector, y_train)"
   ]
  },
  {
   "cell_type": "code",
   "execution_count": 25,
   "metadata": {
    "scrolled": true
   },
   "outputs": [
    {
     "data": {
      "text/plain": [
       "array([[263,  85],\n",
       "       [ 77, 235]])"
      ]
     },
     "execution_count": 25,
     "metadata": {},
     "output_type": "execute_result"
    }
   ],
   "source": [
    "confusion_matrix(y_test, preds_binary)"
   ]
  },
  {
   "cell_type": "code",
   "execution_count": 26,
   "metadata": {},
   "outputs": [],
   "source": [
    "precision, recall, fscore, support = precision_recall_fscore_support(y_test, preds_binary)"
   ]
  },
  {
   "cell_type": "code",
   "execution_count": 27,
   "metadata": {},
   "outputs": [
    {
     "data": {
      "text/plain": [
       "(array([0.77352941, 0.734375  ]), array([0.75574713, 0.75320513]))"
      ]
     },
     "execution_count": 27,
     "metadata": {},
     "output_type": "execute_result"
    }
   ],
   "source": [
    "precision , recall"
   ]
  },
  {
   "cell_type": "code",
   "execution_count": null,
   "metadata": {},
   "outputs": [],
   "source": []
  }
 ],
 "metadata": {
  "kernelspec": {
   "display_name": "Python 3",
   "language": "python",
   "name": "python3"
  },
  "language_info": {
   "codemirror_mode": {
    "name": "ipython",
    "version": 3
   },
   "file_extension": ".py",
   "mimetype": "text/x-python",
   "name": "python",
   "nbconvert_exporter": "python",
   "pygments_lexer": "ipython3",
   "version": "3.6.5"
  }
 },
 "nbformat": 4,
 "nbformat_minor": 2
}
