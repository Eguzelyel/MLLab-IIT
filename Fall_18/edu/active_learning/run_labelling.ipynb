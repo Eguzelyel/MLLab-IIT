{
 "cells": [
  {
   "cell_type": "markdown",
   "metadata": {},
   "source": [
    "### Run labelling"
   ]
  },
  {
   "cell_type": "code",
   "execution_count": 11,
   "metadata": {},
   "outputs": [],
   "source": [
    "# import label() from label.py\n",
    "from label import label\n",
    "# import samplers from sampler.py\n",
    "from sampler import Sampler, UncertaintySampler, RandomSampler"
   ]
  },
  {
   "cell_type": "code",
   "execution_count": 12,
   "metadata": {},
   "outputs": [],
   "source": [
    "sampler = UncertaintySampler()\n",
    "random_sampler = RandomSampler()"
   ]
  },
  {
   "cell_type": "code",
   "execution_count": null,
   "metadata": {},
   "outputs": [],
   "source": []
  },
  {
   "cell_type": "code",
   "execution_count": 22,
   "metadata": {
    "scrolled": false
   },
   "outputs": [
    {
     "name": "stdout",
     "output_type": "stream",
     "text": [
      "EDU:\n",
      "\t with alexis smith a beautiful romantic sparring partner and perpetual sidekick alan hale along for good measure\n",
      "\n",
      "Please label this EDU: ( n = negative | z = neutral | p = positive )z\n",
      "======> LABELED Z \n",
      "\n",
      "EDU:\n",
      "\t i can appreciate and/or forgive bad\n",
      "\n",
      "Please label this EDU: ( n = negative | z = neutral | p = positive )z\n",
      "======> LABELED Z \n",
      "\n",
      "EDU:\n",
      "\t the acting was not extremely bad for a made for tv flick ,\n",
      "\n",
      "Please label this EDU: ( n = negative | z = neutral | p = positive )z\n",
      "======> LABELED Z \n",
      "\n",
      "EDU:\n",
      "\t the trailer made it look funny\n",
      "\n",
      "Please label this EDU: ( n = negative | z = neutral | p = positive )p\n",
      "======> LABELED P \n",
      "\n",
      "EDU:\n",
      "\t to use their flamethrower\n",
      "\n",
      "Please label this EDU: ( n = negative | z = neutral | p = positive )z\n",
      "======> LABELED Z \n",
      "\n",
      "EDU:\n",
      "\t another great orchestral score by max steiner helps keep the drama rolling - all in all\n",
      "\n",
      "Please label this EDU: ( n = negative | z = neutral | p = positive )p\n",
      "======> LABELED P \n",
      "\n",
      "EDU:\n",
      "\t the ending of the movie was about as predictable\n",
      "\n",
      "Please label this EDU: ( n = negative | z = neutral | p = positive )n\n",
      "======> LABELED N \n",
      "\n",
      "EDU:\n",
      "\t this is one of the worst film adaptation of a musical ever made .\n",
      "\n",
      "Please label this EDU: ( n = negative | z = neutral | p = positive )n\n",
      "======> LABELED N \n",
      "\n",
      "EDU:\n",
      "\t and lacks the annoying musical scene replaying in the former one ,\n",
      "\n",
      "Please label this EDU: ( n = negative | z = neutral | p = positive )n\n",
      "======> LABELED N \n",
      "\n",
      "EDU:\n",
      "\t and bad music .\n",
      "\n",
      "Please label this EDU: ( n = negative | z = neutral | p = positive )n\n",
      "======> LABELED N \n",
      "\n",
      "EDU:\n",
      "\t if your show makes me long for the worst trek show ever ,\n",
      "\n",
      "Please label this EDU: ( n = negative | z = neutral | p = positive )n\n",
      "======> LABELED N \n",
      "\n",
      "EDU:\n",
      "\t and ultimately just a bit of fun .\n",
      "\n",
      "Please label this EDU: ( n = negative | z = neutral | p = positive )z\n",
      "======> LABELED Z \n",
      "\n",
      "EDU:\n",
      "\t it was my favorite scene in the movie ,\n",
      "\n",
      "Please label this EDU: ( n = negative | z = neutral | p = positive )z\n",
      "======> LABELED Z \n",
      "\n",
      "EDU:\n",
      "\t stupid ,\n",
      "\n",
      "Please label this EDU: ( n = negative | z = neutral | p = positive )n\n",
      "======> LABELED N \n",
      "\n",
      "EDU:\n",
      "\t but it is well-done and thoroughly enjoyable .\n",
      "\n",
      "Please label this EDU: ( n = negative | z = neutral | p = positive )p\n",
      "======> LABELED P \n",
      "\n",
      "EDU:\n",
      "\t this film is a wonderfully simplistic work .\n",
      "\n",
      "Please label this EDU: ( n = negative | z = neutral | p = positive )p\n",
      "======> LABELED P \n",
      "\n",
      "EDU:\n",
      "\t until it becomes convoluted and stupid .\n",
      "\n",
      "Please label this EDU: ( n = negative | z = neutral | p = positive )n\n",
      "======> LABELED N \n",
      "\n",
      "EDU:\n",
      "\t `` fungicide '' is an absolute travesty of film-making .\n",
      "\n",
      "Please label this EDU: ( n = negative | z = neutral | p = positive )n\n",
      "======> LABELED N \n",
      "\n",
      "EDU:\n",
      "\t that the creator of best intention and pelle the conqueror could make such a bleak and boring film .\n",
      "\n",
      "Please label this EDU: ( n = negative | z = neutral | p = positive )n\n",
      "======> LABELED N \n",
      "\n",
      "EDU:\n",
      "\t that ridiculous .\n",
      "\n",
      "Please label this EDU: ( n = negative | z = neutral | p = positive )n\n",
      "======> LABELED N \n",
      "\n",
      "continue? T/F F\n",
      "======> END <======\n"
     ]
    }
   ],
   "source": [
    "label(random_sampler)"
   ]
  },
  {
   "cell_type": "code",
   "execution_count": null,
   "metadata": {
    "scrolled": true
   },
   "outputs": [],
   "source": [
    "random_sampler.labeled[-25:]"
   ]
  },
  {
   "cell_type": "markdown",
   "metadata": {},
   "source": [
    "Checkpoint:\n",
    "1. Not sure -> 4081\n",
    "2. 5081 (Before Thursday)"
   ]
  },
  {
   "cell_type": "markdown",
   "metadata": {},
   "source": [
    "Uncercainty - 5232"
   ]
  },
  {
   "cell_type": "code",
   "execution_count": 23,
   "metadata": {
    "scrolled": true
   },
   "outputs": [
    {
     "data": {
      "text/plain": [
       "709"
      ]
     },
     "execution_count": 23,
     "metadata": {},
     "output_type": "execute_result"
    }
   ],
   "source": [
    "len(random_sampler.labeled)"
   ]
  }
 ],
 "metadata": {
  "kernelspec": {
   "display_name": "Python 3",
   "language": "python",
   "name": "python3"
  },
  "language_info": {
   "codemirror_mode": {
    "name": "ipython",
    "version": 3
   },
   "file_extension": ".py",
   "mimetype": "text/x-python",
   "name": "python",
   "nbconvert_exporter": "python",
   "pygments_lexer": "ipython3",
   "version": "3.6.5"
  }
 },
 "nbformat": 4,
 "nbformat_minor": 2
}
